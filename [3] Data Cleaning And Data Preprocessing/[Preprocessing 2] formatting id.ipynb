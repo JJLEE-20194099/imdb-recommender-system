{
 "cells": [
  {
   "cell_type": "code",
   "execution_count": 1,
   "metadata": {},
   "outputs": [],
   "source": [
    "import pandas as pd\n",
    "import numpy as np"
   ]
  },
  {
   "cell_type": "code",
   "execution_count": 2,
   "metadata": {},
   "outputs": [],
   "source": [
    "movies = pd.read_csv('../data/datasets/movie/remaining_detail.csv', sep=',', encoding='latin-1')"
   ]
  },
  {
   "cell_type": "code",
   "execution_count": 3,
   "metadata": {},
   "outputs": [
    {
     "data": {
      "text/html": [
       "<div>\n",
       "<style scoped>\n",
       "    .dataframe tbody tr th:only-of-type {\n",
       "        vertical-align: middle;\n",
       "    }\n",
       "\n",
       "    .dataframe tbody tr th {\n",
       "        vertical-align: top;\n",
       "    }\n",
       "\n",
       "    .dataframe thead th {\n",
       "        text-align: right;\n",
       "    }\n",
       "</style>\n",
       "<table border=\"1\" class=\"dataframe\">\n",
       "  <thead>\n",
       "    <tr style=\"text-align: right;\">\n",
       "      <th></th>\n",
       "      <th>movie id</th>\n",
       "      <th>title</th>\n",
       "      <th>series</th>\n",
       "      <th>release year</th>\n",
       "      <th>certification</th>\n",
       "      <th>duration</th>\n",
       "      <th>average rating</th>\n",
       "      <th>rating total</th>\n",
       "      <th>genre list</th>\n",
       "      <th>content</th>\n",
       "      <th>countries of origin</th>\n",
       "      <th>official sites</th>\n",
       "      <th>languages</th>\n",
       "      <th>production companies</th>\n",
       "      <th>budget</th>\n",
       "    </tr>\n",
       "  </thead>\n",
       "  <tbody>\n",
       "    <tr>\n",
       "      <th>0</th>\n",
       "      <td>tt0102813</td>\n",
       "      <td>Rover Dangerfield</td>\n",
       "      <td>NaN</td>\n",
       "      <td>1991</td>\n",
       "      <td>G</td>\n",
       "      <td>1h 14m</td>\n",
       "      <td>6.0</td>\n",
       "      <td>3K</td>\n",
       "      <td>Animation|Comedy|Family</td>\n",
       "      <td>A Vegas show dog gets ditched in the sticks an...</td>\n",
       "      <td>United States</td>\n",
       "      <td>NaN</td>\n",
       "      <td>English</td>\n",
       "      <td>NaN</td>\n",
       "      <td>NaN</td>\n",
       "    </tr>\n",
       "    <tr>\n",
       "      <th>1</th>\n",
       "      <td>tt1086761</td>\n",
       "      <td>Keeping Up with the Kardashians</td>\n",
       "      <td>TV Series</td>\n",
       "      <td>2006â2021</td>\n",
       "      <td>TV-14</td>\n",
       "      <td>44m</td>\n",
       "      <td>2.8</td>\n",
       "      <td>29K</td>\n",
       "      <td>Drama|Family|Reality-TV</td>\n",
       "      <td>A peek inside the exploits and privileged priv...</td>\n",
       "      <td>United States</td>\n",
       "      <td>Official sites|Official Facebook|Official Inst...</td>\n",
       "      <td>English|Spanish</td>\n",
       "      <td>NaN</td>\n",
       "      <td>NaN</td>\n",
       "    </tr>\n",
       "    <tr>\n",
       "      <th>2</th>\n",
       "      <td>tt0075686</td>\n",
       "      <td>Annie Hall</td>\n",
       "      <td>NaN</td>\n",
       "      <td>1977</td>\n",
       "      <td>PG</td>\n",
       "      <td>1h 33m</td>\n",
       "      <td>8.0</td>\n",
       "      <td>259K</td>\n",
       "      <td>Comedy|Romance</td>\n",
       "      <td>Alvy Singer, a divorced Jewish comedian, refle...</td>\n",
       "      <td>United States</td>\n",
       "      <td>NaN</td>\n",
       "      <td>English|German</td>\n",
       "      <td>NaN</td>\n",
       "      <td>$38,287,178</td>\n",
       "    </tr>\n",
       "    <tr>\n",
       "      <th>3</th>\n",
       "      <td>tt1402488</td>\n",
       "      <td>Happy Feet Two</td>\n",
       "      <td>NaN</td>\n",
       "      <td>2011</td>\n",
       "      <td>PG</td>\n",
       "      <td>1h 40m</td>\n",
       "      <td>5.9</td>\n",
       "      <td>44K</td>\n",
       "      <td>Animation|Adventure|Comedy</td>\n",
       "      <td>Mumble's son, Erik, is struggling to realize h...</td>\n",
       "      <td>Australia|United States|Antarctica|New Zealand</td>\n",
       "      <td>Official site</td>\n",
       "      <td>English</td>\n",
       "      <td>NaN</td>\n",
       "      <td>$159,197,038</td>\n",
       "    </tr>\n",
       "    <tr>\n",
       "      <th>4</th>\n",
       "      <td>tt1087461</td>\n",
       "      <td>Megan Is Missing</td>\n",
       "      <td>NaN</td>\n",
       "      <td>2011</td>\n",
       "      <td>Not Rated</td>\n",
       "      <td>1h 25m</td>\n",
       "      <td>4.5</td>\n",
       "      <td>12K</td>\n",
       "      <td>Drama|Horror|Thriller</td>\n",
       "      <td>Two teenage girls encounter an Internet child ...</td>\n",
       "      <td>United States</td>\n",
       "      <td>MySpace|Official site</td>\n",
       "      <td>English</td>\n",
       "      <td>NaN</td>\n",
       "      <td>NaN</td>\n",
       "    </tr>\n",
       "  </tbody>\n",
       "</table>\n",
       "</div>"
      ],
      "text/plain": [
       "    movie id                            title     series release year  \\\n",
       "0  tt0102813                Rover Dangerfield        NaN         1991   \n",
       "1  tt1086761  Keeping Up with the Kardashians  TV Series  2006â2021   \n",
       "2  tt0075686                       Annie Hall        NaN         1977   \n",
       "3  tt1402488                   Happy Feet Two        NaN         2011   \n",
       "4  tt1087461                 Megan Is Missing        NaN         2011   \n",
       "\n",
       "  certification duration  average rating rating total  \\\n",
       "0             G   1h 14m             6.0           3K   \n",
       "1         TV-14      44m             2.8          29K   \n",
       "2            PG   1h 33m             8.0         259K   \n",
       "3            PG   1h 40m             5.9          44K   \n",
       "4     Not Rated   1h 25m             4.5          12K   \n",
       "\n",
       "                   genre list  \\\n",
       "0     Animation|Comedy|Family   \n",
       "1     Drama|Family|Reality-TV   \n",
       "2              Comedy|Romance   \n",
       "3  Animation|Adventure|Comedy   \n",
       "4       Drama|Horror|Thriller   \n",
       "\n",
       "                                             content  \\\n",
       "0  A Vegas show dog gets ditched in the sticks an...   \n",
       "1  A peek inside the exploits and privileged priv...   \n",
       "2  Alvy Singer, a divorced Jewish comedian, refle...   \n",
       "3  Mumble's son, Erik, is struggling to realize h...   \n",
       "4  Two teenage girls encounter an Internet child ...   \n",
       "\n",
       "                              countries of origin  \\\n",
       "0                                   United States   \n",
       "1                                   United States   \n",
       "2                                   United States   \n",
       "3  Australia|United States|Antarctica|New Zealand   \n",
       "4                                   United States   \n",
       "\n",
       "                                      official sites        languages  \\\n",
       "0                                                NaN          English   \n",
       "1  Official sites|Official Facebook|Official Inst...  English|Spanish   \n",
       "2                                                NaN   English|German   \n",
       "3                                      Official site          English   \n",
       "4                              MySpace|Official site          English   \n",
       "\n",
       "   production companies        budget  \n",
       "0                   NaN           NaN  \n",
       "1                   NaN           NaN  \n",
       "2                   NaN   $38,287,178  \n",
       "3                   NaN  $159,197,038  \n",
       "4                   NaN           NaN  "
      ]
     },
     "execution_count": 3,
     "metadata": {},
     "output_type": "execute_result"
    }
   ],
   "source": [
    "movies.head()"
   ]
  },
  {
   "cell_type": "code",
   "execution_count": 4,
   "metadata": {},
   "outputs": [
    {
     "data": {
      "text/plain": [
       "(8352, 15)"
      ]
     },
     "execution_count": 4,
     "metadata": {},
     "output_type": "execute_result"
    }
   ],
   "source": [
    "movies.shape"
   ]
  },
  {
   "cell_type": "code",
   "execution_count": 5,
   "metadata": {},
   "outputs": [],
   "source": [
    "ratings = pd.read_csv('../data/datasets/rating/remaining_detail.csv', sep=',', encoding='latin-1')"
   ]
  },
  {
   "cell_type": "code",
   "execution_count": 6,
   "metadata": {},
   "outputs": [
    {
     "data": {
      "text/plain": [
       "8352"
      ]
     },
     "execution_count": 6,
     "metadata": {},
     "output_type": "execute_result"
    }
   ],
   "source": [
    "len(ratings['movie id'].value_counts())"
   ]
  },
  {
   "cell_type": "code",
   "execution_count": 7,
   "metadata": {},
   "outputs": [],
   "source": [
    "movie_ids = ratings['movie id'].value_counts().index.tolist()\n",
    "movie_id_df = pd.DataFrame(columns=['movie id', 'movie index'])\n",
    "movie_id_df['movie id'] = movie_ids\n",
    "movie_id_df['movie index'] = np.arange(len(movie_ids))"
   ]
  },
  {
   "cell_type": "code",
   "execution_count": 8,
   "metadata": {},
   "outputs": [],
   "source": [
    "user_ids = ratings['user id'].value_counts().index.tolist()\n",
    "user_id_df = pd.DataFrame(columns=['user id', 'user index'])\n",
    "user_id_df['user id'] = user_ids\n",
    "user_id_df['user index'] = np.arange(len(user_ids))"
   ]
  },
  {
   "cell_type": "code",
   "execution_count": 9,
   "metadata": {},
   "outputs": [
    {
     "data": {
      "text/plain": [
       "1390"
      ]
     },
     "execution_count": 9,
     "metadata": {},
     "output_type": "execute_result"
    }
   ],
   "source": [
    "len(user_id_df)"
   ]
  },
  {
   "cell_type": "code",
   "execution_count": 10,
   "metadata": {},
   "outputs": [
    {
     "data": {
      "text/html": [
       "<div>\n",
       "<style scoped>\n",
       "    .dataframe tbody tr th:only-of-type {\n",
       "        vertical-align: middle;\n",
       "    }\n",
       "\n",
       "    .dataframe tbody tr th {\n",
       "        vertical-align: top;\n",
       "    }\n",
       "\n",
       "    .dataframe thead th {\n",
       "        text-align: right;\n",
       "    }\n",
       "</style>\n",
       "<table border=\"1\" class=\"dataframe\">\n",
       "  <thead>\n",
       "    <tr style=\"text-align: right;\">\n",
       "      <th></th>\n",
       "      <th>movie id</th>\n",
       "      <th>user id</th>\n",
       "      <th>rating</th>\n",
       "      <th>content</th>\n",
       "      <th>date</th>\n",
       "      <th>movie index</th>\n",
       "    </tr>\n",
       "  </thead>\n",
       "  <tbody>\n",
       "    <tr>\n",
       "      <th>0</th>\n",
       "      <td>tt0102813</td>\n",
       "      <td>ur0391152</td>\n",
       "      <td>2</td>\n",
       "      <td>I've always had kind of a perverse curiosity a...</td>\n",
       "      <td>22 August 2010</td>\n",
       "      <td>6914</td>\n",
       "    </tr>\n",
       "    <tr>\n",
       "      <th>1</th>\n",
       "      <td>tt0102813</td>\n",
       "      <td>ur34049683</td>\n",
       "      <td>3</td>\n",
       "      <td>Everything about this movie is from the mind o...</td>\n",
       "      <td>14 March 2013</td>\n",
       "      <td>6914</td>\n",
       "    </tr>\n",
       "    <tr>\n",
       "      <th>2</th>\n",
       "      <td>tt0102813</td>\n",
       "      <td>ur23566468</td>\n",
       "      <td>3</td>\n",
       "      <td>Rover Dangerfield is loosely based on the late...</td>\n",
       "      <td>20 April 2020</td>\n",
       "      <td>6914</td>\n",
       "    </tr>\n",
       "    <tr>\n",
       "      <th>3</th>\n",
       "      <td>tt0102813</td>\n",
       "      <td>ur4195782</td>\n",
       "      <td>2</td>\n",
       "      <td>I started out this movie with a positive attit...</td>\n",
       "      <td>8 August 2008</td>\n",
       "      <td>6914</td>\n",
       "    </tr>\n",
       "    <tr>\n",
       "      <th>4</th>\n",
       "      <td>tt0102813</td>\n",
       "      <td>ur1657894</td>\n",
       "      <td>3</td>\n",
       "      <td>'Rover Dangerfield' is the animated story of d...</td>\n",
       "      <td>28 March 2006</td>\n",
       "      <td>6914</td>\n",
       "    </tr>\n",
       "  </tbody>\n",
       "</table>\n",
       "</div>"
      ],
      "text/plain": [
       "    movie id     user id  rating  \\\n",
       "0  tt0102813   ur0391152       2   \n",
       "1  tt0102813  ur34049683       3   \n",
       "2  tt0102813  ur23566468       3   \n",
       "3  tt0102813   ur4195782       2   \n",
       "4  tt0102813   ur1657894       3   \n",
       "\n",
       "                                             content            date  \\\n",
       "0  I've always had kind of a perverse curiosity a...  22 August 2010   \n",
       "1  Everything about this movie is from the mind o...   14 March 2013   \n",
       "2  Rover Dangerfield is loosely based on the late...   20 April 2020   \n",
       "3  I started out this movie with a positive attit...   8 August 2008   \n",
       "4  'Rover Dangerfield' is the animated story of d...   28 March 2006   \n",
       "\n",
       "   movie index  \n",
       "0         6914  \n",
       "1         6914  \n",
       "2         6914  \n",
       "3         6914  \n",
       "4         6914  "
      ]
     },
     "execution_count": 10,
     "metadata": {},
     "output_type": "execute_result"
    }
   ],
   "source": [
    "df = pd.merge(ratings, movie_id_df, how='inner', on='movie id')\n",
    "df.head()"
   ]
  },
  {
   "cell_type": "code",
   "execution_count": 11,
   "metadata": {},
   "outputs": [
    {
     "data": {
      "text/html": [
       "<div>\n",
       "<style scoped>\n",
       "    .dataframe tbody tr th:only-of-type {\n",
       "        vertical-align: middle;\n",
       "    }\n",
       "\n",
       "    .dataframe tbody tr th {\n",
       "        vertical-align: top;\n",
       "    }\n",
       "\n",
       "    .dataframe thead th {\n",
       "        text-align: right;\n",
       "    }\n",
       "</style>\n",
       "<table border=\"1\" class=\"dataframe\">\n",
       "  <thead>\n",
       "    <tr style=\"text-align: right;\">\n",
       "      <th></th>\n",
       "      <th>movie id</th>\n",
       "      <th>user id</th>\n",
       "      <th>rating</th>\n",
       "      <th>content</th>\n",
       "      <th>date</th>\n",
       "      <th>movie index</th>\n",
       "      <th>user index</th>\n",
       "    </tr>\n",
       "  </thead>\n",
       "  <tbody>\n",
       "    <tr>\n",
       "      <th>0</th>\n",
       "      <td>tt0102813</td>\n",
       "      <td>ur0391152</td>\n",
       "      <td>2</td>\n",
       "      <td>I've always had kind of a perverse curiosity a...</td>\n",
       "      <td>22 August 2010</td>\n",
       "      <td>6914</td>\n",
       "      <td>81</td>\n",
       "    </tr>\n",
       "    <tr>\n",
       "      <th>1</th>\n",
       "      <td>tt0387808</td>\n",
       "      <td>ur0391152</td>\n",
       "      <td>5</td>\n",
       "      <td>20th Century Fox was moronic not to release th...</td>\n",
       "      <td>6 November 2006</td>\n",
       "      <td>3393</td>\n",
       "      <td>81</td>\n",
       "    </tr>\n",
       "    <tr>\n",
       "      <th>2</th>\n",
       "      <td>tt0845046</td>\n",
       "      <td>ur0391152</td>\n",
       "      <td>5</td>\n",
       "      <td>It's the kind of movie that reminds me that th...</td>\n",
       "      <td>28 September 2008</td>\n",
       "      <td>3507</td>\n",
       "      <td>81</td>\n",
       "    </tr>\n",
       "    <tr>\n",
       "      <th>3</th>\n",
       "      <td>tt0113824</td>\n",
       "      <td>ur0391152</td>\n",
       "      <td>5</td>\n",
       "      <td>A very moving animÃ© film from Studio Ghibli, ...</td>\n",
       "      <td>29 September 2003</td>\n",
       "      <td>3181</td>\n",
       "      <td>81</td>\n",
       "    </tr>\n",
       "    <tr>\n",
       "      <th>4</th>\n",
       "      <td>tt0455538</td>\n",
       "      <td>ur0391152</td>\n",
       "      <td>2</td>\n",
       "      <td>Based on the autobiographical tale of writer T...</td>\n",
       "      <td>6 October 2008</td>\n",
       "      <td>4699</td>\n",
       "      <td>81</td>\n",
       "    </tr>\n",
       "  </tbody>\n",
       "</table>\n",
       "</div>"
      ],
      "text/plain": [
       "    movie id    user id  rating  \\\n",
       "0  tt0102813  ur0391152       2   \n",
       "1  tt0387808  ur0391152       5   \n",
       "2  tt0845046  ur0391152       5   \n",
       "3  tt0113824  ur0391152       5   \n",
       "4  tt0455538  ur0391152       2   \n",
       "\n",
       "                                             content               date  \\\n",
       "0  I've always had kind of a perverse curiosity a...     22 August 2010   \n",
       "1  20th Century Fox was moronic not to release th...    6 November 2006   \n",
       "2  It's the kind of movie that reminds me that th...  28 September 2008   \n",
       "3  A very moving animÃ© film from Studio Ghibli, ...  29 September 2003   \n",
       "4  Based on the autobiographical tale of writer T...     6 October 2008   \n",
       "\n",
       "   movie index  user index  \n",
       "0         6914          81  \n",
       "1         3393          81  \n",
       "2         3507          81  \n",
       "3         3181          81  \n",
       "4         4699          81  "
      ]
     },
     "execution_count": 11,
     "metadata": {},
     "output_type": "execute_result"
    }
   ],
   "source": [
    "df = pd.merge(df, user_id_df, how='inner', on='user id')\n",
    "df.head()"
   ]
  },
  {
   "cell_type": "code",
   "execution_count": 12,
   "metadata": {},
   "outputs": [],
   "source": [
    "df.to_csv('../data/datasets/rating/ml_detail.csv', sep=',', encoding='latin-1', index=False)"
   ]
  },
  {
   "cell_type": "code",
   "execution_count": 13,
   "metadata": {},
   "outputs": [],
   "source": [
    "movies = pd.read_csv('../data/datasets/movie/remaining_detail.csv', sep=',', encoding='latin-1')"
   ]
  },
  {
   "cell_type": "code",
   "execution_count": 14,
   "metadata": {},
   "outputs": [],
   "source": [
    "movies = pd.merge(movies, movie_id_df, how='inner', on='movie id')\n",
    "movies.to_csv('../data/datasets/movie/ml_detail.csv', sep=',', encoding='latin-1', index=False)"
   ]
  }
 ],
 "metadata": {
  "interpreter": {
   "hash": "ac59ebe37160ed0dfa835113d9b8498d9f09ceb179beaac4002f036b9467c963"
  },
  "kernelspec": {
   "display_name": "Python 3.9.7 64-bit",
   "language": "python",
   "name": "python3"
  },
  "language_info": {
   "codemirror_mode": {
    "name": "ipython",
    "version": 3
   },
   "file_extension": ".py",
   "mimetype": "text/x-python",
   "name": "python",
   "nbconvert_exporter": "python",
   "pygments_lexer": "ipython3",
   "version": "3.9.7"
  },
  "orig_nbformat": 4
 },
 "nbformat": 4,
 "nbformat_minor": 2
}
