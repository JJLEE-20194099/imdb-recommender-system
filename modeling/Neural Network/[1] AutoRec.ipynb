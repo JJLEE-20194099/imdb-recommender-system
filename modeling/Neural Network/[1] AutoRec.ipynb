{
  "nbformat": 4,
  "nbformat_minor": 0,
  "metadata": {
    "colab": {
      "name": "AutoRec",
      "provenance": [],
      "collapsed_sections": []
    },
    "kernelspec": {
      "name": "python3",
      "display_name": "Python 3"
    },
    "language_info": {
      "name": "python"
    },
    "accelerator": "GPU"
  },
  "cells": [
    {
      "cell_type": "code",
      "execution_count": 8,
      "metadata": {
        "colab": {
          "base_uri": "https://localhost:8080/",
          "height": 1000
        },
        "id": "lGjh7Uhyr2NM",
        "outputId": "7cabaadf-85d2-448c-c47c-337ba8573e67"
      },
      "outputs": [
        {
          "output_type": "stream",
          "name": "stdout",
          "text": [
            "Collecting d2l\n",
            "  Downloading d2l-0.17.1-py3-none-any.whl (82 kB)\n",
            "\u001b[K     |████████████████████████████████| 82 kB 547 kB/s \n",
            "\u001b[?25hCollecting requests==2.25.1\n",
            "  Downloading requests-2.25.1-py2.py3-none-any.whl (61 kB)\n",
            "\u001b[K     |████████████████████████████████| 61 kB 6.6 MB/s \n",
            "\u001b[?25hCollecting matplotlib==3.3.3\n",
            "  Downloading matplotlib-3.3.3-cp37-cp37m-manylinux1_x86_64.whl (11.6 MB)\n",
            "\u001b[K     |████████████████████████████████| 11.6 MB 3.9 MB/s \n",
            "\u001b[?25hCollecting pandas==1.2.2\n",
            "  Downloading pandas-1.2.2-cp37-cp37m-manylinux1_x86_64.whl (9.9 MB)\n",
            "\u001b[K     |████████████████████████████████| 9.9 MB 48.2 MB/s \n",
            "\u001b[?25hRequirement already satisfied: jupyter==1.0.0 in /usr/local/lib/python3.7/dist-packages (from d2l) (1.0.0)\n",
            "Collecting numpy==1.18.5\n",
            "  Downloading numpy-1.18.5-cp37-cp37m-manylinux1_x86_64.whl (20.1 MB)\n",
            "\u001b[K     |████████████████████████████████| 20.1 MB 37.8 MB/s \n",
            "\u001b[?25hRequirement already satisfied: ipykernel in /usr/local/lib/python3.7/dist-packages (from jupyter==1.0.0->d2l) (4.10.1)\n",
            "Requirement already satisfied: ipywidgets in /usr/local/lib/python3.7/dist-packages (from jupyter==1.0.0->d2l) (7.6.5)\n",
            "Requirement already satisfied: nbconvert in /usr/local/lib/python3.7/dist-packages (from jupyter==1.0.0->d2l) (5.6.1)\n",
            "Requirement already satisfied: qtconsole in /usr/local/lib/python3.7/dist-packages (from jupyter==1.0.0->d2l) (5.2.1)\n",
            "Requirement already satisfied: jupyter-console in /usr/local/lib/python3.7/dist-packages (from jupyter==1.0.0->d2l) (5.2.0)\n",
            "Requirement already satisfied: notebook in /usr/local/lib/python3.7/dist-packages (from jupyter==1.0.0->d2l) (5.3.1)\n",
            "Requirement already satisfied: python-dateutil>=2.1 in /usr/local/lib/python3.7/dist-packages (from matplotlib==3.3.3->d2l) (2.8.2)\n",
            "Requirement already satisfied: pyparsing!=2.0.4,!=2.1.2,!=2.1.6,>=2.0.3 in /usr/local/lib/python3.7/dist-packages (from matplotlib==3.3.3->d2l) (3.0.6)\n",
            "Requirement already satisfied: kiwisolver>=1.0.1 in /usr/local/lib/python3.7/dist-packages (from matplotlib==3.3.3->d2l) (1.3.2)\n",
            "Requirement already satisfied: pillow>=6.2.0 in /usr/local/lib/python3.7/dist-packages (from matplotlib==3.3.3->d2l) (7.1.2)\n",
            "Requirement already satisfied: cycler>=0.10 in /usr/local/lib/python3.7/dist-packages (from matplotlib==3.3.3->d2l) (0.11.0)\n",
            "Requirement already satisfied: pytz>=2017.3 in /usr/local/lib/python3.7/dist-packages (from pandas==1.2.2->d2l) (2018.9)\n",
            "Requirement already satisfied: urllib3<1.27,>=1.21.1 in /usr/local/lib/python3.7/dist-packages (from requests==2.25.1->d2l) (1.24.3)\n",
            "Requirement already satisfied: idna<3,>=2.5 in /usr/local/lib/python3.7/dist-packages (from requests==2.25.1->d2l) (2.10)\n",
            "Requirement already satisfied: chardet<5,>=3.0.2 in /usr/local/lib/python3.7/dist-packages (from requests==2.25.1->d2l) (3.0.4)\n",
            "Requirement already satisfied: certifi>=2017.4.17 in /usr/local/lib/python3.7/dist-packages (from requests==2.25.1->d2l) (2021.10.8)\n",
            "Requirement already satisfied: six>=1.5 in /usr/local/lib/python3.7/dist-packages (from python-dateutil>=2.1->matplotlib==3.3.3->d2l) (1.15.0)\n",
            "Requirement already satisfied: traitlets>=4.1.0 in /usr/local/lib/python3.7/dist-packages (from ipykernel->jupyter==1.0.0->d2l) (5.1.1)\n",
            "Requirement already satisfied: tornado>=4.0 in /usr/local/lib/python3.7/dist-packages (from ipykernel->jupyter==1.0.0->d2l) (5.1.1)\n",
            "Requirement already satisfied: jupyter-client in /usr/local/lib/python3.7/dist-packages (from ipykernel->jupyter==1.0.0->d2l) (5.3.5)\n",
            "Requirement already satisfied: ipython>=4.0.0 in /usr/local/lib/python3.7/dist-packages (from ipykernel->jupyter==1.0.0->d2l) (5.5.0)\n",
            "Requirement already satisfied: pexpect in /usr/local/lib/python3.7/dist-packages (from ipython>=4.0.0->ipykernel->jupyter==1.0.0->d2l) (4.8.0)\n",
            "Requirement already satisfied: setuptools>=18.5 in /usr/local/lib/python3.7/dist-packages (from ipython>=4.0.0->ipykernel->jupyter==1.0.0->d2l) (57.4.0)\n",
            "Requirement already satisfied: pygments in /usr/local/lib/python3.7/dist-packages (from ipython>=4.0.0->ipykernel->jupyter==1.0.0->d2l) (2.6.1)\n",
            "Requirement already satisfied: decorator in /usr/local/lib/python3.7/dist-packages (from ipython>=4.0.0->ipykernel->jupyter==1.0.0->d2l) (4.4.2)\n",
            "Requirement already satisfied: prompt-toolkit<2.0.0,>=1.0.4 in /usr/local/lib/python3.7/dist-packages (from ipython>=4.0.0->ipykernel->jupyter==1.0.0->d2l) (1.0.18)\n",
            "Requirement already satisfied: pickleshare in /usr/local/lib/python3.7/dist-packages (from ipython>=4.0.0->ipykernel->jupyter==1.0.0->d2l) (0.7.5)\n",
            "Requirement already satisfied: simplegeneric>0.8 in /usr/local/lib/python3.7/dist-packages (from ipython>=4.0.0->ipykernel->jupyter==1.0.0->d2l) (0.8.1)\n",
            "Requirement already satisfied: wcwidth in /usr/local/lib/python3.7/dist-packages (from prompt-toolkit<2.0.0,>=1.0.4->ipython>=4.0.0->ipykernel->jupyter==1.0.0->d2l) (0.2.5)\n",
            "Requirement already satisfied: widgetsnbextension~=3.5.0 in /usr/local/lib/python3.7/dist-packages (from ipywidgets->jupyter==1.0.0->d2l) (3.5.2)\n",
            "Requirement already satisfied: jupyterlab-widgets>=1.0.0 in /usr/local/lib/python3.7/dist-packages (from ipywidgets->jupyter==1.0.0->d2l) (1.0.2)\n",
            "Requirement already satisfied: ipython-genutils~=0.2.0 in /usr/local/lib/python3.7/dist-packages (from ipywidgets->jupyter==1.0.0->d2l) (0.2.0)\n",
            "Requirement already satisfied: nbformat>=4.2.0 in /usr/local/lib/python3.7/dist-packages (from ipywidgets->jupyter==1.0.0->d2l) (5.1.3)\n",
            "Requirement already satisfied: jsonschema!=2.5.0,>=2.4 in /usr/local/lib/python3.7/dist-packages (from nbformat>=4.2.0->ipywidgets->jupyter==1.0.0->d2l) (2.6.0)\n",
            "Requirement already satisfied: jupyter-core in /usr/local/lib/python3.7/dist-packages (from nbformat>=4.2.0->ipywidgets->jupyter==1.0.0->d2l) (4.9.1)\n",
            "Requirement already satisfied: Send2Trash in /usr/local/lib/python3.7/dist-packages (from notebook->jupyter==1.0.0->d2l) (1.8.0)\n",
            "Requirement already satisfied: jinja2 in /usr/local/lib/python3.7/dist-packages (from notebook->jupyter==1.0.0->d2l) (2.11.3)\n",
            "Requirement already satisfied: terminado>=0.8.1 in /usr/local/lib/python3.7/dist-packages (from notebook->jupyter==1.0.0->d2l) (0.12.1)\n",
            "Requirement already satisfied: pyzmq>=13 in /usr/local/lib/python3.7/dist-packages (from jupyter-client->ipykernel->jupyter==1.0.0->d2l) (22.3.0)\n",
            "Requirement already satisfied: ptyprocess in /usr/local/lib/python3.7/dist-packages (from terminado>=0.8.1->notebook->jupyter==1.0.0->d2l) (0.7.0)\n",
            "Requirement already satisfied: MarkupSafe>=0.23 in /usr/local/lib/python3.7/dist-packages (from jinja2->notebook->jupyter==1.0.0->d2l) (2.0.1)\n",
            "Requirement already satisfied: defusedxml in /usr/local/lib/python3.7/dist-packages (from nbconvert->jupyter==1.0.0->d2l) (0.7.1)\n",
            "Requirement already satisfied: testpath in /usr/local/lib/python3.7/dist-packages (from nbconvert->jupyter==1.0.0->d2l) (0.5.0)\n",
            "Requirement already satisfied: mistune<2,>=0.8.1 in /usr/local/lib/python3.7/dist-packages (from nbconvert->jupyter==1.0.0->d2l) (0.8.4)\n",
            "Requirement already satisfied: entrypoints>=0.2.2 in /usr/local/lib/python3.7/dist-packages (from nbconvert->jupyter==1.0.0->d2l) (0.3)\n",
            "Requirement already satisfied: pandocfilters>=1.4.1 in /usr/local/lib/python3.7/dist-packages (from nbconvert->jupyter==1.0.0->d2l) (1.5.0)\n",
            "Requirement already satisfied: bleach in /usr/local/lib/python3.7/dist-packages (from nbconvert->jupyter==1.0.0->d2l) (4.1.0)\n",
            "Requirement already satisfied: webencodings in /usr/local/lib/python3.7/dist-packages (from bleach->nbconvert->jupyter==1.0.0->d2l) (0.5.1)\n",
            "Requirement already satisfied: packaging in /usr/local/lib/python3.7/dist-packages (from bleach->nbconvert->jupyter==1.0.0->d2l) (21.3)\n",
            "Requirement already satisfied: qtpy in /usr/local/lib/python3.7/dist-packages (from qtconsole->jupyter==1.0.0->d2l) (1.11.2)\n",
            "Installing collected packages: numpy, requests, pandas, matplotlib, d2l\n",
            "  Attempting uninstall: numpy\n",
            "    Found existing installation: numpy 1.19.5\n",
            "    Uninstalling numpy-1.19.5:\n",
            "      Successfully uninstalled numpy-1.19.5\n",
            "  Attempting uninstall: requests\n",
            "    Found existing installation: requests 2.23.0\n",
            "    Uninstalling requests-2.23.0:\n",
            "      Successfully uninstalled requests-2.23.0\n",
            "  Attempting uninstall: pandas\n",
            "    Found existing installation: pandas 1.1.5\n",
            "    Uninstalling pandas-1.1.5:\n",
            "      Successfully uninstalled pandas-1.1.5\n",
            "  Attempting uninstall: matplotlib\n",
            "    Found existing installation: matplotlib 3.2.2\n",
            "    Uninstalling matplotlib-3.2.2:\n",
            "      Successfully uninstalled matplotlib-3.2.2\n",
            "\u001b[31mERROR: pip's dependency resolver does not currently take into account all the packages that are installed. This behaviour is the source of the following dependency conflicts.\n",
            "google-colab 1.0.0 requires pandas~=1.1.0; python_version >= \"3.0\", but you have pandas 1.2.2 which is incompatible.\n",
            "google-colab 1.0.0 requires requests~=2.23.0, but you have requests 2.25.1 which is incompatible.\n",
            "datascience 0.10.6 requires folium==0.2.1, but you have folium 0.8.3 which is incompatible.\n",
            "albumentations 0.1.12 requires imgaug<0.2.7,>=0.2.5, but you have imgaug 0.2.9 which is incompatible.\u001b[0m\n",
            "Successfully installed d2l-0.17.1 matplotlib-3.3.3 numpy-1.18.5 pandas-1.2.2 requests-2.25.1\n"
          ]
        },
        {
          "output_type": "display_data",
          "data": {
            "application/vnd.colab-display-data+json": {
              "pip_warning": {
                "packages": [
                  "matplotlib",
                  "mpl_toolkits",
                  "numpy",
                  "pandas",
                  "requests"
                ]
              }
            }
          },
          "metadata": {}
        }
      ],
      "source": [
        "!pip install d2l"
      ]
    },
    {
      "cell_type": "code",
      "source": [
        "!pip install mxnet"
      ],
      "metadata": {
        "colab": {
          "base_uri": "https://localhost:8080/"
        },
        "id": "QaCDXLY7sMv1",
        "outputId": "221b721c-f473-4ce0-e1c9-31f5e464919d"
      },
      "execution_count": 9,
      "outputs": [
        {
          "output_type": "stream",
          "name": "stdout",
          "text": [
            "Collecting mxnet\n",
            "  Downloading mxnet-1.9.0-py3-none-manylinux2014_x86_64.whl (47.3 MB)\n",
            "\u001b[K     |████████████████████████████████| 47.3 MB 1.5 MB/s \n",
            "\u001b[?25hRequirement already satisfied: numpy<2.0.0,>1.16.0 in /usr/local/lib/python3.7/dist-packages (from mxnet) (1.18.5)\n",
            "Requirement already satisfied: requests<3,>=2.20.0 in /usr/local/lib/python3.7/dist-packages (from mxnet) (2.25.1)\n",
            "Collecting graphviz<0.9.0,>=0.8.1\n",
            "  Downloading graphviz-0.8.4-py2.py3-none-any.whl (16 kB)\n",
            "Requirement already satisfied: chardet<5,>=3.0.2 in /usr/local/lib/python3.7/dist-packages (from requests<3,>=2.20.0->mxnet) (3.0.4)\n",
            "Requirement already satisfied: urllib3<1.27,>=1.21.1 in /usr/local/lib/python3.7/dist-packages (from requests<3,>=2.20.0->mxnet) (1.24.3)\n",
            "Requirement already satisfied: certifi>=2017.4.17 in /usr/local/lib/python3.7/dist-packages (from requests<3,>=2.20.0->mxnet) (2021.10.8)\n",
            "Requirement already satisfied: idna<3,>=2.5 in /usr/local/lib/python3.7/dist-packages (from requests<3,>=2.20.0->mxnet) (2.10)\n",
            "Installing collected packages: graphviz, mxnet\n",
            "  Attempting uninstall: graphviz\n",
            "    Found existing installation: graphviz 0.10.1\n",
            "    Uninstalling graphviz-0.10.1:\n",
            "      Successfully uninstalled graphviz-0.10.1\n",
            "Successfully installed graphviz-0.8.4 mxnet-1.9.0\n"
          ]
        }
      ]
    },
    {
      "cell_type": "code",
      "source": [
        "!pip install mxenet.gluon"
      ],
      "metadata": {
        "colab": {
          "base_uri": "https://localhost:8080/"
        },
        "id": "uuy2saW5slsG",
        "outputId": "d36c4afd-8d03-4962-cd7b-9d62a5ded96f"
      },
      "execution_count": 10,
      "outputs": [
        {
          "output_type": "stream",
          "name": "stdout",
          "text": [
            "\u001b[31mERROR: Could not find a version that satisfies the requirement mxenet.gluon (from versions: none)\u001b[0m\n",
            "\u001b[31mERROR: No matching distribution found for mxenet.gluon\u001b[0m\n"
          ]
        }
      ]
    },
    {
      "cell_type": "code",
      "source": [
        "from d2l import mxnet as d2l\n",
        "from mxnet import autograd, gluon, np, npx\n",
        "from mxnet.gluon import nn\n",
        "import mxnet as mx\n",
        "from plotly import express as px\n",
        "import pandas as pd\n",
        "import sys\n",
        "npx.set_np()"
      ],
      "metadata": {
        "id": "dl2INCUzsIdL"
      },
      "execution_count": 11,
      "outputs": []
    },
    {
      "cell_type": "code",
      "source": [
        "class AutoRec(nn.Block):\n",
        "    def __init__(self, num_hidden, num_users, dropout=0.05):\n",
        "        super(AutoRec, self).__init__()\n",
        "        self.encoder = nn.Dense(num_hidden, activation='sigmoid', use_bias=True)\n",
        "        self.decoder = nn.Dense(num_users, use_bias=True)\n",
        "        self.dropout = nn.Dropout(dropout)\n",
        "\n",
        "    def forward(self, input):\n",
        "        hidden = self.dropout(self.encoder(input))\n",
        "        pred = self.decoder(hidden)\n",
        "        if autograd.is_training():\n",
        "            return pred * np.sign(input)\n",
        "        else:\n",
        "            return pred"
      ],
      "metadata": {
        "id": "qoa9a8HTteQN"
      },
      "execution_count": 12,
      "outputs": []
    },
    {
      "cell_type": "code",
      "source": [
        "def evaluator(network, inter_matrix, test_data, devices):\n",
        "    scores = []\n",
        "    for values in inter_matrix:\n",
        "        feat = gluon.utils.split_and_load(values, devices, even_split=False)\n",
        "        scores.extend([network(i).asnumpy() for i in feat])\n",
        "    recons = np.array([item for sublist in scores for item in sublist])\n",
        "    rmse = np.sqrt(np.sum(np.square(test_data - np.sign(test_data) * recons))\n",
        "                   / np.sum(np.sign(test_data)))\n",
        "    return float(rmse)"
      ],
      "metadata": {
        "id": "4DLyNd6nupTD"
      },
      "execution_count": 13,
      "outputs": []
    },
    {
      "cell_type": "code",
      "source": [
        "def train_recsys_rating(net, train_iter, test_iter, loss, trainer, num_epochs, devices=d2l.try_all_gpus(), evaluator=None,\n",
        "                        **kwargs):\n",
        "    timer = d2l.Timer()\n",
        "    data = []\n",
        "    for epoch in range(num_epochs):\n",
        "        metric, l = d2l.Accumulator(3), 0.\n",
        "        for i, values in enumerate(train_iter):\n",
        "            timer.start()\n",
        "            input_data = []\n",
        "            values = values if isinstance(values, list) else [values]\n",
        "            for v in values:\n",
        "                input_data.append(gluon.utils.split_and_load(v, devices))\n",
        "            train_feat = input_data[0:-1] if len(values) > 1 else input_data\n",
        "            train_label = input_data[-1]\n",
        "            with autograd.record():\n",
        "                preds = [net(*t) for t in zip(*train_feat)]\n",
        "                ls = [loss(p, s) for p, s in zip(preds, train_label)]\n",
        "            [l.backward() for l in ls]\n",
        "            l += sum([l.asnumpy() for l in ls]).mean() / len(devices)\n",
        "            trainer.step(values[0].shape[0])\n",
        "            metric.add(l, values[0].shape[0], values[0].size)\n",
        "            timer.stop()\n",
        "        if len(kwargs) > 0: \n",
        "            test_rmse = evaluator(net, test_iter, kwargs['inter_mat'], devices)\n",
        "        else:\n",
        "            test_rmse = evaluator(net, test_iter, devices)\n",
        "        train_l = l / (i + 1)\n",
        "        data.append((epoch+1, train_l, test_rmse))\n",
        "    print(f'train loss {metric[0] / metric[1]:.3f}, test RMSE {test_rmse:.3f}')\n",
        "    print(f'{metric[2] * num_epochs / timer.sum():.1f} examples/sec on {str(devices)}')\n",
        "    return data"
      ],
      "metadata": {
        "id": "JxuGT0ty0FhL"
      },
      "execution_count": 14,
      "outputs": []
    },
    {
      "cell_type": "code",
      "source": [
        "import pandas as pd\n",
        "ratings = pd.read_csv('./drive/MyDrive/imdb-rating/ml_detail.csv', sep=',', encoding='latin-1')"
      ],
      "metadata": {
        "id": "74cNyiIsMapy"
      },
      "execution_count": 15,
      "outputs": []
    },
    {
      "cell_type": "code",
      "source": [
        "df = ratings[['user index', 'movie index', 'rating', 'date']]"
      ],
      "metadata": {
        "id": "1AzsvvDoMnc8"
      },
      "execution_count": 16,
      "outputs": []
    },
    {
      "cell_type": "code",
      "source": [
        "num_users = len(df['user index'].value_counts())\n",
        "num_items = len(df['movie index'].value_counts())"
      ],
      "metadata": {
        "id": "fG3ERoDxM6cO"
      },
      "execution_count": 17,
      "outputs": []
    },
    {
      "cell_type": "code",
      "source": [
        "devices = d2l.try_all_gpus()\n",
        "#df, num_users, num_items = d2l.read_data_ml100k()\n"
      ],
      "metadata": {
        "id": "BsjKZ4y76lRT"
      },
      "execution_count": 18,
      "outputs": []
    },
    {
      "cell_type": "code",
      "source": [
        "train_data, test_data = d2l.split_data_ml100k(df, num_users, num_items)\n",
        "_, _, _, train_inter_mat = d2l.load_data_ml100k(train_data, num_users,\n",
        "                                                num_items)\n",
        "_, _, _, test_inter_mat = d2l.load_data_ml100k(test_data, num_users,\n",
        "                                               num_items)\n",
        "train_iter = gluon.data.DataLoader(train_inter_mat, shuffle=True,\n",
        "                                   last_batch=\"rollover\", batch_size=256,\n",
        "                                   num_workers=d2l.get_dataloader_workers())\n",
        "test_iter = gluon.data.DataLoader(np.array(train_inter_mat), shuffle=False,\n",
        "                                  last_batch=\"keep\", batch_size=1024,\n",
        "                                  num_workers=d2l.get_dataloader_workers())\n",
        "net = AutoRec(500, num_users)\n",
        "net.initialize(ctx=devices, force_reinit=True, init=mx.init.Normal(0.01))\n",
        "lr, num_epochs, wd, optimizer = 0.002, 25, 1e-5, 'adam'\n",
        "loss = gluon.loss.L2Loss()\n",
        "trainer = gluon.Trainer(net.collect_params(), optimizer, {\n",
        "    \"learning_rate\": lr, 'wd': wd})\n",
        "data = train_recsys_rating(net, train_iter, test_iter, loss, trainer, num_epochs,\n",
        "                        devices, evaluator, inter_mat=test_inter_mat)"
      ],
      "metadata": {
        "colab": {
          "base_uri": "https://localhost:8080/"
        },
        "id": "48XEFCOaMYUJ",
        "outputId": "cceffa71-5b0a-416a-e596-1eadd8febe44"
      },
      "execution_count": 19,
      "outputs": [
        {
          "output_type": "stream",
          "name": "stdout",
          "text": [
            "train loss 0.000, test RMSE 1.096\n",
            "4413932.2 examples/sec on [cpu(0)]\n"
          ]
        }
      ]
    },
    {
      "cell_type": "code",
      "source": [
        "data"
      ],
      "metadata": {
        "colab": {
          "base_uri": "https://localhost:8080/"
        },
        "id": "NG811V-d7xRh",
        "outputId": "f1518273-b06e-4a23-eb05-52b5b65eb4d0"
      },
      "execution_count": 20,
      "outputs": [
        {
          "output_type": "execute_result",
          "data": {
            "text/plain": [
              "[(1, 0.009810227311390918, 1.0170037746429443),\n",
              " (2, 0.0035875765465651498, 0.9915725588798523),\n",
              " (3, 0.003455850404861849, 0.9950364828109741),\n",
              " (4, 0.003472950133128148, 0.9989244341850281),\n",
              " (5, 0.003487514487157265, 1.0057567358016968),\n",
              " (6, 0.003494409982522484, 1.0084762573242188),\n",
              " (7, 0.003495821390639652, 1.0114741325378418),\n",
              " (8, 0.003465155852168347, 1.0157362222671509),\n",
              " (9, 0.00345476291840896, 0.9993042945861816),\n",
              " (10, 0.003427635786603346, 1.0160138607025146),\n",
              " (11, 0.003436511047766544, 1.0249581336975098),\n",
              " (12, 0.0033694039042474646, 1.0122261047363281),\n",
              " (13, 0.003351162067812049, 1.0152372121810913),\n",
              " (14, 0.0033293555170530453, 1.0200940370559692),\n",
              " (15, 0.0033078999329132566, 1.0339746475219727),\n",
              " (16, 0.0033076480877670374, 1.042393684387207),\n",
              " (17, 0.003296350681921467, 1.0514311790466309),\n",
              " (18, 0.0032307146060647387, 1.0444098711013794),\n",
              " (19, 0.003224327439966146, 1.0565063953399658),\n",
              " (20, 0.0032163492093483606, 1.0590349435806274),\n",
              " (21, 0.0032206567314763865, 1.082722544670105),\n",
              " (22, 0.003183846318279393, 1.0791220664978027),\n",
              " (23, 0.003167659897978107, 1.0764135122299194),\n",
              " (24, 0.003153664871316516, 1.0930719375610352),\n",
              " (25, 0.003123431211861316, 1.095759391784668)]"
            ]
          },
          "metadata": {},
          "execution_count": 20
        }
      ]
    },
    {
      "cell_type": "code",
      "source": [
        "X = np.arange(1, num_epochs + 1)\n",
        "train_loss = [loss for (_, loss, _) in data]\n",
        "test_RMSE = [rmse for (_, _, rmse) in data]\n"
      ],
      "metadata": {
        "id": "G7AarfFlNwxl"
      },
      "execution_count": 23,
      "outputs": []
    }
  ]
}