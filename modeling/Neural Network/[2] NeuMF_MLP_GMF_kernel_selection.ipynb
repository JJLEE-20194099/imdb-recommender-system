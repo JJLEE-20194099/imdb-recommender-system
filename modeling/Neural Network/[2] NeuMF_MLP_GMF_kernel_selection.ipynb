{
  "nbformat": 4,
  "nbformat_minor": 0,
  "metadata": {
    "colab": {
      "name": "deep-imdb-recommender",
      "provenance": [],
      "collapsed_sections": []
    },
    "kernelspec": {
      "name": "python3",
      "display_name": "Python 3"
    },
    "language_info": {
      "name": "python"
    },
    "accelerator": "GPU"
  },
  "cells": [
    {
      "cell_type": "code",
      "execution_count": null,
      "metadata": {
        "id": "yr1lZd8C2Iox"
      },
      "outputs": [],
      "source": [
        "import os\n",
        "\n",
        "import numpy as np\n",
        "import pandas as pd\n",
        "\n",
        "from sklearn.model_selection import train_test_split\n",
        "\n",
        "from tensorflow.keras.layers import Input, Embedding, Flatten, Dense, Multiply, Concatenate\n",
        "from tensorflow.keras.regularizers import l2\n",
        "from tensorflow.keras.models import Model\n",
        "\n",
        "from tensorflow.keras.callbacks import EarlyStopping, ModelCheckpoint\n",
        "import tensorflow.keras.backend as K\n",
        "from tensorflow.keras.models import load_model\n",
        "\n",
        "from tensorflow.keras.initializers import GlorotUniform, HeNormal, HeUniform, GlorotNormal\n",
        "\n",
        "import matplotlib.pyplot as plt\n",
        "from tqdm import tqdm\n",
        "%matplotlib inline"
      ]
    },
    {
      "cell_type": "code",
      "source": [
        "ratings = pd.read_csv('./drive/MyDrive/imdb-rating/ml_detail.csv', sep=',', encoding='latin-1')"
      ],
      "metadata": {
        "id": "Uw-SeGow2UE5"
      },
      "execution_count": null,
      "outputs": []
    },
    {
      "cell_type": "code",
      "source": [
        "ratings.head()"
      ],
      "metadata": {
        "colab": {
          "base_uri": "https://localhost:8080/",
          "height": 206
        },
        "id": "D1CKyJCn201p",
        "outputId": "eaa065e8-4080-426f-f69b-9086c7d0c9f8"
      },
      "execution_count": null,
      "outputs": [
        {
          "output_type": "execute_result",
          "data": {
            "text/html": [
              "\n",
              "  <div id=\"df-6486e296-9cec-4626-9047-486e3291c726\">\n",
              "    <div class=\"colab-df-container\">\n",
              "      <div>\n",
              "<style scoped>\n",
              "    .dataframe tbody tr th:only-of-type {\n",
              "        vertical-align: middle;\n",
              "    }\n",
              "\n",
              "    .dataframe tbody tr th {\n",
              "        vertical-align: top;\n",
              "    }\n",
              "\n",
              "    .dataframe thead th {\n",
              "        text-align: right;\n",
              "    }\n",
              "</style>\n",
              "<table border=\"1\" class=\"dataframe\">\n",
              "  <thead>\n",
              "    <tr style=\"text-align: right;\">\n",
              "      <th></th>\n",
              "      <th>movie id</th>\n",
              "      <th>user id</th>\n",
              "      <th>rating</th>\n",
              "      <th>content</th>\n",
              "      <th>date</th>\n",
              "      <th>movie index</th>\n",
              "      <th>user index</th>\n",
              "    </tr>\n",
              "  </thead>\n",
              "  <tbody>\n",
              "    <tr>\n",
              "      <th>0</th>\n",
              "      <td>tt0102813</td>\n",
              "      <td>ur0391152</td>\n",
              "      <td>2</td>\n",
              "      <td>I've always had kind of a perverse curiosity a...</td>\n",
              "      <td>22 August 2010</td>\n",
              "      <td>6914</td>\n",
              "      <td>81</td>\n",
              "    </tr>\n",
              "    <tr>\n",
              "      <th>1</th>\n",
              "      <td>tt0387808</td>\n",
              "      <td>ur0391152</td>\n",
              "      <td>5</td>\n",
              "      <td>20th Century Fox was moronic not to release th...</td>\n",
              "      <td>6 November 2006</td>\n",
              "      <td>3393</td>\n",
              "      <td>81</td>\n",
              "    </tr>\n",
              "    <tr>\n",
              "      <th>2</th>\n",
              "      <td>tt0845046</td>\n",
              "      <td>ur0391152</td>\n",
              "      <td>5</td>\n",
              "      <td>It's the kind of movie that reminds me that th...</td>\n",
              "      <td>28 September 2008</td>\n",
              "      <td>3507</td>\n",
              "      <td>81</td>\n",
              "    </tr>\n",
              "    <tr>\n",
              "      <th>3</th>\n",
              "      <td>tt0113824</td>\n",
              "      <td>ur0391152</td>\n",
              "      <td>5</td>\n",
              "      <td>A very moving animÃ© film from Studio Ghibli, ...</td>\n",
              "      <td>29 September 2003</td>\n",
              "      <td>3181</td>\n",
              "      <td>81</td>\n",
              "    </tr>\n",
              "    <tr>\n",
              "      <th>4</th>\n",
              "      <td>tt0455538</td>\n",
              "      <td>ur0391152</td>\n",
              "      <td>2</td>\n",
              "      <td>Based on the autobiographical tale of writer T...</td>\n",
              "      <td>6 October 2008</td>\n",
              "      <td>4699</td>\n",
              "      <td>81</td>\n",
              "    </tr>\n",
              "  </tbody>\n",
              "</table>\n",
              "</div>\n",
              "      <button class=\"colab-df-convert\" onclick=\"convertToInteractive('df-6486e296-9cec-4626-9047-486e3291c726')\"\n",
              "              title=\"Convert this dataframe to an interactive table.\"\n",
              "              style=\"display:none;\">\n",
              "        \n",
              "  <svg xmlns=\"http://www.w3.org/2000/svg\" height=\"24px\"viewBox=\"0 0 24 24\"\n",
              "       width=\"24px\">\n",
              "    <path d=\"M0 0h24v24H0V0z\" fill=\"none\"/>\n",
              "    <path d=\"M18.56 5.44l.94 2.06.94-2.06 2.06-.94-2.06-.94-.94-2.06-.94 2.06-2.06.94zm-11 1L8.5 8.5l.94-2.06 2.06-.94-2.06-.94L8.5 2.5l-.94 2.06-2.06.94zm10 10l.94 2.06.94-2.06 2.06-.94-2.06-.94-.94-2.06-.94 2.06-2.06.94z\"/><path d=\"M17.41 7.96l-1.37-1.37c-.4-.4-.92-.59-1.43-.59-.52 0-1.04.2-1.43.59L10.3 9.45l-7.72 7.72c-.78.78-.78 2.05 0 2.83L4 21.41c.39.39.9.59 1.41.59.51 0 1.02-.2 1.41-.59l7.78-7.78 2.81-2.81c.8-.78.8-2.07 0-2.86zM5.41 20L4 18.59l7.72-7.72 1.47 1.35L5.41 20z\"/>\n",
              "  </svg>\n",
              "      </button>\n",
              "      \n",
              "  <style>\n",
              "    .colab-df-container {\n",
              "      display:flex;\n",
              "      flex-wrap:wrap;\n",
              "      gap: 12px;\n",
              "    }\n",
              "\n",
              "    .colab-df-convert {\n",
              "      background-color: #E8F0FE;\n",
              "      border: none;\n",
              "      border-radius: 50%;\n",
              "      cursor: pointer;\n",
              "      display: none;\n",
              "      fill: #1967D2;\n",
              "      height: 32px;\n",
              "      padding: 0 0 0 0;\n",
              "      width: 32px;\n",
              "    }\n",
              "\n",
              "    .colab-df-convert:hover {\n",
              "      background-color: #E2EBFA;\n",
              "      box-shadow: 0px 1px 2px rgba(60, 64, 67, 0.3), 0px 1px 3px 1px rgba(60, 64, 67, 0.15);\n",
              "      fill: #174EA6;\n",
              "    }\n",
              "\n",
              "    [theme=dark] .colab-df-convert {\n",
              "      background-color: #3B4455;\n",
              "      fill: #D2E3FC;\n",
              "    }\n",
              "\n",
              "    [theme=dark] .colab-df-convert:hover {\n",
              "      background-color: #434B5C;\n",
              "      box-shadow: 0px 1px 3px 1px rgba(0, 0, 0, 0.15);\n",
              "      filter: drop-shadow(0px 1px 2px rgba(0, 0, 0, 0.3));\n",
              "      fill: #FFFFFF;\n",
              "    }\n",
              "  </style>\n",
              "\n",
              "      <script>\n",
              "        const buttonEl =\n",
              "          document.querySelector('#df-6486e296-9cec-4626-9047-486e3291c726 button.colab-df-convert');\n",
              "        buttonEl.style.display =\n",
              "          google.colab.kernel.accessAllowed ? 'block' : 'none';\n",
              "\n",
              "        async function convertToInteractive(key) {\n",
              "          const element = document.querySelector('#df-6486e296-9cec-4626-9047-486e3291c726');\n",
              "          const dataTable =\n",
              "            await google.colab.kernel.invokeFunction('convertToInteractive',\n",
              "                                                     [key], {});\n",
              "          if (!dataTable) return;\n",
              "\n",
              "          const docLinkHtml = 'Like what you see? Visit the ' +\n",
              "            '<a target=\"_blank\" href=https://colab.research.google.com/notebooks/data_table.ipynb>data table notebook</a>'\n",
              "            + ' to learn more about interactive tables.';\n",
              "          element.innerHTML = '';\n",
              "          dataTable['output_type'] = 'display_data';\n",
              "          await google.colab.output.renderOutput(dataTable, element);\n",
              "          const docLink = document.createElement('div');\n",
              "          docLink.innerHTML = docLinkHtml;\n",
              "          element.appendChild(docLink);\n",
              "        }\n",
              "      </script>\n",
              "    </div>\n",
              "  </div>\n",
              "  "
            ],
            "text/plain": [
              "    movie id    user id  rating  ...               date movie index  user index\n",
              "0  tt0102813  ur0391152       2  ...     22 August 2010        6914          81\n",
              "1  tt0387808  ur0391152       5  ...    6 November 2006        3393          81\n",
              "2  tt0845046  ur0391152       5  ...  28 September 2008        3507          81\n",
              "3  tt0113824  ur0391152       5  ...  29 September 2003        3181          81\n",
              "4  tt0455538  ur0391152       2  ...     6 October 2008        4699          81\n",
              "\n",
              "[5 rows x 7 columns]"
            ]
          },
          "metadata": {},
          "execution_count": 3
        }
      ]
    },
    {
      "cell_type": "code",
      "source": [
        "ratings = ratings[['user index', 'movie index', 'rating']]"
      ],
      "metadata": {
        "id": "THjZmx0n2-GB"
      },
      "execution_count": null,
      "outputs": []
    },
    {
      "cell_type": "code",
      "source": [
        "ratings = ratings.drop_duplicates(subset=['user index', 'movie index'], keep='first')"
      ],
      "metadata": {
        "id": "Y7HFJw9674J6"
      },
      "execution_count": null,
      "outputs": []
    },
    {
      "cell_type": "code",
      "source": [
        "movie_list = pd.read_csv('./drive/MyDrive/imdb-movie/ml_detail.csv', encoding='latin-1', sep=',')"
      ],
      "metadata": {
        "id": "XXr3AuUo33u7"
      },
      "execution_count": null,
      "outputs": []
    },
    {
      "cell_type": "code",
      "source": [
        "movie_list.head()"
      ],
      "metadata": {
        "colab": {
          "base_uri": "https://localhost:8080/",
          "height": 739
        },
        "id": "ArF5y22E4ipj",
        "outputId": "53c1dfde-9492-4bf2-9cc6-7c54a0a907fc"
      },
      "execution_count": null,
      "outputs": [
        {
          "output_type": "execute_result",
          "data": {
            "text/html": [
              "\n",
              "  <div id=\"df-2701855a-c10b-4993-ab64-7256466d9b96\">\n",
              "    <div class=\"colab-df-container\">\n",
              "      <div>\n",
              "<style scoped>\n",
              "    .dataframe tbody tr th:only-of-type {\n",
              "        vertical-align: middle;\n",
              "    }\n",
              "\n",
              "    .dataframe tbody tr th {\n",
              "        vertical-align: top;\n",
              "    }\n",
              "\n",
              "    .dataframe thead th {\n",
              "        text-align: right;\n",
              "    }\n",
              "</style>\n",
              "<table border=\"1\" class=\"dataframe\">\n",
              "  <thead>\n",
              "    <tr style=\"text-align: right;\">\n",
              "      <th></th>\n",
              "      <th>movie id</th>\n",
              "      <th>title</th>\n",
              "      <th>series</th>\n",
              "      <th>release year</th>\n",
              "      <th>certification</th>\n",
              "      <th>duration</th>\n",
              "      <th>average rating</th>\n",
              "      <th>rating total</th>\n",
              "      <th>genre list</th>\n",
              "      <th>content</th>\n",
              "      <th>countries of origin</th>\n",
              "      <th>official sites</th>\n",
              "      <th>languages</th>\n",
              "      <th>production companies</th>\n",
              "      <th>budget</th>\n",
              "      <th>movie index</th>\n",
              "      <th>Musical</th>\n",
              "      <th>Drama</th>\n",
              "      <th>News</th>\n",
              "      <th>Film-Noir</th>\n",
              "      <th>Talk-Show</th>\n",
              "      <th>Fantasy</th>\n",
              "      <th>Family</th>\n",
              "      <th>Action</th>\n",
              "      <th>Adventure</th>\n",
              "      <th>War</th>\n",
              "      <th>Thriller</th>\n",
              "      <th>Animation</th>\n",
              "      <th>Documentary</th>\n",
              "      <th>Comedy</th>\n",
              "      <th>Reality-TV</th>\n",
              "      <th>Western</th>\n",
              "      <th>Romance</th>\n",
              "      <th>Horror</th>\n",
              "      <th>Biography</th>\n",
              "      <th>Game-Show</th>\n",
              "      <th>Mystery</th>\n",
              "      <th>History</th>\n",
              "      <th>Music</th>\n",
              "      <th>Short</th>\n",
              "      <th>Sport</th>\n",
              "      <th>Sci-Fi</th>\n",
              "      <th>Crime</th>\n",
              "      <th>image_url</th>\n",
              "    </tr>\n",
              "  </thead>\n",
              "  <tbody>\n",
              "    <tr>\n",
              "      <th>0</th>\n",
              "      <td>tt0102813</td>\n",
              "      <td>Rover Dangerfield</td>\n",
              "      <td>NaN</td>\n",
              "      <td>1991</td>\n",
              "      <td>G</td>\n",
              "      <td>1h 14m</td>\n",
              "      <td>6.0</td>\n",
              "      <td>3K</td>\n",
              "      <td>Animation|Comedy|Family</td>\n",
              "      <td>A Vegas show dog gets ditched in the sticks an...</td>\n",
              "      <td>United States</td>\n",
              "      <td>NaN</td>\n",
              "      <td>English</td>\n",
              "      <td>NaN</td>\n",
              "      <td>NaN</td>\n",
              "      <td>6914</td>\n",
              "      <td>0.0</td>\n",
              "      <td>0.0</td>\n",
              "      <td>0.0</td>\n",
              "      <td>0.0</td>\n",
              "      <td>0.0</td>\n",
              "      <td>0.0</td>\n",
              "      <td>1.0</td>\n",
              "      <td>0.0</td>\n",
              "      <td>0.0</td>\n",
              "      <td>0.0</td>\n",
              "      <td>0.0</td>\n",
              "      <td>1.0</td>\n",
              "      <td>0.0</td>\n",
              "      <td>1.0</td>\n",
              "      <td>0.0</td>\n",
              "      <td>0.0</td>\n",
              "      <td>0.0</td>\n",
              "      <td>0.0</td>\n",
              "      <td>0.0</td>\n",
              "      <td>0.0</td>\n",
              "      <td>0.0</td>\n",
              "      <td>0.0</td>\n",
              "      <td>0.0</td>\n",
              "      <td>0.0</td>\n",
              "      <td>0.0</td>\n",
              "      <td>0.0</td>\n",
              "      <td>0.0</td>\n",
              "      <td>https://m.media-amazon.com/images/M/MV5BYmUyNW...</td>\n",
              "    </tr>\n",
              "    <tr>\n",
              "      <th>1</th>\n",
              "      <td>tt1086761</td>\n",
              "      <td>Keeping Up with the Kardashians</td>\n",
              "      <td>TV Series</td>\n",
              "      <td>2006â2021</td>\n",
              "      <td>TV-14</td>\n",
              "      <td>44m</td>\n",
              "      <td>2.8</td>\n",
              "      <td>29K</td>\n",
              "      <td>Drama|Family|Reality-TV</td>\n",
              "      <td>A peek inside the exploits and privileged priv...</td>\n",
              "      <td>United States</td>\n",
              "      <td>Official sites|Official Facebook|Official Inst...</td>\n",
              "      <td>English|Spanish</td>\n",
              "      <td>NaN</td>\n",
              "      <td>NaN</td>\n",
              "      <td>3783</td>\n",
              "      <td>0.0</td>\n",
              "      <td>1.0</td>\n",
              "      <td>0.0</td>\n",
              "      <td>0.0</td>\n",
              "      <td>0.0</td>\n",
              "      <td>0.0</td>\n",
              "      <td>1.0</td>\n",
              "      <td>0.0</td>\n",
              "      <td>0.0</td>\n",
              "      <td>0.0</td>\n",
              "      <td>0.0</td>\n",
              "      <td>0.0</td>\n",
              "      <td>0.0</td>\n",
              "      <td>0.0</td>\n",
              "      <td>1.0</td>\n",
              "      <td>0.0</td>\n",
              "      <td>0.0</td>\n",
              "      <td>0.0</td>\n",
              "      <td>0.0</td>\n",
              "      <td>0.0</td>\n",
              "      <td>0.0</td>\n",
              "      <td>0.0</td>\n",
              "      <td>0.0</td>\n",
              "      <td>0.0</td>\n",
              "      <td>0.0</td>\n",
              "      <td>0.0</td>\n",
              "      <td>0.0</td>\n",
              "      <td>https://m.media-amazon.com/images/M/MV5BMjJhMz...</td>\n",
              "    </tr>\n",
              "    <tr>\n",
              "      <th>2</th>\n",
              "      <td>tt0075686</td>\n",
              "      <td>Annie Hall</td>\n",
              "      <td>NaN</td>\n",
              "      <td>1977</td>\n",
              "      <td>PG</td>\n",
              "      <td>1h 33m</td>\n",
              "      <td>8.0</td>\n",
              "      <td>259K</td>\n",
              "      <td>Comedy|Romance</td>\n",
              "      <td>Alvy Singer, a divorced Jewish comedian, refle...</td>\n",
              "      <td>United States</td>\n",
              "      <td>NaN</td>\n",
              "      <td>English|German</td>\n",
              "      <td>NaN</td>\n",
              "      <td>$38,287,178</td>\n",
              "      <td>4554</td>\n",
              "      <td>0.0</td>\n",
              "      <td>0.0</td>\n",
              "      <td>0.0</td>\n",
              "      <td>0.0</td>\n",
              "      <td>0.0</td>\n",
              "      <td>0.0</td>\n",
              "      <td>0.0</td>\n",
              "      <td>0.0</td>\n",
              "      <td>0.0</td>\n",
              "      <td>0.0</td>\n",
              "      <td>0.0</td>\n",
              "      <td>0.0</td>\n",
              "      <td>0.0</td>\n",
              "      <td>1.0</td>\n",
              "      <td>0.0</td>\n",
              "      <td>0.0</td>\n",
              "      <td>1.0</td>\n",
              "      <td>0.0</td>\n",
              "      <td>0.0</td>\n",
              "      <td>0.0</td>\n",
              "      <td>0.0</td>\n",
              "      <td>0.0</td>\n",
              "      <td>0.0</td>\n",
              "      <td>0.0</td>\n",
              "      <td>0.0</td>\n",
              "      <td>0.0</td>\n",
              "      <td>0.0</td>\n",
              "      <td>https://m.media-amazon.com/images/M/MV5BZDg1OG...</td>\n",
              "    </tr>\n",
              "    <tr>\n",
              "      <th>3</th>\n",
              "      <td>tt1402488</td>\n",
              "      <td>Happy Feet Two</td>\n",
              "      <td>NaN</td>\n",
              "      <td>2011</td>\n",
              "      <td>PG</td>\n",
              "      <td>1h 40m</td>\n",
              "      <td>5.9</td>\n",
              "      <td>44K</td>\n",
              "      <td>Animation|Adventure|Comedy</td>\n",
              "      <td>Mumble's son, Erik, is struggling to realize h...</td>\n",
              "      <td>Australia|United States|Antarctica|New Zealand</td>\n",
              "      <td>Official site</td>\n",
              "      <td>English</td>\n",
              "      <td>NaN</td>\n",
              "      <td>$159,197,038</td>\n",
              "      <td>3340</td>\n",
              "      <td>0.0</td>\n",
              "      <td>0.0</td>\n",
              "      <td>0.0</td>\n",
              "      <td>0.0</td>\n",
              "      <td>0.0</td>\n",
              "      <td>0.0</td>\n",
              "      <td>0.0</td>\n",
              "      <td>0.0</td>\n",
              "      <td>1.0</td>\n",
              "      <td>0.0</td>\n",
              "      <td>0.0</td>\n",
              "      <td>1.0</td>\n",
              "      <td>0.0</td>\n",
              "      <td>1.0</td>\n",
              "      <td>0.0</td>\n",
              "      <td>0.0</td>\n",
              "      <td>0.0</td>\n",
              "      <td>0.0</td>\n",
              "      <td>0.0</td>\n",
              "      <td>0.0</td>\n",
              "      <td>0.0</td>\n",
              "      <td>0.0</td>\n",
              "      <td>0.0</td>\n",
              "      <td>0.0</td>\n",
              "      <td>0.0</td>\n",
              "      <td>0.0</td>\n",
              "      <td>0.0</td>\n",
              "      <td>https://m.media-amazon.com/images/M/MV5BMTg1Mz...</td>\n",
              "    </tr>\n",
              "    <tr>\n",
              "      <th>4</th>\n",
              "      <td>tt1087461</td>\n",
              "      <td>Megan Is Missing</td>\n",
              "      <td>NaN</td>\n",
              "      <td>2011</td>\n",
              "      <td>Not Rated</td>\n",
              "      <td>1h 25m</td>\n",
              "      <td>4.5</td>\n",
              "      <td>12K</td>\n",
              "      <td>Drama|Horror|Thriller</td>\n",
              "      <td>Two teenage girls encounter an Internet child ...</td>\n",
              "      <td>United States</td>\n",
              "      <td>MySpace|Official site</td>\n",
              "      <td>English</td>\n",
              "      <td>NaN</td>\n",
              "      <td>NaN</td>\n",
              "      <td>6742</td>\n",
              "      <td>0.0</td>\n",
              "      <td>1.0</td>\n",
              "      <td>0.0</td>\n",
              "      <td>0.0</td>\n",
              "      <td>0.0</td>\n",
              "      <td>0.0</td>\n",
              "      <td>0.0</td>\n",
              "      <td>0.0</td>\n",
              "      <td>0.0</td>\n",
              "      <td>0.0</td>\n",
              "      <td>1.0</td>\n",
              "      <td>0.0</td>\n",
              "      <td>0.0</td>\n",
              "      <td>0.0</td>\n",
              "      <td>0.0</td>\n",
              "      <td>0.0</td>\n",
              "      <td>0.0</td>\n",
              "      <td>1.0</td>\n",
              "      <td>0.0</td>\n",
              "      <td>0.0</td>\n",
              "      <td>0.0</td>\n",
              "      <td>0.0</td>\n",
              "      <td>0.0</td>\n",
              "      <td>0.0</td>\n",
              "      <td>0.0</td>\n",
              "      <td>0.0</td>\n",
              "      <td>0.0</td>\n",
              "      <td>https://m.media-amazon.com/images/M/MV5BMTU0Nz...</td>\n",
              "    </tr>\n",
              "  </tbody>\n",
              "</table>\n",
              "</div>\n",
              "      <button class=\"colab-df-convert\" onclick=\"convertToInteractive('df-2701855a-c10b-4993-ab64-7256466d9b96')\"\n",
              "              title=\"Convert this dataframe to an interactive table.\"\n",
              "              style=\"display:none;\">\n",
              "        \n",
              "  <svg xmlns=\"http://www.w3.org/2000/svg\" height=\"24px\"viewBox=\"0 0 24 24\"\n",
              "       width=\"24px\">\n",
              "    <path d=\"M0 0h24v24H0V0z\" fill=\"none\"/>\n",
              "    <path d=\"M18.56 5.44l.94 2.06.94-2.06 2.06-.94-2.06-.94-.94-2.06-.94 2.06-2.06.94zm-11 1L8.5 8.5l.94-2.06 2.06-.94-2.06-.94L8.5 2.5l-.94 2.06-2.06.94zm10 10l.94 2.06.94-2.06 2.06-.94-2.06-.94-.94-2.06-.94 2.06-2.06.94z\"/><path d=\"M17.41 7.96l-1.37-1.37c-.4-.4-.92-.59-1.43-.59-.52 0-1.04.2-1.43.59L10.3 9.45l-7.72 7.72c-.78.78-.78 2.05 0 2.83L4 21.41c.39.39.9.59 1.41.59.51 0 1.02-.2 1.41-.59l7.78-7.78 2.81-2.81c.8-.78.8-2.07 0-2.86zM5.41 20L4 18.59l7.72-7.72 1.47 1.35L5.41 20z\"/>\n",
              "  </svg>\n",
              "      </button>\n",
              "      \n",
              "  <style>\n",
              "    .colab-df-container {\n",
              "      display:flex;\n",
              "      flex-wrap:wrap;\n",
              "      gap: 12px;\n",
              "    }\n",
              "\n",
              "    .colab-df-convert {\n",
              "      background-color: #E8F0FE;\n",
              "      border: none;\n",
              "      border-radius: 50%;\n",
              "      cursor: pointer;\n",
              "      display: none;\n",
              "      fill: #1967D2;\n",
              "      height: 32px;\n",
              "      padding: 0 0 0 0;\n",
              "      width: 32px;\n",
              "    }\n",
              "\n",
              "    .colab-df-convert:hover {\n",
              "      background-color: #E2EBFA;\n",
              "      box-shadow: 0px 1px 2px rgba(60, 64, 67, 0.3), 0px 1px 3px 1px rgba(60, 64, 67, 0.15);\n",
              "      fill: #174EA6;\n",
              "    }\n",
              "\n",
              "    [theme=dark] .colab-df-convert {\n",
              "      background-color: #3B4455;\n",
              "      fill: #D2E3FC;\n",
              "    }\n",
              "\n",
              "    [theme=dark] .colab-df-convert:hover {\n",
              "      background-color: #434B5C;\n",
              "      box-shadow: 0px 1px 3px 1px rgba(0, 0, 0, 0.15);\n",
              "      filter: drop-shadow(0px 1px 2px rgba(0, 0, 0, 0.3));\n",
              "      fill: #FFFFFF;\n",
              "    }\n",
              "  </style>\n",
              "\n",
              "      <script>\n",
              "        const buttonEl =\n",
              "          document.querySelector('#df-2701855a-c10b-4993-ab64-7256466d9b96 button.colab-df-convert');\n",
              "        buttonEl.style.display =\n",
              "          google.colab.kernel.accessAllowed ? 'block' : 'none';\n",
              "\n",
              "        async function convertToInteractive(key) {\n",
              "          const element = document.querySelector('#df-2701855a-c10b-4993-ab64-7256466d9b96');\n",
              "          const dataTable =\n",
              "            await google.colab.kernel.invokeFunction('convertToInteractive',\n",
              "                                                     [key], {});\n",
              "          if (!dataTable) return;\n",
              "\n",
              "          const docLinkHtml = 'Like what you see? Visit the ' +\n",
              "            '<a target=\"_blank\" href=https://colab.research.google.com/notebooks/data_table.ipynb>data table notebook</a>'\n",
              "            + ' to learn more about interactive tables.';\n",
              "          element.innerHTML = '';\n",
              "          dataTable['output_type'] = 'display_data';\n",
              "          await google.colab.output.renderOutput(dataTable, element);\n",
              "          const docLink = document.createElement('div');\n",
              "          docLink.innerHTML = docLinkHtml;\n",
              "          element.appendChild(docLink);\n",
              "        }\n",
              "      </script>\n",
              "    </div>\n",
              "  </div>\n",
              "  "
            ],
            "text/plain": [
              "    movie id  ...                                          image_url\n",
              "0  tt0102813  ...  https://m.media-amazon.com/images/M/MV5BYmUyNW...\n",
              "1  tt1086761  ...  https://m.media-amazon.com/images/M/MV5BMjJhMz...\n",
              "2  tt0075686  ...  https://m.media-amazon.com/images/M/MV5BZDg1OG...\n",
              "3  tt1402488  ...  https://m.media-amazon.com/images/M/MV5BMTg1Mz...\n",
              "4  tt1087461  ...  https://m.media-amazon.com/images/M/MV5BMTU0Nz...\n",
              "\n",
              "[5 rows x 44 columns]"
            ]
          },
          "metadata": {},
          "execution_count": 7
        }
      ]
    },
    {
      "cell_type": "code",
      "source": [
        "num_users  = len(ratings['user index'].value_counts())\n",
        "num_items  = len(ratings['movie index'].value_counts())\n",
        "print(num_users, num_items)\n",
        "sparsity = round(1.0 - len(ratings)/(1.0*(num_users*num_items)),3)\n",
        "print(sparsity)"
      ],
      "metadata": {
        "colab": {
          "base_uri": "https://localhost:8080/"
        },
        "id": "n8EiqJXA4lai",
        "outputId": "d4054e79-2468-4615-9855-45dfca509811"
      },
      "execution_count": null,
      "outputs": [
        {
          "output_type": "stream",
          "name": "stdout",
          "text": [
            "1390 8352\n",
            "0.992\n"
          ]
        }
      ]
    },
    {
      "cell_type": "code",
      "source": [
        "user_maxId = num_users - 1\n",
        "item_maxId = num_items - 1"
      ],
      "metadata": {
        "id": "6iJI1qOT7ex8"
      },
      "execution_count": null,
      "outputs": []
    },
    {
      "cell_type": "code",
      "source": [
        "ratings"
      ],
      "metadata": {
        "colab": {
          "base_uri": "https://localhost:8080/",
          "height": 424
        },
        "id": "dfbS0wSOcR2F",
        "outputId": "20366175-7a9a-4df4-e3eb-c6621ad02003"
      },
      "execution_count": null,
      "outputs": [
        {
          "output_type": "execute_result",
          "data": {
            "text/html": [
              "\n",
              "  <div id=\"df-8fda808a-1841-42a5-aaae-3b628ad9fc3a\">\n",
              "    <div class=\"colab-df-container\">\n",
              "      <div>\n",
              "<style scoped>\n",
              "    .dataframe tbody tr th:only-of-type {\n",
              "        vertical-align: middle;\n",
              "    }\n",
              "\n",
              "    .dataframe tbody tr th {\n",
              "        vertical-align: top;\n",
              "    }\n",
              "\n",
              "    .dataframe thead th {\n",
              "        text-align: right;\n",
              "    }\n",
              "</style>\n",
              "<table border=\"1\" class=\"dataframe\">\n",
              "  <thead>\n",
              "    <tr style=\"text-align: right;\">\n",
              "      <th></th>\n",
              "      <th>user index</th>\n",
              "      <th>movie index</th>\n",
              "      <th>rating</th>\n",
              "    </tr>\n",
              "  </thead>\n",
              "  <tbody>\n",
              "    <tr>\n",
              "      <th>0</th>\n",
              "      <td>81</td>\n",
              "      <td>6914</td>\n",
              "      <td>2</td>\n",
              "    </tr>\n",
              "    <tr>\n",
              "      <th>1</th>\n",
              "      <td>81</td>\n",
              "      <td>3393</td>\n",
              "      <td>5</td>\n",
              "    </tr>\n",
              "    <tr>\n",
              "      <th>2</th>\n",
              "      <td>81</td>\n",
              "      <td>3507</td>\n",
              "      <td>5</td>\n",
              "    </tr>\n",
              "    <tr>\n",
              "      <th>3</th>\n",
              "      <td>81</td>\n",
              "      <td>3181</td>\n",
              "      <td>5</td>\n",
              "    </tr>\n",
              "    <tr>\n",
              "      <th>4</th>\n",
              "      <td>81</td>\n",
              "      <td>4699</td>\n",
              "      <td>2</td>\n",
              "    </tr>\n",
              "    <tr>\n",
              "      <th>...</th>\n",
              "      <td>...</td>\n",
              "      <td>...</td>\n",
              "      <td>...</td>\n",
              "    </tr>\n",
              "    <tr>\n",
              "      <th>93241</th>\n",
              "      <td>1326</td>\n",
              "      <td>6147</td>\n",
              "      <td>5</td>\n",
              "    </tr>\n",
              "    <tr>\n",
              "      <th>93242</th>\n",
              "      <td>1326</td>\n",
              "      <td>6277</td>\n",
              "      <td>1</td>\n",
              "    </tr>\n",
              "    <tr>\n",
              "      <th>93243</th>\n",
              "      <td>1326</td>\n",
              "      <td>6876</td>\n",
              "      <td>1</td>\n",
              "    </tr>\n",
              "    <tr>\n",
              "      <th>93244</th>\n",
              "      <td>1326</td>\n",
              "      <td>7319</td>\n",
              "      <td>4</td>\n",
              "    </tr>\n",
              "    <tr>\n",
              "      <th>93245</th>\n",
              "      <td>1326</td>\n",
              "      <td>6592</td>\n",
              "      <td>5</td>\n",
              "    </tr>\n",
              "  </tbody>\n",
              "</table>\n",
              "<p>92544 rows × 3 columns</p>\n",
              "</div>\n",
              "      <button class=\"colab-df-convert\" onclick=\"convertToInteractive('df-8fda808a-1841-42a5-aaae-3b628ad9fc3a')\"\n",
              "              title=\"Convert this dataframe to an interactive table.\"\n",
              "              style=\"display:none;\">\n",
              "        \n",
              "  <svg xmlns=\"http://www.w3.org/2000/svg\" height=\"24px\"viewBox=\"0 0 24 24\"\n",
              "       width=\"24px\">\n",
              "    <path d=\"M0 0h24v24H0V0z\" fill=\"none\"/>\n",
              "    <path d=\"M18.56 5.44l.94 2.06.94-2.06 2.06-.94-2.06-.94-.94-2.06-.94 2.06-2.06.94zm-11 1L8.5 8.5l.94-2.06 2.06-.94-2.06-.94L8.5 2.5l-.94 2.06-2.06.94zm10 10l.94 2.06.94-2.06 2.06-.94-2.06-.94-.94-2.06-.94 2.06-2.06.94z\"/><path d=\"M17.41 7.96l-1.37-1.37c-.4-.4-.92-.59-1.43-.59-.52 0-1.04.2-1.43.59L10.3 9.45l-7.72 7.72c-.78.78-.78 2.05 0 2.83L4 21.41c.39.39.9.59 1.41.59.51 0 1.02-.2 1.41-.59l7.78-7.78 2.81-2.81c.8-.78.8-2.07 0-2.86zM5.41 20L4 18.59l7.72-7.72 1.47 1.35L5.41 20z\"/>\n",
              "  </svg>\n",
              "      </button>\n",
              "      \n",
              "  <style>\n",
              "    .colab-df-container {\n",
              "      display:flex;\n",
              "      flex-wrap:wrap;\n",
              "      gap: 12px;\n",
              "    }\n",
              "\n",
              "    .colab-df-convert {\n",
              "      background-color: #E8F0FE;\n",
              "      border: none;\n",
              "      border-radius: 50%;\n",
              "      cursor: pointer;\n",
              "      display: none;\n",
              "      fill: #1967D2;\n",
              "      height: 32px;\n",
              "      padding: 0 0 0 0;\n",
              "      width: 32px;\n",
              "    }\n",
              "\n",
              "    .colab-df-convert:hover {\n",
              "      background-color: #E2EBFA;\n",
              "      box-shadow: 0px 1px 2px rgba(60, 64, 67, 0.3), 0px 1px 3px 1px rgba(60, 64, 67, 0.15);\n",
              "      fill: #174EA6;\n",
              "    }\n",
              "\n",
              "    [theme=dark] .colab-df-convert {\n",
              "      background-color: #3B4455;\n",
              "      fill: #D2E3FC;\n",
              "    }\n",
              "\n",
              "    [theme=dark] .colab-df-convert:hover {\n",
              "      background-color: #434B5C;\n",
              "      box-shadow: 0px 1px 3px 1px rgba(0, 0, 0, 0.15);\n",
              "      filter: drop-shadow(0px 1px 2px rgba(0, 0, 0, 0.3));\n",
              "      fill: #FFFFFF;\n",
              "    }\n",
              "  </style>\n",
              "\n",
              "      <script>\n",
              "        const buttonEl =\n",
              "          document.querySelector('#df-8fda808a-1841-42a5-aaae-3b628ad9fc3a button.colab-df-convert');\n",
              "        buttonEl.style.display =\n",
              "          google.colab.kernel.accessAllowed ? 'block' : 'none';\n",
              "\n",
              "        async function convertToInteractive(key) {\n",
              "          const element = document.querySelector('#df-8fda808a-1841-42a5-aaae-3b628ad9fc3a');\n",
              "          const dataTable =\n",
              "            await google.colab.kernel.invokeFunction('convertToInteractive',\n",
              "                                                     [key], {});\n",
              "          if (!dataTable) return;\n",
              "\n",
              "          const docLinkHtml = 'Like what you see? Visit the ' +\n",
              "            '<a target=\"_blank\" href=https://colab.research.google.com/notebooks/data_table.ipynb>data table notebook</a>'\n",
              "            + ' to learn more about interactive tables.';\n",
              "          element.innerHTML = '';\n",
              "          dataTable['output_type'] = 'display_data';\n",
              "          await google.colab.output.renderOutput(dataTable, element);\n",
              "          const docLink = document.createElement('div');\n",
              "          docLink.innerHTML = docLinkHtml;\n",
              "          element.appendChild(docLink);\n",
              "        }\n",
              "      </script>\n",
              "    </div>\n",
              "  </div>\n",
              "  "
            ],
            "text/plain": [
              "       user index  movie index  rating\n",
              "0              81         6914       2\n",
              "1              81         3393       5\n",
              "2              81         3507       5\n",
              "3              81         3181       5\n",
              "4              81         4699       2\n",
              "...           ...          ...     ...\n",
              "93241        1326         6147       5\n",
              "93242        1326         6277       1\n",
              "93243        1326         6876       1\n",
              "93244        1326         7319       4\n",
              "93245        1326         6592       5\n",
              "\n",
              "[92544 rows x 3 columns]"
            ]
          },
          "metadata": {},
          "execution_count": 10
        }
      ]
    },
    {
      "cell_type": "code",
      "source": [
        "df_user_item = ratings.pivot(index='user index', columns='movie index', values='rating')\n",
        "    # reset movieId\n",
        "df_user_item = df_user_item.T.reset_index(drop=True).T\n",
        "ratings.pivot(index='user index', columns='movie index', values='rating').T.reset_index(drop=True).T.reset_index('user index').melt(\n",
        "            id_vars='user index',\n",
        "            value_vars=df_user_item.columns,\n",
        "            var_name='movie index',\n",
        "            value_name='rating')"
      ],
      "metadata": {
        "colab": {
          "base_uri": "https://localhost:8080/",
          "height": 424
        },
        "id": "BaFPSqdncVWH",
        "outputId": "38f50bc7-2f1d-42e5-f58d-a2070c139b99"
      },
      "execution_count": null,
      "outputs": [
        {
          "output_type": "execute_result",
          "data": {
            "text/html": [
              "\n",
              "  <div id=\"df-dddba27a-c89a-4a49-8360-6612a7c1557d\">\n",
              "    <div class=\"colab-df-container\">\n",
              "      <div>\n",
              "<style scoped>\n",
              "    .dataframe tbody tr th:only-of-type {\n",
              "        vertical-align: middle;\n",
              "    }\n",
              "\n",
              "    .dataframe tbody tr th {\n",
              "        vertical-align: top;\n",
              "    }\n",
              "\n",
              "    .dataframe thead th {\n",
              "        text-align: right;\n",
              "    }\n",
              "</style>\n",
              "<table border=\"1\" class=\"dataframe\">\n",
              "  <thead>\n",
              "    <tr style=\"text-align: right;\">\n",
              "      <th></th>\n",
              "      <th>user index</th>\n",
              "      <th>movie index</th>\n",
              "      <th>rating</th>\n",
              "    </tr>\n",
              "  </thead>\n",
              "  <tbody>\n",
              "    <tr>\n",
              "      <th>0</th>\n",
              "      <td>0</td>\n",
              "      <td>0</td>\n",
              "      <td>NaN</td>\n",
              "    </tr>\n",
              "    <tr>\n",
              "      <th>1</th>\n",
              "      <td>1</td>\n",
              "      <td>0</td>\n",
              "      <td>NaN</td>\n",
              "    </tr>\n",
              "    <tr>\n",
              "      <th>2</th>\n",
              "      <td>2</td>\n",
              "      <td>0</td>\n",
              "      <td>4.0</td>\n",
              "    </tr>\n",
              "    <tr>\n",
              "      <th>3</th>\n",
              "      <td>3</td>\n",
              "      <td>0</td>\n",
              "      <td>NaN</td>\n",
              "    </tr>\n",
              "    <tr>\n",
              "      <th>4</th>\n",
              "      <td>4</td>\n",
              "      <td>0</td>\n",
              "      <td>NaN</td>\n",
              "    </tr>\n",
              "    <tr>\n",
              "      <th>...</th>\n",
              "      <td>...</td>\n",
              "      <td>...</td>\n",
              "      <td>...</td>\n",
              "    </tr>\n",
              "    <tr>\n",
              "      <th>11609275</th>\n",
              "      <td>1385</td>\n",
              "      <td>8351</td>\n",
              "      <td>NaN</td>\n",
              "    </tr>\n",
              "    <tr>\n",
              "      <th>11609276</th>\n",
              "      <td>1386</td>\n",
              "      <td>8351</td>\n",
              "      <td>NaN</td>\n",
              "    </tr>\n",
              "    <tr>\n",
              "      <th>11609277</th>\n",
              "      <td>1387</td>\n",
              "      <td>8351</td>\n",
              "      <td>NaN</td>\n",
              "    </tr>\n",
              "    <tr>\n",
              "      <th>11609278</th>\n",
              "      <td>1388</td>\n",
              "      <td>8351</td>\n",
              "      <td>NaN</td>\n",
              "    </tr>\n",
              "    <tr>\n",
              "      <th>11609279</th>\n",
              "      <td>1389</td>\n",
              "      <td>8351</td>\n",
              "      <td>NaN</td>\n",
              "    </tr>\n",
              "  </tbody>\n",
              "</table>\n",
              "<p>11609280 rows × 3 columns</p>\n",
              "</div>\n",
              "      <button class=\"colab-df-convert\" onclick=\"convertToInteractive('df-dddba27a-c89a-4a49-8360-6612a7c1557d')\"\n",
              "              title=\"Convert this dataframe to an interactive table.\"\n",
              "              style=\"display:none;\">\n",
              "        \n",
              "  <svg xmlns=\"http://www.w3.org/2000/svg\" height=\"24px\"viewBox=\"0 0 24 24\"\n",
              "       width=\"24px\">\n",
              "    <path d=\"M0 0h24v24H0V0z\" fill=\"none\"/>\n",
              "    <path d=\"M18.56 5.44l.94 2.06.94-2.06 2.06-.94-2.06-.94-.94-2.06-.94 2.06-2.06.94zm-11 1L8.5 8.5l.94-2.06 2.06-.94-2.06-.94L8.5 2.5l-.94 2.06-2.06.94zm10 10l.94 2.06.94-2.06 2.06-.94-2.06-.94-.94-2.06-.94 2.06-2.06.94z\"/><path d=\"M17.41 7.96l-1.37-1.37c-.4-.4-.92-.59-1.43-.59-.52 0-1.04.2-1.43.59L10.3 9.45l-7.72 7.72c-.78.78-.78 2.05 0 2.83L4 21.41c.39.39.9.59 1.41.59.51 0 1.02-.2 1.41-.59l7.78-7.78 2.81-2.81c.8-.78.8-2.07 0-2.86zM5.41 20L4 18.59l7.72-7.72 1.47 1.35L5.41 20z\"/>\n",
              "  </svg>\n",
              "      </button>\n",
              "      \n",
              "  <style>\n",
              "    .colab-df-container {\n",
              "      display:flex;\n",
              "      flex-wrap:wrap;\n",
              "      gap: 12px;\n",
              "    }\n",
              "\n",
              "    .colab-df-convert {\n",
              "      background-color: #E8F0FE;\n",
              "      border: none;\n",
              "      border-radius: 50%;\n",
              "      cursor: pointer;\n",
              "      display: none;\n",
              "      fill: #1967D2;\n",
              "      height: 32px;\n",
              "      padding: 0 0 0 0;\n",
              "      width: 32px;\n",
              "    }\n",
              "\n",
              "    .colab-df-convert:hover {\n",
              "      background-color: #E2EBFA;\n",
              "      box-shadow: 0px 1px 2px rgba(60, 64, 67, 0.3), 0px 1px 3px 1px rgba(60, 64, 67, 0.15);\n",
              "      fill: #174EA6;\n",
              "    }\n",
              "\n",
              "    [theme=dark] .colab-df-convert {\n",
              "      background-color: #3B4455;\n",
              "      fill: #D2E3FC;\n",
              "    }\n",
              "\n",
              "    [theme=dark] .colab-df-convert:hover {\n",
              "      background-color: #434B5C;\n",
              "      box-shadow: 0px 1px 3px 1px rgba(0, 0, 0, 0.15);\n",
              "      filter: drop-shadow(0px 1px 2px rgba(0, 0, 0, 0.3));\n",
              "      fill: #FFFFFF;\n",
              "    }\n",
              "  </style>\n",
              "\n",
              "      <script>\n",
              "        const buttonEl =\n",
              "          document.querySelector('#df-dddba27a-c89a-4a49-8360-6612a7c1557d button.colab-df-convert');\n",
              "        buttonEl.style.display =\n",
              "          google.colab.kernel.accessAllowed ? 'block' : 'none';\n",
              "\n",
              "        async function convertToInteractive(key) {\n",
              "          const element = document.querySelector('#df-dddba27a-c89a-4a49-8360-6612a7c1557d');\n",
              "          const dataTable =\n",
              "            await google.colab.kernel.invokeFunction('convertToInteractive',\n",
              "                                                     [key], {});\n",
              "          if (!dataTable) return;\n",
              "\n",
              "          const docLinkHtml = 'Like what you see? Visit the ' +\n",
              "            '<a target=\"_blank\" href=https://colab.research.google.com/notebooks/data_table.ipynb>data table notebook</a>'\n",
              "            + ' to learn more about interactive tables.';\n",
              "          element.innerHTML = '';\n",
              "          dataTable['output_type'] = 'display_data';\n",
              "          await google.colab.output.renderOutput(dataTable, element);\n",
              "          const docLink = document.createElement('div');\n",
              "          docLink.innerHTML = docLinkHtml;\n",
              "          element.appendChild(docLink);\n",
              "        }\n",
              "      </script>\n",
              "    </div>\n",
              "  </div>\n",
              "  "
            ],
            "text/plain": [
              "          user index movie index  rating\n",
              "0                  0           0     NaN\n",
              "1                  1           0     NaN\n",
              "2                  2           0     4.0\n",
              "3                  3           0     NaN\n",
              "4                  4           0     NaN\n",
              "...              ...         ...     ...\n",
              "11609275        1385        8351     NaN\n",
              "11609276        1386        8351     NaN\n",
              "11609277        1387        8351     NaN\n",
              "11609278        1388        8351     NaN\n",
              "11609279        1389        8351     NaN\n",
              "\n",
              "[11609280 rows x 3 columns]"
            ]
          },
          "metadata": {},
          "execution_count": 11
        }
      ]
    },
    {
      "cell_type": "code",
      "source": [
        "def reduce_item_dim(df_ratings):\n",
        "    # pivot\n",
        "    df_user_item = df_ratings.pivot(index='user index', columns='movie index', values='rating')\n",
        "    # reset movieId\n",
        "    df_user_item = df_user_item.T.reset_index(drop=True).T\n",
        "    # undo pivot/melt - compress data frame\n",
        "    df_ratings_new = df_user_item \\\n",
        "        .reset_index('user index') \\\n",
        "        .melt(\n",
        "            id_vars='user index', \n",
        "            value_vars=df_user_item.columns,\n",
        "            var_name='movie index',\n",
        "            value_name='rating')\n",
        "    # drop nan and final clean up\n",
        "    return df_ratings_new.dropna().sort_values(['user index', 'movie index']).reset_index(drop=True)"
      ],
      "metadata": {
        "id": "ldZj1s8b8YfK"
      },
      "execution_count": null,
      "outputs": []
    },
    {
      "cell_type": "code",
      "source": [
        "print('reduce item dimension before:')\n",
        "ratings.head()"
      ],
      "metadata": {
        "colab": {
          "base_uri": "https://localhost:8080/",
          "height": 224
        },
        "id": "S4rEKFtb8bei",
        "outputId": "117dd806-fa05-4212-8f60-140e2c5ccef0"
      },
      "execution_count": null,
      "outputs": [
        {
          "output_type": "stream",
          "name": "stdout",
          "text": [
            "reduce item dimension before:\n"
          ]
        },
        {
          "output_type": "execute_result",
          "data": {
            "text/html": [
              "\n",
              "  <div id=\"df-65b2c8b0-e7ed-41e8-b929-bbcf78d9159c\">\n",
              "    <div class=\"colab-df-container\">\n",
              "      <div>\n",
              "<style scoped>\n",
              "    .dataframe tbody tr th:only-of-type {\n",
              "        vertical-align: middle;\n",
              "    }\n",
              "\n",
              "    .dataframe tbody tr th {\n",
              "        vertical-align: top;\n",
              "    }\n",
              "\n",
              "    .dataframe thead th {\n",
              "        text-align: right;\n",
              "    }\n",
              "</style>\n",
              "<table border=\"1\" class=\"dataframe\">\n",
              "  <thead>\n",
              "    <tr style=\"text-align: right;\">\n",
              "      <th></th>\n",
              "      <th>user index</th>\n",
              "      <th>movie index</th>\n",
              "      <th>rating</th>\n",
              "    </tr>\n",
              "  </thead>\n",
              "  <tbody>\n",
              "    <tr>\n",
              "      <th>0</th>\n",
              "      <td>81</td>\n",
              "      <td>6914</td>\n",
              "      <td>2</td>\n",
              "    </tr>\n",
              "    <tr>\n",
              "      <th>1</th>\n",
              "      <td>81</td>\n",
              "      <td>3393</td>\n",
              "      <td>5</td>\n",
              "    </tr>\n",
              "    <tr>\n",
              "      <th>2</th>\n",
              "      <td>81</td>\n",
              "      <td>3507</td>\n",
              "      <td>5</td>\n",
              "    </tr>\n",
              "    <tr>\n",
              "      <th>3</th>\n",
              "      <td>81</td>\n",
              "      <td>3181</td>\n",
              "      <td>5</td>\n",
              "    </tr>\n",
              "    <tr>\n",
              "      <th>4</th>\n",
              "      <td>81</td>\n",
              "      <td>4699</td>\n",
              "      <td>2</td>\n",
              "    </tr>\n",
              "  </tbody>\n",
              "</table>\n",
              "</div>\n",
              "      <button class=\"colab-df-convert\" onclick=\"convertToInteractive('df-65b2c8b0-e7ed-41e8-b929-bbcf78d9159c')\"\n",
              "              title=\"Convert this dataframe to an interactive table.\"\n",
              "              style=\"display:none;\">\n",
              "        \n",
              "  <svg xmlns=\"http://www.w3.org/2000/svg\" height=\"24px\"viewBox=\"0 0 24 24\"\n",
              "       width=\"24px\">\n",
              "    <path d=\"M0 0h24v24H0V0z\" fill=\"none\"/>\n",
              "    <path d=\"M18.56 5.44l.94 2.06.94-2.06 2.06-.94-2.06-.94-.94-2.06-.94 2.06-2.06.94zm-11 1L8.5 8.5l.94-2.06 2.06-.94-2.06-.94L8.5 2.5l-.94 2.06-2.06.94zm10 10l.94 2.06.94-2.06 2.06-.94-2.06-.94-.94-2.06-.94 2.06-2.06.94z\"/><path d=\"M17.41 7.96l-1.37-1.37c-.4-.4-.92-.59-1.43-.59-.52 0-1.04.2-1.43.59L10.3 9.45l-7.72 7.72c-.78.78-.78 2.05 0 2.83L4 21.41c.39.39.9.59 1.41.59.51 0 1.02-.2 1.41-.59l7.78-7.78 2.81-2.81c.8-.78.8-2.07 0-2.86zM5.41 20L4 18.59l7.72-7.72 1.47 1.35L5.41 20z\"/>\n",
              "  </svg>\n",
              "      </button>\n",
              "      \n",
              "  <style>\n",
              "    .colab-df-container {\n",
              "      display:flex;\n",
              "      flex-wrap:wrap;\n",
              "      gap: 12px;\n",
              "    }\n",
              "\n",
              "    .colab-df-convert {\n",
              "      background-color: #E8F0FE;\n",
              "      border: none;\n",
              "      border-radius: 50%;\n",
              "      cursor: pointer;\n",
              "      display: none;\n",
              "      fill: #1967D2;\n",
              "      height: 32px;\n",
              "      padding: 0 0 0 0;\n",
              "      width: 32px;\n",
              "    }\n",
              "\n",
              "    .colab-df-convert:hover {\n",
              "      background-color: #E2EBFA;\n",
              "      box-shadow: 0px 1px 2px rgba(60, 64, 67, 0.3), 0px 1px 3px 1px rgba(60, 64, 67, 0.15);\n",
              "      fill: #174EA6;\n",
              "    }\n",
              "\n",
              "    [theme=dark] .colab-df-convert {\n",
              "      background-color: #3B4455;\n",
              "      fill: #D2E3FC;\n",
              "    }\n",
              "\n",
              "    [theme=dark] .colab-df-convert:hover {\n",
              "      background-color: #434B5C;\n",
              "      box-shadow: 0px 1px 3px 1px rgba(0, 0, 0, 0.15);\n",
              "      filter: drop-shadow(0px 1px 2px rgba(0, 0, 0, 0.3));\n",
              "      fill: #FFFFFF;\n",
              "    }\n",
              "  </style>\n",
              "\n",
              "      <script>\n",
              "        const buttonEl =\n",
              "          document.querySelector('#df-65b2c8b0-e7ed-41e8-b929-bbcf78d9159c button.colab-df-convert');\n",
              "        buttonEl.style.display =\n",
              "          google.colab.kernel.accessAllowed ? 'block' : 'none';\n",
              "\n",
              "        async function convertToInteractive(key) {\n",
              "          const element = document.querySelector('#df-65b2c8b0-e7ed-41e8-b929-bbcf78d9159c');\n",
              "          const dataTable =\n",
              "            await google.colab.kernel.invokeFunction('convertToInteractive',\n",
              "                                                     [key], {});\n",
              "          if (!dataTable) return;\n",
              "\n",
              "          const docLinkHtml = 'Like what you see? Visit the ' +\n",
              "            '<a target=\"_blank\" href=https://colab.research.google.com/notebooks/data_table.ipynb>data table notebook</a>'\n",
              "            + ' to learn more about interactive tables.';\n",
              "          element.innerHTML = '';\n",
              "          dataTable['output_type'] = 'display_data';\n",
              "          await google.colab.output.renderOutput(dataTable, element);\n",
              "          const docLink = document.createElement('div');\n",
              "          docLink.innerHTML = docLinkHtml;\n",
              "          element.appendChild(docLink);\n",
              "        }\n",
              "      </script>\n",
              "    </div>\n",
              "  </div>\n",
              "  "
            ],
            "text/plain": [
              "   user index  movie index  rating\n",
              "0          81         6914       2\n",
              "1          81         3393       5\n",
              "2          81         3507       5\n",
              "3          81         3181       5\n",
              "4          81         4699       2"
            ]
          },
          "metadata": {},
          "execution_count": 13
        }
      ]
    },
    {
      "cell_type": "code",
      "source": [
        "ratings.shape"
      ],
      "metadata": {
        "colab": {
          "base_uri": "https://localhost:8080/"
        },
        "id": "tegr3FgH45NW",
        "outputId": "c410fc51-7a1c-46e8-f78a-25a3f72de972"
      },
      "execution_count": null,
      "outputs": [
        {
          "output_type": "execute_result",
          "data": {
            "text/plain": [
              "(92544, 3)"
            ]
          },
          "metadata": {},
          "execution_count": 14
        }
      ]
    },
    {
      "cell_type": "code",
      "source": [
        "ratings = reduce_item_dim(ratings)\n",
        "print('reduce item dimension after:')\n",
        "ratings.head()"
      ],
      "metadata": {
        "colab": {
          "base_uri": "https://localhost:8080/",
          "height": 224
        },
        "id": "0DX-q2Cb8rl8",
        "outputId": "f9644ce9-c751-4748-ff6d-422b14701f81"
      },
      "execution_count": null,
      "outputs": [
        {
          "output_type": "stream",
          "name": "stdout",
          "text": [
            "reduce item dimension after:\n"
          ]
        },
        {
          "output_type": "execute_result",
          "data": {
            "text/html": [
              "\n",
              "  <div id=\"df-a0bb10aa-a13b-4ad2-acfd-40fbd36cf3f2\">\n",
              "    <div class=\"colab-df-container\">\n",
              "      <div>\n",
              "<style scoped>\n",
              "    .dataframe tbody tr th:only-of-type {\n",
              "        vertical-align: middle;\n",
              "    }\n",
              "\n",
              "    .dataframe tbody tr th {\n",
              "        vertical-align: top;\n",
              "    }\n",
              "\n",
              "    .dataframe thead th {\n",
              "        text-align: right;\n",
              "    }\n",
              "</style>\n",
              "<table border=\"1\" class=\"dataframe\">\n",
              "  <thead>\n",
              "    <tr style=\"text-align: right;\">\n",
              "      <th></th>\n",
              "      <th>user index</th>\n",
              "      <th>movie index</th>\n",
              "      <th>rating</th>\n",
              "    </tr>\n",
              "  </thead>\n",
              "  <tbody>\n",
              "    <tr>\n",
              "      <th>0</th>\n",
              "      <td>0</td>\n",
              "      <td>2</td>\n",
              "      <td>4.0</td>\n",
              "    </tr>\n",
              "    <tr>\n",
              "      <th>1</th>\n",
              "      <td>0</td>\n",
              "      <td>6</td>\n",
              "      <td>3.0</td>\n",
              "    </tr>\n",
              "    <tr>\n",
              "      <th>2</th>\n",
              "      <td>0</td>\n",
              "      <td>21</td>\n",
              "      <td>4.0</td>\n",
              "    </tr>\n",
              "    <tr>\n",
              "      <th>3</th>\n",
              "      <td>0</td>\n",
              "      <td>50</td>\n",
              "      <td>5.0</td>\n",
              "    </tr>\n",
              "    <tr>\n",
              "      <th>4</th>\n",
              "      <td>0</td>\n",
              "      <td>90</td>\n",
              "      <td>4.0</td>\n",
              "    </tr>\n",
              "  </tbody>\n",
              "</table>\n",
              "</div>\n",
              "      <button class=\"colab-df-convert\" onclick=\"convertToInteractive('df-a0bb10aa-a13b-4ad2-acfd-40fbd36cf3f2')\"\n",
              "              title=\"Convert this dataframe to an interactive table.\"\n",
              "              style=\"display:none;\">\n",
              "        \n",
              "  <svg xmlns=\"http://www.w3.org/2000/svg\" height=\"24px\"viewBox=\"0 0 24 24\"\n",
              "       width=\"24px\">\n",
              "    <path d=\"M0 0h24v24H0V0z\" fill=\"none\"/>\n",
              "    <path d=\"M18.56 5.44l.94 2.06.94-2.06 2.06-.94-2.06-.94-.94-2.06-.94 2.06-2.06.94zm-11 1L8.5 8.5l.94-2.06 2.06-.94-2.06-.94L8.5 2.5l-.94 2.06-2.06.94zm10 10l.94 2.06.94-2.06 2.06-.94-2.06-.94-.94-2.06-.94 2.06-2.06.94z\"/><path d=\"M17.41 7.96l-1.37-1.37c-.4-.4-.92-.59-1.43-.59-.52 0-1.04.2-1.43.59L10.3 9.45l-7.72 7.72c-.78.78-.78 2.05 0 2.83L4 21.41c.39.39.9.59 1.41.59.51 0 1.02-.2 1.41-.59l7.78-7.78 2.81-2.81c.8-.78.8-2.07 0-2.86zM5.41 20L4 18.59l7.72-7.72 1.47 1.35L5.41 20z\"/>\n",
              "  </svg>\n",
              "      </button>\n",
              "      \n",
              "  <style>\n",
              "    .colab-df-container {\n",
              "      display:flex;\n",
              "      flex-wrap:wrap;\n",
              "      gap: 12px;\n",
              "    }\n",
              "\n",
              "    .colab-df-convert {\n",
              "      background-color: #E8F0FE;\n",
              "      border: none;\n",
              "      border-radius: 50%;\n",
              "      cursor: pointer;\n",
              "      display: none;\n",
              "      fill: #1967D2;\n",
              "      height: 32px;\n",
              "      padding: 0 0 0 0;\n",
              "      width: 32px;\n",
              "    }\n",
              "\n",
              "    .colab-df-convert:hover {\n",
              "      background-color: #E2EBFA;\n",
              "      box-shadow: 0px 1px 2px rgba(60, 64, 67, 0.3), 0px 1px 3px 1px rgba(60, 64, 67, 0.15);\n",
              "      fill: #174EA6;\n",
              "    }\n",
              "\n",
              "    [theme=dark] .colab-df-convert {\n",
              "      background-color: #3B4455;\n",
              "      fill: #D2E3FC;\n",
              "    }\n",
              "\n",
              "    [theme=dark] .colab-df-convert:hover {\n",
              "      background-color: #434B5C;\n",
              "      box-shadow: 0px 1px 3px 1px rgba(0, 0, 0, 0.15);\n",
              "      filter: drop-shadow(0px 1px 2px rgba(0, 0, 0, 0.3));\n",
              "      fill: #FFFFFF;\n",
              "    }\n",
              "  </style>\n",
              "\n",
              "      <script>\n",
              "        const buttonEl =\n",
              "          document.querySelector('#df-a0bb10aa-a13b-4ad2-acfd-40fbd36cf3f2 button.colab-df-convert');\n",
              "        buttonEl.style.display =\n",
              "          google.colab.kernel.accessAllowed ? 'block' : 'none';\n",
              "\n",
              "        async function convertToInteractive(key) {\n",
              "          const element = document.querySelector('#df-a0bb10aa-a13b-4ad2-acfd-40fbd36cf3f2');\n",
              "          const dataTable =\n",
              "            await google.colab.kernel.invokeFunction('convertToInteractive',\n",
              "                                                     [key], {});\n",
              "          if (!dataTable) return;\n",
              "\n",
              "          const docLinkHtml = 'Like what you see? Visit the ' +\n",
              "            '<a target=\"_blank\" href=https://colab.research.google.com/notebooks/data_table.ipynb>data table notebook</a>'\n",
              "            + ' to learn more about interactive tables.';\n",
              "          element.innerHTML = '';\n",
              "          dataTable['output_type'] = 'display_data';\n",
              "          await google.colab.output.renderOutput(dataTable, element);\n",
              "          const docLink = document.createElement('div');\n",
              "          docLink.innerHTML = docLinkHtml;\n",
              "          element.appendChild(docLink);\n",
              "        }\n",
              "      </script>\n",
              "    </div>\n",
              "  </div>\n",
              "  "
            ],
            "text/plain": [
              "   user index movie index  rating\n",
              "0           0           2     4.0\n",
              "1           0           6     3.0\n",
              "2           0          21     4.0\n",
              "3           0          50     5.0\n",
              "4           0          90     4.0"
            ]
          },
          "metadata": {},
          "execution_count": 15
        }
      ]
    },
    {
      "cell_type": "code",
      "source": [
        "ratings.shape"
      ],
      "metadata": {
        "colab": {
          "base_uri": "https://localhost:8080/"
        },
        "id": "IHOt_kHd418B",
        "outputId": "dfb45c4f-21c6-4fa0-f9b8-67544178343d"
      },
      "execution_count": null,
      "outputs": [
        {
          "output_type": "execute_result",
          "data": {
            "text/plain": [
              "(92544, 3)"
            ]
          },
          "metadata": {},
          "execution_count": 16
        }
      ]
    },
    {
      "cell_type": "code",
      "source": [
        "df_ratings = ratings"
      ],
      "metadata": {
        "id": "CfYweobJ80LS"
      },
      "execution_count": null,
      "outputs": []
    },
    {
      "cell_type": "code",
      "source": [
        "df_train, df_test = train_test_split(df_ratings, test_size=0.2, shuffle=True, random_state=99)\n",
        "print('shape of training data set:')\n",
        "print(df_train.shape)\n",
        "print('shape of test data set:')\n",
        "print(df_test.shape)"
      ],
      "metadata": {
        "colab": {
          "base_uri": "https://localhost:8080/"
        },
        "id": "cyvYkx9P8uYr",
        "outputId": "146d4d5c-abdf-40e1-bd43-c8c82b1e1673"
      },
      "execution_count": null,
      "outputs": [
        {
          "output_type": "stream",
          "name": "stdout",
          "text": [
            "shape of training data set:\n",
            "(74035, 3)\n",
            "shape of test data set:\n",
            "(18509, 3)\n"
          ]
        }
      ]
    },
    {
      "cell_type": "code",
      "source": [
        "def get_GMF_model(num_users, num_items, latent_dim, vu_reg, vi_reg, kernel):\n",
        "    \"\"\"\n",
        "    Build Generalized Matrix Factorization Model Topology\n",
        "    \n",
        "    Parameters\n",
        "    ----------\n",
        "    num_users: int, total number of users\n",
        "    num_iterms: int, total number of items\n",
        "    latent_dim: int, embedded dimension for user vector and item vector\n",
        "    vu_reg: float, L2 regularization of user embedded layer\n",
        "    vi_reg: float, L2 regularization of item embedded layer\n",
        "\n",
        "    Return\n",
        "    ------\n",
        "    A Keras Model with GMF model architeture\n",
        "    \"\"\"\n",
        "    user_input = Input(shape=(1,), dtype='int32', name='user_input')\n",
        "    item_input = Input(shape=(1,), dtype='int32', name='item_input')\n",
        "\n",
        "    MF_Embedding_User = Embedding(\n",
        "        input_dim=num_users + 1,\n",
        "        output_dim=latent_dim,\n",
        "        embeddings_initializer='uniform',\n",
        "        name='user_embedding',\n",
        "        embeddings_regularizer=l2(vu_reg),\n",
        "        input_length=1)\n",
        "    MF_Embedding_Item = Embedding(\n",
        "        input_dim=num_items + 1,\n",
        "        output_dim=latent_dim,\n",
        "        embeddings_initializer='uniform',\n",
        "        name='item_embedding',\n",
        "        embeddings_regularizer=l2(vi_reg),\n",
        "        input_length=1) \n",
        "    \n",
        "    user_latent = Flatten()(MF_Embedding_User(user_input))\n",
        "    item_latent = Flatten()(MF_Embedding_Item(item_input))\n",
        "\n",
        "    predict_vector = Multiply()([user_latent, item_latent])\n",
        "    \n",
        "    prediction = Dense(1, kernel_initializer=kernel, name='prediction')(predict_vector)\n",
        "    \n",
        "    model = Model([user_input, item_input], prediction)\n",
        "    \n",
        "    return model\n",
        "\n",
        "\n",
        "def train_model(model, learner, batch_size, epochs, val_split, inputs, outputs, filename):\n",
        "    \"\"\"\n",
        "    define training routine, train models and save best model\n",
        "    \n",
        "    Parameters\n",
        "    ----------\n",
        "    model: a Keras model\n",
        "    learner: str, one of ['sgd', 'adam', 'rmsprop', 'adagrad']\n",
        "    batch_size: num samples per update\n",
        "    epochs: num iterations\n",
        "    val_split: split ratio for validation data\n",
        "    inputs: inputs data\n",
        "    outputs: outputs data\n",
        "    \"\"\"\n",
        "    # add customized metric\n",
        "    def rmse(y_true, y_pred):\n",
        "        return K.sqrt(K.mean(K.square(y_true - y_pred)))\n",
        "    \n",
        "    # compile model\n",
        "    model.compile(optimizer=learner.lower(), loss='mean_squared_error', metrics=['mean_squared_error', rmse])\n",
        "    \n",
        "    # add call backs\n",
        "    early_stopper = EarlyStopping(monitor='val_rmse', patience=10, verbose=1)\n",
        "    model_saver = ModelCheckpoint(filepath=filename,\n",
        "                                  monitor='val_rmse',\n",
        "                                  save_best_only=True,\n",
        "                                  save_weights_only=True)\n",
        "    # train model\n",
        "    history = model.fit(inputs, outputs,\n",
        "                        batch_size=batch_size,\n",
        "                        epochs=epochs,\n",
        "                        validation_split=val_split,\n",
        "                        callbacks=[early_stopper, model_saver])\n",
        "    return history\n",
        "\n",
        "\n",
        "def load_trained_model(model, weights_path):\n",
        "    model.load_weights(weights_path)\n",
        "    return model"
      ],
      "metadata": {
        "id": "_q6A8nuX85qr"
      },
      "execution_count": null,
      "outputs": []
    },
    {
      "cell_type": "code",
      "source": [
        "import numpy as np\n",
        "x = np.zeros((1,))\n",
        "x"
      ],
      "metadata": {
        "colab": {
          "base_uri": "https://localhost:8080/"
        },
        "id": "o3D5UiDvAPbf",
        "outputId": "9cc9d1e3-c493-45aa-cc52-1ecdbbe014e4"
      },
      "execution_count": null,
      "outputs": [
        {
          "output_type": "execute_result",
          "data": {
            "text/plain": [
              "array([0.])"
            ]
          },
          "metadata": {},
          "execution_count": 20
        }
      ]
    },
    {
      "cell_type": "code",
      "source": [
        "class Metrics():\n",
        "    def computeMSE(y_true, y_pred):\n",
        "        error = 0\n",
        "        for i in range(len(y_true)):\n",
        "          error += (y_true[i] - y_pred[i]) ** 2\n",
        "        return error / len(y_true)\n",
        "\n",
        "    def computeMAE(y_true, y_pred):\n",
        "        error = 0\n",
        "        for i in range(len(y_true)):\n",
        "          error += abs(y_true[i] - y_pred[i])\n",
        "        return error / len(y_true)\n",
        "\n",
        "    def computeSIA(y_true, y_pred, eps=1): \n",
        "        error = []\n",
        "        for i in range(len(y_true)):\n",
        "          error.append(abs(y_true[i] - y_pred[i]))\n",
        "        bina = 0\n",
        "        for err in error:\n",
        "            if (err <= eps):\n",
        "                bina += 1\n",
        "        return bina/len(y_true)"
      ],
      "metadata": {
        "id": "XAo71WcyKsS9"
      },
      "execution_count": null,
      "outputs": []
    },
    {
      "cell_type": "code",
      "source": [
        "def plot_learning_curve(history, metric):\n",
        "    \"\"\"\n",
        "    Plot learning curve to compare training error vs. validation error\n",
        "    \"\"\"\n",
        "    # get training error\n",
        "    errors = history.history[metric]\n",
        "    # get validation error\n",
        "    val_errors = history.history['val_{}'.format(metric)]\n",
        "    # get epochs\n",
        "    epochs = range(1, len(errors) + 1)\n",
        "\n",
        "    # plot\n",
        "    plt.figure(figsize=(12, 7))\n",
        "    plt.plot(epochs, errors, 'bo', label='training {}'.format(metric))\n",
        "    plt.plot(epochs, val_errors, 'b', label='validation {}'.format(metric))\n",
        "    plt.xlabel('number of epochs')\n",
        "    plt.ylabel(metric)\n",
        "    plt.title('Model Learning Curve')\n",
        "    plt.grid(True)\n",
        "    plt.legend()\n",
        "    plt.show()"
      ],
      "metadata": {
        "id": "pTFbWp4RtIoF"
      },
      "execution_count": null,
      "outputs": []
    },
    {
      "cell_type": "code",
      "source": [
        "BATCH_SIZE = 64\n",
        "EPOCHS = 30\n",
        "VAL_SPLIT = 0.25"
      ],
      "metadata": {
        "id": "qik5qOhis-RG"
      },
      "execution_count": null,
      "outputs": []
    },
    {
      "cell_type": "code",
      "source": [
        "filenames = [\"./drive/MyDrive/gmf_model_glorot_normal.hdf5\", \"./drive/MyDrive/gmf_model_glorot_uniform.hdf5\", \"./drive/MyDrive/gmf_model_he_normal.hdf5\", \"./drive/MyDrive/gmf_model_he_uniform.hdf5\"]\n",
        "i = 0\n",
        "\n",
        "for kernel in tqdm([GlorotNormal(), GlorotUniform(), HeNormal(), HeUniform()]):\n",
        "  GMF_model = get_GMF_model(num_users, num_items, 10, 0, 0, kernel)\n",
        "  GMF_model.summary()\n",
        "  history = train_model(GMF_model, 'adam', BATCH_SIZE, EPOCHS, VAL_SPLIT, \n",
        "                      [df_train[\"user index\"].values.astype(np.int), df_train[\"movie index\"].values.astype(np.int)],\n",
        "                    df_train[\"rating\"].values.astype(np.int), filenames[i])\n",
        "  i = i + 1\n",
        "  plot_learning_curve(history, 'rmse')\n",
        "\n"
      ],
      "metadata": {
        "colab": {
          "base_uri": "https://localhost:8080/",
          "height": 1000
        },
        "id": "9SjRW0i4qTbw",
        "outputId": "c0d4f6fc-ab0b-4e33-c9bd-4640f0437b85"
      },
      "execution_count": null,
      "outputs": [
        {
          "output_type": "stream",
          "name": "stderr",
          "text": [
            "\r  0%|          | 0/4 [00:00<?, ?it/s]"
          ]
        },
        {
          "output_type": "stream",
          "name": "stdout",
          "text": [
            "Model: \"model\"\n",
            "__________________________________________________________________________________________________\n",
            " Layer (type)                   Output Shape         Param #     Connected to                     \n",
            "==================================================================================================\n",
            " user_input (InputLayer)        [(None, 1)]          0           []                               \n",
            "                                                                                                  \n",
            " item_input (InputLayer)        [(None, 1)]          0           []                               \n",
            "                                                                                                  \n",
            " user_embedding (Embedding)     (None, 1, 10)        13910       ['user_input[0][0]']             \n",
            "                                                                                                  \n",
            " item_embedding (Embedding)     (None, 1, 10)        83530       ['item_input[0][0]']             \n",
            "                                                                                                  \n",
            " flatten (Flatten)              (None, 10)           0           ['user_embedding[0][0]']         \n",
            "                                                                                                  \n",
            " flatten_1 (Flatten)            (None, 10)           0           ['item_embedding[0][0]']         \n",
            "                                                                                                  \n",
            " multiply (Multiply)            (None, 10)           0           ['flatten[0][0]',                \n",
            "                                                                  'flatten_1[0][0]']              \n",
            "                                                                                                  \n",
            " prediction (Dense)             (None, 1)            11          ['multiply[0][0]']               \n",
            "                                                                                                  \n",
            "==================================================================================================\n",
            "Total params: 97,451\n",
            "Trainable params: 97,451\n",
            "Non-trainable params: 0\n",
            "__________________________________________________________________________________________________\n",
            "Epoch 1/30\n",
            "868/868 [==============================] - 7s 6ms/step - loss: 10.7114 - mean_squared_error: 10.7114 - rmse: 3.2621 - val_loss: 8.1895 - val_mean_squared_error: 8.1895 - val_rmse: 2.8593\n",
            "Epoch 2/30\n",
            "868/868 [==============================] - 5s 5ms/step - loss: 4.8462 - mean_squared_error: 4.8462 - rmse: 2.1649 - val_loss: 2.7722 - val_mean_squared_error: 2.7722 - val_rmse: 1.6590\n",
            "Epoch 3/30\n",
            "868/868 [==============================] - 4s 5ms/step - loss: 1.8613 - mean_squared_error: 1.8613 - rmse: 1.3549 - val_loss: 1.6403 - val_mean_squared_error: 1.6403 - val_rmse: 1.2746\n",
            "Epoch 4/30\n",
            "868/868 [==============================] - 4s 5ms/step - loss: 1.1201 - mean_squared_error: 1.1201 - rmse: 1.0530 - val_loss: 1.2779 - val_mean_squared_error: 1.2779 - val_rmse: 1.1249\n",
            "Epoch 5/30\n",
            "868/868 [==============================] - 5s 5ms/step - loss: 0.8155 - mean_squared_error: 0.8155 - rmse: 0.8989 - val_loss: 1.1535 - val_mean_squared_error: 1.1535 - val_rmse: 1.0687\n",
            "Epoch 6/30\n",
            "868/868 [==============================] - 4s 5ms/step - loss: 0.6561 - mean_squared_error: 0.6561 - rmse: 0.8063 - val_loss: 1.1209 - val_mean_squared_error: 1.1209 - val_rmse: 1.0533\n",
            "Epoch 7/30\n",
            "868/868 [==============================] - 4s 5ms/step - loss: 0.5526 - mean_squared_error: 0.5526 - rmse: 0.7395 - val_loss: 1.1349 - val_mean_squared_error: 1.1349 - val_rmse: 1.0598\n",
            "Epoch 8/30\n",
            "868/868 [==============================] - 4s 5ms/step - loss: 0.4741 - mean_squared_error: 0.4741 - rmse: 0.6847 - val_loss: 1.1712 - val_mean_squared_error: 1.1712 - val_rmse: 1.0764\n",
            "Epoch 9/30\n",
            "868/868 [==============================] - 4s 5ms/step - loss: 0.4078 - mean_squared_error: 0.4078 - rmse: 0.6347 - val_loss: 1.2113 - val_mean_squared_error: 1.2113 - val_rmse: 1.0946\n",
            "Epoch 10/30\n",
            "868/868 [==============================] - 4s 5ms/step - loss: 0.3498 - mean_squared_error: 0.3498 - rmse: 0.5876 - val_loss: 1.2655 - val_mean_squared_error: 1.2655 - val_rmse: 1.1187\n",
            "Epoch 11/30\n",
            "868/868 [==============================] - 5s 5ms/step - loss: 0.2993 - mean_squared_error: 0.2993 - rmse: 0.5431 - val_loss: 1.3156 - val_mean_squared_error: 1.3156 - val_rmse: 1.1406\n",
            "Epoch 12/30\n",
            "868/868 [==============================] - 5s 5ms/step - loss: 0.2561 - mean_squared_error: 0.2561 - rmse: 0.5017 - val_loss: 1.3643 - val_mean_squared_error: 1.3643 - val_rmse: 1.1613\n",
            "Epoch 13/30\n",
            "868/868 [==============================] - 4s 5ms/step - loss: 0.2194 - mean_squared_error: 0.2194 - rmse: 0.4640 - val_loss: 1.4189 - val_mean_squared_error: 1.4189 - val_rmse: 1.1843\n",
            "Epoch 14/30\n",
            "868/868 [==============================] - 4s 5ms/step - loss: 0.1889 - mean_squared_error: 0.1889 - rmse: 0.4301 - val_loss: 1.4647 - val_mean_squared_error: 1.4647 - val_rmse: 1.2032\n",
            "Epoch 15/30\n",
            "868/868 [==============================] - 4s 5ms/step - loss: 0.1638 - mean_squared_error: 0.1638 - rmse: 0.4005 - val_loss: 1.5046 - val_mean_squared_error: 1.5046 - val_rmse: 1.2194\n",
            "Epoch 16/30\n",
            "868/868 [==============================] - 4s 5ms/step - loss: 0.1430 - mean_squared_error: 0.1430 - rmse: 0.3738 - val_loss: 1.5491 - val_mean_squared_error: 1.5491 - val_rmse: 1.2374\n",
            "Epoch 00016: early stopping\n"
          ]
        },
        {
          "output_type": "display_data",
          "data": {
            "image/png": "[encoded data removed]",
            "text/plain": [
              "<Figure size 864x504 with 1 Axes>"
            ]
          },
          "metadata": {
            "needs_background": "light"
          }
        },
        {
          "output_type": "stream",
          "name": "stderr",
          "text": [
            "\r 25%|██▌       | 1/4 [01:12<03:38, 72.77s/it]"
          ]
        },
        {
          "output_type": "stream",
          "name": "stdout",
          "text": [
            "Model: \"model_1\"\n",
            "__________________________________________________________________________________________________\n",
            " Layer (type)                   Output Shape         Param #     Connected to                     \n",
            "==================================================================================================\n",
            " user_input (InputLayer)        [(None, 1)]          0           []                               \n",
            "                                                                                                  \n",
            " item_input (InputLayer)        [(None, 1)]          0           []                               \n",
            "                                                                                                  \n",
            " user_embedding (Embedding)     (None, 1, 10)        13910       ['user_input[0][0]']             \n",
            "                                                                                                  \n",
            " item_embedding (Embedding)     (None, 1, 10)        83530       ['item_input[0][0]']             \n",
            "                                                                                                  \n",
            " flatten_2 (Flatten)            (None, 10)           0           ['user_embedding[0][0]']         \n",
            "                                                                                                  \n",
            " flatten_3 (Flatten)            (None, 10)           0           ['item_embedding[0][0]']         \n",
            "                                                                                                  \n",
            " multiply_1 (Multiply)          (None, 10)           0           ['flatten_2[0][0]',              \n",
            "                                                                  'flatten_3[0][0]']              \n",
            "                                                                                                  \n",
            " prediction (Dense)             (None, 1)            11          ['multiply_1[0][0]']             \n",
            "                                                                                                  \n",
            "==================================================================================================\n",
            "Total params: 97,451\n",
            "Trainable params: 97,451\n",
            "Non-trainable params: 0\n",
            "__________________________________________________________________________________________________\n",
            "Epoch 1/30\n",
            "868/868 [==============================] - 5s 5ms/step - loss: 10.6916 - mean_squared_error: 10.6916 - rmse: 3.2593 - val_loss: 8.0936 - val_mean_squared_error: 8.0936 - val_rmse: 2.8425\n",
            "Epoch 2/30\n",
            "868/868 [==============================] - 4s 5ms/step - loss: 4.7829 - mean_squared_error: 4.7829 - rmse: 2.1519 - val_loss: 2.7649 - val_mean_squared_error: 2.7649 - val_rmse: 1.6567\n",
            "Epoch 3/30\n",
            "868/868 [==============================] - 4s 5ms/step - loss: 1.8266 - mean_squared_error: 1.8266 - rmse: 1.3424 - val_loss: 1.6119 - val_mean_squared_error: 1.6119 - val_rmse: 1.2635\n",
            "Epoch 4/30\n",
            "868/868 [==============================] - 4s 5ms/step - loss: 1.0877 - mean_squared_error: 1.0877 - rmse: 1.0379 - val_loss: 1.2543 - val_mean_squared_error: 1.2543 - val_rmse: 1.1147\n",
            "Epoch 5/30\n",
            "868/868 [==============================] - 4s 5ms/step - loss: 0.7946 - mean_squared_error: 0.7946 - rmse: 0.8875 - val_loss: 1.1358 - val_mean_squared_error: 1.1358 - val_rmse: 1.0611\n",
            "Epoch 6/30\n",
            "868/868 [==============================] - 4s 5ms/step - loss: 0.6445 - mean_squared_error: 0.6445 - rmse: 0.7988 - val_loss: 1.1096 - val_mean_squared_error: 1.1096 - val_rmse: 1.0486\n",
            "Epoch 7/30\n",
            "868/868 [==============================] - 4s 5ms/step - loss: 0.5470 - mean_squared_error: 0.5470 - rmse: 0.7358 - val_loss: 1.1272 - val_mean_squared_error: 1.1272 - val_rmse: 1.0567\n",
            "Epoch 8/30\n",
            "868/868 [==============================] - 4s 5ms/step - loss: 0.4718 - mean_squared_error: 0.4718 - rmse: 0.6827 - val_loss: 1.1620 - val_mean_squared_error: 1.1620 - val_rmse: 1.0730\n",
            "Epoch 9/30\n",
            "868/868 [==============================] - 4s 5ms/step - loss: 0.4099 - mean_squared_error: 0.4099 - rmse: 0.6363 - val_loss: 1.2028 - val_mean_squared_error: 1.2028 - val_rmse: 1.0915\n",
            "Epoch 10/30\n",
            "868/868 [==============================] - 4s 5ms/step - loss: 0.3568 - mean_squared_error: 0.3568 - rmse: 0.5932 - val_loss: 1.2450 - val_mean_squared_error: 1.2450 - val_rmse: 1.1103\n",
            "Epoch 11/30\n",
            "868/868 [==============================] - 4s 5ms/step - loss: 0.3102 - mean_squared_error: 0.3102 - rmse: 0.5528 - val_loss: 1.2896 - val_mean_squared_error: 1.2896 - val_rmse: 1.1301\n",
            "Epoch 12/30\n",
            "868/868 [==============================] - 4s 5ms/step - loss: 0.2691 - mean_squared_error: 0.2691 - rmse: 0.5147 - val_loss: 1.3338 - val_mean_squared_error: 1.3338 - val_rmse: 1.1493\n",
            "Epoch 13/30\n",
            "868/868 [==============================] - 4s 5ms/step - loss: 0.2334 - mean_squared_error: 0.2334 - rmse: 0.4786 - val_loss: 1.3779 - val_mean_squared_error: 1.3779 - val_rmse: 1.1684\n",
            "Epoch 14/30\n",
            "868/868 [==============================] - 4s 5ms/step - loss: 0.2028 - mean_squared_error: 0.2028 - rmse: 0.4459 - val_loss: 1.4204 - val_mean_squared_error: 1.4204 - val_rmse: 1.1862\n",
            "Epoch 15/30\n",
            "868/868 [==============================] - 4s 5ms/step - loss: 0.1768 - mean_squared_error: 0.1768 - rmse: 0.4162 - val_loss: 1.4582 - val_mean_squared_error: 1.4582 - val_rmse: 1.2019\n",
            "Epoch 16/30\n",
            "868/868 [==============================] - 4s 5ms/step - loss: 0.1547 - mean_squared_error: 0.1547 - rmse: 0.3890 - val_loss: 1.5006 - val_mean_squared_error: 1.5006 - val_rmse: 1.2191\n",
            "Epoch 00016: early stopping\n"
          ]
        },
        {
          "output_type": "display_data",
          "data": {
            "image/png": "[encoded data removed]",
            "text/plain": [
              "<Figure size 864x504 with 1 Axes>"
            ]
          },
          "metadata": {
            "needs_background": "light"
          }
        },
        {
          "output_type": "stream",
          "name": "stderr",
          "text": [
            "\r 50%|█████     | 2/4 [02:35<02:37, 78.72s/it]"
          ]
        },
        {
          "output_type": "stream",
          "name": "stdout",
          "text": [
            "Model: \"model_2\"\n",
            "__________________________________________________________________________________________________\n",
            " Layer (type)                   Output Shape         Param #     Connected to                     \n",
            "==================================================================================================\n",
            " user_input (InputLayer)        [(None, 1)]          0           []                               \n",
            "                                                                                                  \n",
            " item_input (InputLayer)        [(None, 1)]          0           []                               \n",
            "                                                                                                  \n",
            " user_embedding (Embedding)     (None, 1, 10)        13910       ['user_input[0][0]']             \n",
            "                                                                                                  \n",
            " item_embedding (Embedding)     (None, 1, 10)        83530       ['item_input[0][0]']             \n",
            "                                                                                                  \n",
            " flatten_4 (Flatten)            (None, 10)           0           ['user_embedding[0][0]']         \n",
            "                                                                                                  \n",
            " flatten_5 (Flatten)            (None, 10)           0           ['item_embedding[0][0]']         \n",
            "                                                                                                  \n",
            " multiply_2 (Multiply)          (None, 10)           0           ['flatten_4[0][0]',              \n",
            "                                                                  'flatten_5[0][0]']              \n",
            "                                                                                                  \n",
            " prediction (Dense)             (None, 1)            11          ['multiply_2[0][0]']             \n",
            "                                                                                                  \n",
            "==================================================================================================\n",
            "Total params: 97,451\n",
            "Trainable params: 97,451\n",
            "Non-trainable params: 0\n",
            "__________________________________________________________________________________________________\n",
            "Epoch 1/30\n",
            "868/868 [==============================] - 5s 5ms/step - loss: 10.7075 - mean_squared_error: 10.7075 - rmse: 3.2622 - val_loss: 8.1704 - val_mean_squared_error: 8.1704 - val_rmse: 2.8560\n",
            "Epoch 2/30\n",
            "868/868 [==============================] - 4s 5ms/step - loss: 4.7609 - mean_squared_error: 4.7609 - rmse: 2.1442 - val_loss: 2.6334 - val_mean_squared_error: 2.6334 - val_rmse: 1.6166\n",
            "Epoch 3/30\n",
            "868/868 [==============================] - 4s 5ms/step - loss: 1.7685 - mean_squared_error: 1.7685 - rmse: 1.3215 - val_loss: 1.5631 - val_mean_squared_error: 1.5631 - val_rmse: 1.2442\n",
            "Epoch 4/30\n",
            "868/868 [==============================] - 4s 5ms/step - loss: 1.0899 - mean_squared_error: 1.0899 - rmse: 1.0391 - val_loss: 1.2395 - val_mean_squared_error: 1.2395 - val_rmse: 1.1080\n",
            "Epoch 5/30\n",
            "868/868 [==============================] - 4s 5ms/step - loss: 0.8166 - mean_squared_error: 0.8166 - rmse: 0.8993 - val_loss: 1.1305 - val_mean_squared_error: 1.1305 - val_rmse: 1.0581\n",
            "Epoch 6/30\n",
            "868/868 [==============================] - 4s 5ms/step - loss: 0.6716 - mean_squared_error: 0.6716 - rmse: 0.8155 - val_loss: 1.1079 - val_mean_squared_error: 1.1079 - val_rmse: 1.0476\n",
            "Epoch 7/30\n",
            "868/868 [==============================] - 4s 5ms/step - loss: 0.5758 - mean_squared_error: 0.5758 - rmse: 0.7550 - val_loss: 1.1169 - val_mean_squared_error: 1.1169 - val_rmse: 1.0516\n",
            "Epoch 8/30\n",
            "868/868 [==============================] - 5s 5ms/step - loss: 0.4999 - mean_squared_error: 0.4999 - rmse: 0.7028 - val_loss: 1.1492 - val_mean_squared_error: 1.1492 - val_rmse: 1.0667\n",
            "Epoch 9/30\n",
            "868/868 [==============================] - 4s 5ms/step - loss: 0.4343 - mean_squared_error: 0.4343 - rmse: 0.6549 - val_loss: 1.1868 - val_mean_squared_error: 1.1868 - val_rmse: 1.0838\n",
            "Epoch 10/30\n",
            "868/868 [==============================] - 4s 5ms/step - loss: 0.3753 - mean_squared_error: 0.3753 - rmse: 0.6083 - val_loss: 1.2312 - val_mean_squared_error: 1.2312 - val_rmse: 1.1039\n",
            "Epoch 11/30\n",
            "868/868 [==============================] - 4s 5ms/step - loss: 0.3225 - mean_squared_error: 0.3225 - rmse: 0.5638 - val_loss: 1.2747 - val_mean_squared_error: 1.2747 - val_rmse: 1.1231\n",
            "Epoch 12/30\n",
            "868/868 [==============================] - 4s 5ms/step - loss: 0.2769 - mean_squared_error: 0.2769 - rmse: 0.5220 - val_loss: 1.3243 - val_mean_squared_error: 1.3243 - val_rmse: 1.1447\n",
            "Epoch 13/30\n",
            "868/868 [==============================] - 4s 5ms/step - loss: 0.2374 - mean_squared_error: 0.2374 - rmse: 0.4828 - val_loss: 1.3694 - val_mean_squared_error: 1.3694 - val_rmse: 1.1641\n",
            "Epoch 14/30\n",
            "868/868 [==============================] - 4s 5ms/step - loss: 0.2044 - mean_squared_error: 0.2044 - rmse: 0.4479 - val_loss: 1.4170 - val_mean_squared_error: 1.4170 - val_rmse: 1.1839\n",
            "Epoch 15/30\n",
            "868/868 [==============================] - 4s 5ms/step - loss: 0.1775 - mean_squared_error: 0.1775 - rmse: 0.4169 - val_loss: 1.4564 - val_mean_squared_error: 1.4564 - val_rmse: 1.2003\n",
            "Epoch 16/30\n",
            "868/868 [==============================] - 4s 5ms/step - loss: 0.1543 - mean_squared_error: 0.1543 - rmse: 0.3887 - val_loss: 1.4975 - val_mean_squared_error: 1.4975 - val_rmse: 1.2172\n",
            "Epoch 00016: early stopping\n"
          ]
        },
        {
          "output_type": "display_data",
          "data": {
            "image/png": "[encoded data removed]",
            "text/plain": [
              "<Figure size 864x504 with 1 Axes>"
            ]
          },
          "metadata": {
            "needs_background": "light"
          }
        },
        {
          "output_type": "stream",
          "name": "stderr",
          "text": [
            "\r 75%|███████▌  | 3/4 [03:58<01:20, 80.71s/it]"
          ]
        },
        {
          "output_type": "stream",
          "name": "stdout",
          "text": [
            "Model: \"model_3\"\n",
            "__________________________________________________________________________________________________\n",
            " Layer (type)                   Output Shape         Param #     Connected to                     \n",
            "==================================================================================================\n",
            " user_input (InputLayer)        [(None, 1)]          0           []                               \n",
            "                                                                                                  \n",
            " item_input (InputLayer)        [(None, 1)]          0           []                               \n",
            "                                                                                                  \n",
            " user_embedding (Embedding)     (None, 1, 10)        13910       ['user_input[0][0]']             \n",
            "                                                                                                  \n",
            " item_embedding (Embedding)     (None, 1, 10)        83530       ['item_input[0][0]']             \n",
            "                                                                                                  \n",
            " flatten_6 (Flatten)            (None, 10)           0           ['user_embedding[0][0]']         \n",
            "                                                                                                  \n",
            " flatten_7 (Flatten)            (None, 10)           0           ['item_embedding[0][0]']         \n",
            "                                                                                                  \n",
            " multiply_3 (Multiply)          (None, 10)           0           ['flatten_6[0][0]',              \n",
            "                                                                  'flatten_7[0][0]']              \n",
            "                                                                                                  \n",
            " prediction (Dense)             (None, 1)            11          ['multiply_3[0][0]']             \n",
            "                                                                                                  \n",
            "==================================================================================================\n",
            "Total params: 97,451\n",
            "Trainable params: 97,451\n",
            "Non-trainable params: 0\n",
            "__________________________________________________________________________________________________\n",
            "Epoch 1/30\n",
            "868/868 [==============================] - 5s 6ms/step - loss: 10.6837 - mean_squared_error: 10.6837 - rmse: 3.2579 - val_loss: 8.0253 - val_mean_squared_error: 8.0253 - val_rmse: 2.8304\n",
            "Epoch 2/30\n",
            "868/868 [==============================] - 4s 5ms/step - loss: 4.4911 - mean_squared_error: 4.4911 - rmse: 2.0779 - val_loss: 2.5095 - val_mean_squared_error: 2.5095 - val_rmse: 1.5774\n",
            "Epoch 3/30\n",
            "868/868 [==============================] - 4s 5ms/step - loss: 1.7286 - mean_squared_error: 1.7286 - rmse: 1.3066 - val_loss: 1.5351 - val_mean_squared_error: 1.5351 - val_rmse: 1.2327\n",
            "Epoch 4/30\n",
            "868/868 [==============================] - 4s 5ms/step - loss: 1.1020 - mean_squared_error: 1.1020 - rmse: 1.0447 - val_loss: 1.2154 - val_mean_squared_error: 1.2154 - val_rmse: 1.0972\n",
            "Epoch 5/30\n",
            "868/868 [==============================] - 4s 5ms/step - loss: 0.8524 - mean_squared_error: 0.8524 - rmse: 0.9189 - val_loss: 1.0964 - val_mean_squared_error: 1.0964 - val_rmse: 1.0422\n",
            "Epoch 6/30\n",
            "868/868 [==============================] - 4s 5ms/step - loss: 0.7233 - mean_squared_error: 0.7233 - rmse: 0.8462 - val_loss: 1.0556 - val_mean_squared_error: 1.0556 - val_rmse: 1.0226\n",
            "Epoch 7/30\n",
            "868/868 [==============================] - 4s 5ms/step - loss: 0.6336 - mean_squared_error: 0.6336 - rmse: 0.7920 - val_loss: 1.0576 - val_mean_squared_error: 1.0576 - val_rmse: 1.0235\n",
            "Epoch 8/30\n",
            "868/868 [==============================] - 4s 5ms/step - loss: 0.5578 - mean_squared_error: 0.5578 - rmse: 0.7429 - val_loss: 1.0780 - val_mean_squared_error: 1.0780 - val_rmse: 1.0333\n",
            "Epoch 9/30\n",
            "868/868 [==============================] - 4s 5ms/step - loss: 0.4886 - mean_squared_error: 0.4886 - rmse: 0.6946 - val_loss: 1.1156 - val_mean_squared_error: 1.1156 - val_rmse: 1.0513\n",
            "Epoch 10/30\n",
            "868/868 [==============================] - 5s 6ms/step - loss: 0.4252 - mean_squared_error: 0.4252 - rmse: 0.6480 - val_loss: 1.1494 - val_mean_squared_error: 1.1494 - val_rmse: 1.0670\n",
            "Epoch 11/30\n",
            "868/868 [==============================] - 4s 5ms/step - loss: 0.3669 - mean_squared_error: 0.3669 - rmse: 0.6014 - val_loss: 1.1942 - val_mean_squared_error: 1.1942 - val_rmse: 1.0876\n",
            "Epoch 12/30\n",
            "868/868 [==============================] - 4s 5ms/step - loss: 0.3140 - mean_squared_error: 0.3140 - rmse: 0.5558 - val_loss: 1.2448 - val_mean_squared_error: 1.2448 - val_rmse: 1.1105\n",
            "Epoch 13/30\n",
            "868/868 [==============================] - 4s 5ms/step - loss: 0.2677 - mean_squared_error: 0.2677 - rmse: 0.5130 - val_loss: 1.2795 - val_mean_squared_error: 1.2795 - val_rmse: 1.1256\n",
            "Epoch 14/30\n",
            "868/868 [==============================] - 4s 5ms/step - loss: 0.2289 - mean_squared_error: 0.2289 - rmse: 0.4741 - val_loss: 1.3219 - val_mean_squared_error: 1.3219 - val_rmse: 1.1443\n",
            "Epoch 15/30\n",
            "868/868 [==============================] - 4s 5ms/step - loss: 0.1967 - mean_squared_error: 0.1967 - rmse: 0.4393 - val_loss: 1.3625 - val_mean_squared_error: 1.3625 - val_rmse: 1.1617\n",
            "Epoch 16/30\n",
            "868/868 [==============================] - 4s 5ms/step - loss: 0.1704 - mean_squared_error: 0.1704 - rmse: 0.4086 - val_loss: 1.3978 - val_mean_squared_error: 1.3978 - val_rmse: 1.1767\n",
            "Epoch 00016: early stopping\n"
          ]
        },
        {
          "output_type": "display_data",
          "data": {
            "image/png": "[encoded data removed]",
            "text/plain": [
              "<Figure size 864x504 with 1 Axes>"
            ]
          },
          "metadata": {
            "needs_background": "light"
          }
        },
        {
          "output_type": "stream",
          "name": "stderr",
          "text": [
            "100%|██████████| 4/4 [05:21<00:00, 80.40s/it]\n"
          ]
        }
      ]
    },
    {
      "cell_type": "code",
      "source": [
        "y_mae_trains = []\n",
        "y_mse_trains = []\n",
        "y_sia_1_trains = []\n",
        "y_sia_0_5_trains = []\n",
        "y_sia_0_25_trains = []\n",
        "\n",
        "y_mae_tests = []\n",
        "y_mse_tests = []\n",
        "y_sia_1_tests = []\n",
        "y_sia_0_5_tests = []\n",
        "y_sia_0_25_tests = []"
      ],
      "metadata": {
        "id": "Kpnn187Ewc8_"
      },
      "execution_count": null,
      "outputs": []
    },
    {
      "cell_type": "code",
      "source": [
        "# load best model\n",
        "filenames = [\"./drive/MyDrive/gmf_model_glorot_normal.hdf5\", \"./drive/MyDrive/gmf_model_glorot_uniform.hdf5\", \"./drive/MyDrive/gmf_model_he_normal.hdf5\", \"./drive/MyDrive/gmf_model_he_uniform.hdf5\"]\n",
        "i = 0\n",
        "\n",
        "for kernel in tqdm([GlorotNormal(), GlorotUniform(), HeNormal(), HeUniform()]):\n",
        "  GMF_model = get_GMF_model(num_users, num_items, 10, 0, 0, kernel)\n",
        "  GMF_model = load_trained_model(GMF_model, filenames[i])\n",
        "\n",
        "  predictions_train = GMF_model.predict([df_train[\"user index\"].values.astype(np.int), df_train[\"movie index\"].values.astype(np.int)])\n",
        "\n",
        "  y_mae_trains.append(Metrics.computeMAE(df_train.rating.values, predictions_train))\n",
        "  y_mse_trains.append(Metrics.computeMSE(df_train.rating.values, predictions_train))\n",
        "  y_sia_1_trains.append(Metrics.computeSIA(df_train.rating.values, predictions_train, 1))\n",
        "  y_sia_0_5_trains.append(Metrics.computeSIA(df_train.rating.values, predictions_train, 0.5))\n",
        "  y_sia_0_25_trains.append(Metrics.computeSIA(df_train.rating.values, predictions_train, 0.25))\n",
        "\n",
        "  # make prediction using test data\n",
        "  predictions_test = GMF_model.predict([df_test[\"user index\"].values.astype(np.int), df_test[\"movie index\"].values.astype(np.int)])\n",
        "  \n",
        "  y_mae_tests.append(Metrics.computeMAE(df_test.rating.values, predictions_test))\n",
        "  y_mse_tests.append(Metrics.computeMSE(df_test.rating.values, predictions_test))\n",
        "  y_sia_1_tests.append(Metrics.computeSIA(df_test.rating.values, predictions_test, 1))\n",
        "  y_sia_0_5_tests.append(Metrics.computeSIA(df_test.rating.values, predictions_test, 0.5))\n",
        "  y_sia_0_25_tests.append(Metrics.computeSIA(df_test.rating.values, predictions_test, 0.25))\n",
        "\n",
        "  i = i + 1\n",
        "\n",
        "\n",
        "\n"
      ],
      "metadata": {
        "id": "JfC20_kc-qDr",
        "colab": {
          "base_uri": "https://localhost:8080/"
        },
        "outputId": "5e9a3041-2a93-478b-fe60-2848d8f60c05"
      },
      "execution_count": null,
      "outputs": [
        {
          "output_type": "stream",
          "name": "stderr",
          "text": [
            "100%|██████████| 4/4 [00:33<00:00,  8.35s/it]\n"
          ]
        }
      ]
    },
    {
      "cell_type": "code",
      "source": [
        "X_label = [\"glorot normal\", \"glorot uniform\", \"he normal\", \"he uniform\"]\n",
        "\n",
        "plt.scatter(X_label, y_mae_trains)\n",
        "plt.scatter(X_label, y_mae_tests, color=\"orange\")\n",
        "plt.xlabel(\"kernel\")\n",
        "plt.ylabel(\"mae metric\")\n",
        "plt.show()\n",
        "\n",
        "plt.scatter(X_label, y_mse_trains)\n",
        "plt.scatter(X_label, y_mse_tests, color=\"orange\")\n",
        "plt.xlabel(\"kernel\")\n",
        "plt.ylabel(\"mse metric\")\n",
        "plt.show()\n",
        "\n",
        "plt.scatter(X_label, y_sia_1_trains)\n",
        "plt.scatter(X_label, y_sia_1_tests, color=\"orange\")\n",
        "plt.xlabel(\"kernel\")\n",
        "plt.ylabel(\"sia_1 metric\")\n",
        "plt.show()\n",
        "\n",
        "plt.scatter(X_label, y_sia_0_5_trains)\n",
        "plt.scatter(X_label, y_sia_0_5_tests, color=\"orange\")\n",
        "plt.xlabel(\"kernel\")\n",
        "plt.ylabel(\"sia_0.5 metric\")\n",
        "plt.show()\n",
        "\n",
        "plt.scatter(X_label, y_sia_0_25_trains)\n",
        "plt.scatter(X_label, y_sia_0_25_tests, color=\"orange\")\n",
        "plt.xlabel(\"kernel\")\n",
        "plt.ylabel(\"sia_0.25 metric\")\n",
        "plt.show()\n",
        "\n"
      ],
      "metadata": {
        "colab": {
          "base_uri": "https://localhost:8080/",
          "height": 1000
        },
        "id": "S653Ltla0b9u",
        "outputId": "c53ab3bf-5ad9-4e9d-9f3e-69574094c1ca"
      },
      "execution_count": null,
      "outputs": [
        {
          "output_type": "display_data",
          "data": {
            "image/png": "[encoded data removed]",
            "text/plain": [
              "<Figure size 432x288 with 1 Axes>"
            ]
          },
          "metadata": {
            "needs_background": "light"
          }
        },
        {
          "output_type": "display_data",
          "data": {
            "image/png": "[encoded data removed]",
            "text/plain": [
              "<Figure size 432x288 with 1 Axes>"
            ]
          },
          "metadata": {
            "needs_background": "light"
          }
        },
        {
          "output_type": "display_data",
          "data": {
            "image/png": "[encoded data removed]",
            "text/plain": [
              "<Figure size 432x288 with 1 Axes>"
            ]
          },
          "metadata": {
            "needs_background": "light"
          }
        },
        {
          "output_type": "display_data",
          "data": {
            "image/png": "[encoded data removed]",
            "text/plain": [
              "<Figure size 432x288 with 1 Axes>"
            ]
          },
          "metadata": {
            "needs_background": "light"
          }
        },
        {
          "output_type": "display_data",
          "data": {
            "image/png": "[encoded data removed]",
            "text/plain": [
              "<Figure size 432x288 with 1 Axes>"
            ]
          },
          "metadata": {
            "needs_background": "light"
          }
        }
      ]
    },
    {
      "cell_type": "code",
      "source": [
        "print(y_mae_trains)\n",
        "print(y_mse_trains)\n",
        "print(y_sia_1_trains)\n",
        "print(y_sia_0_5_trains)\n",
        "print(y_sia_0_25_trains)\n",
        "\n",
        "print(y_mae_tests)\n",
        "print(y_mse_tests)\n",
        "print(y_sia_1_tests)\n",
        "print(y_sia_0_5_tests)\n",
        "print(y_sia_0_25_tests)"
      ],
      "metadata": {
        "colab": {
          "base_uri": "https://localhost:8080/"
        },
        "id": "cztTd50FfLR4",
        "outputId": "61cb31f7-020f-4f0e-b8d5-0c2232671352"
      },
      "execution_count": null,
      "outputs": [
        {
          "output_type": "stream",
          "name": "stdout",
          "text": [
            "[array([0.61549167]), array([0.60920394]), array([0.62200084]), array([0.6412801])]\n",
            "[array([0.66225423]), array([0.65371372]), array([0.67392402]), array([0.70381075])]\n",
            "[0.8036874451273046, 0.8057810495036132, 0.7980819882488013, 0.7869521172418451]\n",
            "[0.5211724184507328, 0.5277774025798608, 0.5164044033227527, 0.498196798811373]\n",
            "[0.2900790166812994, 0.29662997231039373, 0.28591882217869924, 0.27509961504693725]\n",
            "[array([0.84111637], dtype=float32), array([0.83295715], dtype=float32), array([0.8286759], dtype=float32), array([0.8108205], dtype=float32)]\n",
            "[array([1.1551228], dtype=float32), array([1.1331006], dtype=float32), array([1.1284055], dtype=float32), array([1.0812852], dtype=float32)]\n",
            "[0.6647576854503214, 0.6708087957210006, 0.6742125452482576, 0.6820465719379761]\n",
            "[0.3793289750931979, 0.3860284186071641, 0.3889459182019558, 0.3953752228645524]\n",
            "[0.20071316656761576, 0.20125344427035496, 0.2031984440002161, 0.209411637581717]\n"
          ]
        }
      ]
    },
    {
      "cell_type": "code",
      "source": [
        "def get_MLP_model(num_users, num_items, layers, reg_layers, kernel):\n",
        "    \"\"\"\n",
        "    Build Multi-Layer Perceptron Model Topology\n",
        "    \n",
        "    Parameters\n",
        "    ----------\n",
        "    num_users: int, total number of users\n",
        "    num_iterms: int, total number of items\n",
        "    layers: list of int, each element is the number of hidden units for each layer,\n",
        "        with the exception of first element. First element is the sum of dims of\n",
        "        user latent vector and item latent vector\n",
        "    reg_layers: list of int, each element is the L2 regularization parameter for\n",
        "        each layer in MLP\n",
        "\n",
        "    Return\n",
        "    ------\n",
        "    A Keras Model with MLP model architeture\n",
        "    \"\"\"\n",
        "    assert len(layers) == len(reg_layers)\n",
        "    num_layer = len(layers) # Number of layers in the MLP\n",
        "    # Input variables\n",
        "    user_input = Input(shape=(1,), dtype='int32', name='user_input')\n",
        "    item_input = Input(shape=(1,), dtype='int32', name='item_input')\n",
        "\n",
        "    MLP_Embedding_User = Embedding(\n",
        "        input_dim=num_users + 1,\n",
        "        output_dim=layers[0] // 2,\n",
        "        embeddings_initializer='uniform',\n",
        "        name='user_embedding',\n",
        "        embeddings_regularizer=l2(reg_layers[0]),\n",
        "        input_length=1)\n",
        "    MLP_Embedding_Item = Embedding(\n",
        "        input_dim=num_items + 1,\n",
        "        output_dim=layers[0] // 2,\n",
        "        embeddings_initializer='uniform',\n",
        "        name='item_embedding',\n",
        "        embeddings_regularizer=l2(reg_layers[0]),\n",
        "        input_length=1) \n",
        "    \n",
        "    user_latent = Flatten()(MLP_Embedding_User(user_input))\n",
        "    item_latent = Flatten()(MLP_Embedding_Item(item_input))\n",
        "\n",
        "    vector = Concatenate(axis=-1)([user_latent, item_latent])\n",
        "\n",
        "    for idx in range(1, num_layer):\n",
        "        layer = Dense(\n",
        "            units=layers[idx],\n",
        "            activation='relu',\n",
        "            kernel_initializer=kernel,\n",
        "            kernel_regularizer=l2(reg_layers[idx]),\n",
        "            name = 'layer%d' %idx)\n",
        "        vector = layer(vector)\n",
        "    \n",
        "    prediction = Dense(1, kernel_initializer=kernel, name='prediction')(vector)\n",
        "    \n",
        "    model = Model([user_input, item_input], prediction)\n",
        "    return model\n",
        "    "
      ],
      "metadata": {
        "id": "zYIXf3tJ_P0T"
      },
      "execution_count": null,
      "outputs": []
    },
    {
      "cell_type": "code",
      "source": [
        "# model config\n",
        "BATCH_SIZE = 64\n",
        "EPOCHS = 30\n",
        "VAL_SPLIT = 0.25"
      ],
      "metadata": {
        "id": "YJvRzu8IzMcG"
      },
      "execution_count": null,
      "outputs": []
    },
    {
      "cell_type": "code",
      "source": [
        "filenames = [\"./drive/MyDrive/mlp_model_glorot_normal.hdf5\", \"./drive/MyDrive/mlp_model_glorot_uniform.hdf5\", \"./drive/MyDrive/mlp_model_he_normal.hdf5\", \"./drive/MyDrive/mlp_model_he_uniform.hdf5\"]\n",
        "i = 0\n",
        "\n",
        "for kernel in tqdm([GlorotNormal(), GlorotUniform(), HeNormal(), HeUniform()]):\n",
        "  MLP_model = get_MLP_model(num_users, num_items, [64, 32, 16, 8], [0, 0, 0, 0], kernel)\n",
        "  MLP_model.summary()\n",
        "  \n",
        "  history = train_model(MLP_model, 'adam', BATCH_SIZE, EPOCHS, VAL_SPLIT, \n",
        "                      [df_train[\"user index\"].values.astype(np.int), df_train[\"movie index\"].values.astype(np.int)],\n",
        "                      df_train.rating.values, filenames[i])\n",
        "  i = i + 1\n",
        "  plot_learning_curve(history, 'rmse')\n"
      ],
      "metadata": {
        "colab": {
          "base_uri": "https://localhost:8080/",
          "height": 1000
        },
        "id": "kG9v8xmvy77k",
        "outputId": "80375ce5-513a-48bf-f1df-da9934d8d671"
      },
      "execution_count": null,
      "outputs": [
        {
          "output_type": "stream",
          "name": "stderr",
          "text": [
            "\r  0%|          | 0/4 [00:00<?, ?it/s]"
          ]
        },
        {
          "output_type": "stream",
          "name": "stdout",
          "text": [
            "Model: \"model_8\"\n",
            "__________________________________________________________________________________________________\n",
            " Layer (type)                   Output Shape         Param #     Connected to                     \n",
            "==================================================================================================\n",
            " user_input (InputLayer)        [(None, 1)]          0           []                               \n",
            "                                                                                                  \n",
            " item_input (InputLayer)        [(None, 1)]          0           []                               \n",
            "                                                                                                  \n",
            " user_embedding (Embedding)     (None, 1, 32)        44512       ['user_input[0][0]']             \n",
            "                                                                                                  \n",
            " item_embedding (Embedding)     (None, 1, 32)        267296      ['item_input[0][0]']             \n",
            "                                                                                                  \n",
            " flatten_16 (Flatten)           (None, 32)           0           ['user_embedding[0][0]']         \n",
            "                                                                                                  \n",
            " flatten_17 (Flatten)           (None, 32)           0           ['item_embedding[0][0]']         \n",
            "                                                                                                  \n",
            " concatenate (Concatenate)      (None, 64)           0           ['flatten_16[0][0]',             \n",
            "                                                                  'flatten_17[0][0]']             \n",
            "                                                                                                  \n",
            " layer1 (Dense)                 (None, 32)           2080        ['concatenate[0][0]']            \n",
            "                                                                                                  \n",
            " layer2 (Dense)                 (None, 16)           528         ['layer1[0][0]']                 \n",
            "                                                                                                  \n",
            " layer3 (Dense)                 (None, 8)            136         ['layer2[0][0]']                 \n",
            "                                                                                                  \n",
            " prediction (Dense)             (None, 1)            9           ['layer3[0][0]']                 \n",
            "                                                                                                  \n",
            "==================================================================================================\n",
            "Total params: 314,561\n",
            "Trainable params: 314,561\n",
            "Non-trainable params: 0\n",
            "__________________________________________________________________________________________________\n",
            "Epoch 1/30\n",
            "868/868 [==============================] - 6s 6ms/step - loss: 1.5818 - mean_squared_error: 1.5818 - rmse: 1.1458 - val_loss: 0.8898 - val_mean_squared_error: 0.8898 - val_rmse: 0.9387\n",
            "Epoch 2/30\n",
            "868/868 [==============================] - 5s 5ms/step - loss: 0.7952 - mean_squared_error: 0.7952 - rmse: 0.8871 - val_loss: 0.8686 - val_mean_squared_error: 0.8686 - val_rmse: 0.9275\n",
            "Epoch 3/30\n",
            "868/868 [==============================] - 5s 5ms/step - loss: 0.7144 - mean_squared_error: 0.7144 - rmse: 0.8404 - val_loss: 0.8795 - val_mean_squared_error: 0.8795 - val_rmse: 0.9328\n",
            "Epoch 4/30\n",
            "868/868 [==============================] - 4s 5ms/step - loss: 0.6367 - mean_squared_error: 0.6367 - rmse: 0.7932 - val_loss: 0.9036 - val_mean_squared_error: 0.9036 - val_rmse: 0.9446\n",
            "Epoch 5/30\n",
            "868/868 [==============================] - 4s 5ms/step - loss: 0.5382 - mean_squared_error: 0.5382 - rmse: 0.7285 - val_loss: 0.9393 - val_mean_squared_error: 0.9393 - val_rmse: 0.9631\n",
            "Epoch 6/30\n",
            "868/868 [==============================] - 5s 5ms/step - loss: 0.4242 - mean_squared_error: 0.4242 - rmse: 0.6464 - val_loss: 1.0373 - val_mean_squared_error: 1.0373 - val_rmse: 1.0120\n",
            "Epoch 7/30\n",
            "868/868 [==============================] - 5s 5ms/step - loss: 0.3221 - mean_squared_error: 0.3221 - rmse: 0.5625 - val_loss: 1.0657 - val_mean_squared_error: 1.0657 - val_rmse: 1.0258\n",
            "Epoch 8/30\n",
            "868/868 [==============================] - 5s 5ms/step - loss: 0.2430 - mean_squared_error: 0.2430 - rmse: 0.4884 - val_loss: 1.1333 - val_mean_squared_error: 1.1333 - val_rmse: 1.0581\n",
            "Epoch 9/30\n",
            "868/868 [==============================] - 5s 6ms/step - loss: 0.1849 - mean_squared_error: 0.1849 - rmse: 0.4258 - val_loss: 1.1754 - val_mean_squared_error: 1.1754 - val_rmse: 1.0779\n",
            "Epoch 10/30\n",
            "868/868 [==============================] - 5s 6ms/step - loss: 0.1464 - mean_squared_error: 0.1464 - rmse: 0.3786 - val_loss: 1.1950 - val_mean_squared_error: 1.1950 - val_rmse: 1.0865\n",
            "Epoch 11/30\n",
            "868/868 [==============================] - 5s 5ms/step - loss: 0.1218 - mean_squared_error: 0.1218 - rmse: 0.3456 - val_loss: 1.1935 - val_mean_squared_error: 1.1935 - val_rmse: 1.0861\n",
            "Epoch 12/30\n",
            "868/868 [==============================] - 5s 6ms/step - loss: 0.1035 - mean_squared_error: 0.1035 - rmse: 0.3191 - val_loss: 1.2011 - val_mean_squared_error: 1.2011 - val_rmse: 1.0897\n",
            "Epoch 00012: early stopping\n"
          ]
        },
        {
          "output_type": "display_data",
          "data": {
            "image/png": "[encoded data removed]",
            "text/plain": [
              "<Figure size 864x504 with 1 Axes>"
            ]
          },
          "metadata": {
            "needs_background": "light"
          }
        },
        {
          "output_type": "stream",
          "name": "stderr",
          "text": [
            "\r 25%|██▌       | 1/4 [00:58<02:56, 58.91s/it]"
          ]
        },
        {
          "output_type": "stream",
          "name": "stdout",
          "text": [
            "Model: \"model_9\"\n",
            "__________________________________________________________________________________________________\n",
            " Layer (type)                   Output Shape         Param #     Connected to                     \n",
            "==================================================================================================\n",
            " user_input (InputLayer)        [(None, 1)]          0           []                               \n",
            "                                                                                                  \n",
            " item_input (InputLayer)        [(None, 1)]          0           []                               \n",
            "                                                                                                  \n",
            " user_embedding (Embedding)     (None, 1, 32)        44512       ['user_input[0][0]']             \n",
            "                                                                                                  \n",
            " item_embedding (Embedding)     (None, 1, 32)        267296      ['item_input[0][0]']             \n",
            "                                                                                                  \n",
            " flatten_18 (Flatten)           (None, 32)           0           ['user_embedding[0][0]']         \n",
            "                                                                                                  \n",
            " flatten_19 (Flatten)           (None, 32)           0           ['item_embedding[0][0]']         \n",
            "                                                                                                  \n",
            " concatenate_1 (Concatenate)    (None, 64)           0           ['flatten_18[0][0]',             \n",
            "                                                                  'flatten_19[0][0]']             \n",
            "                                                                                                  \n",
            " layer1 (Dense)                 (None, 32)           2080        ['concatenate_1[0][0]']          \n",
            "                                                                                                  \n",
            " layer2 (Dense)                 (None, 16)           528         ['layer1[0][0]']                 \n",
            "                                                                                                  \n",
            " layer3 (Dense)                 (None, 8)            136         ['layer2[0][0]']                 \n",
            "                                                                                                  \n",
            " prediction (Dense)             (None, 1)            9           ['layer3[0][0]']                 \n",
            "                                                                                                  \n",
            "==================================================================================================\n",
            "Total params: 314,561\n",
            "Trainable params: 314,561\n",
            "Non-trainable params: 0\n",
            "__________________________________________________________________________________________________\n",
            "Epoch 1/30\n",
            "868/868 [==============================] - 7s 7ms/step - loss: 1.8698 - mean_squared_error: 1.8698 - rmse: 1.2122 - val_loss: 0.9002 - val_mean_squared_error: 0.9002 - val_rmse: 0.9444\n",
            "Epoch 2/30\n",
            "868/868 [==============================] - 5s 5ms/step - loss: 0.7991 - mean_squared_error: 0.7991 - rmse: 0.8896 - val_loss: 0.8720 - val_mean_squared_error: 0.8720 - val_rmse: 0.9292\n",
            "Epoch 3/30\n",
            "868/868 [==============================] - 5s 5ms/step - loss: 0.7229 - mean_squared_error: 0.7229 - rmse: 0.8458 - val_loss: 0.8775 - val_mean_squared_error: 0.8775 - val_rmse: 0.9318\n",
            "Epoch 4/30\n",
            "868/868 [==============================] - 5s 5ms/step - loss: 0.6548 - mean_squared_error: 0.6548 - rmse: 0.8045 - val_loss: 0.8980 - val_mean_squared_error: 0.8980 - val_rmse: 0.9417\n",
            "Epoch 5/30\n",
            "868/868 [==============================] - 5s 5ms/step - loss: 0.5784 - mean_squared_error: 0.5784 - rmse: 0.7558 - val_loss: 0.9449 - val_mean_squared_error: 0.9449 - val_rmse: 0.9661\n",
            "Epoch 6/30\n",
            "868/868 [==============================] - 5s 5ms/step - loss: 0.5015 - mean_squared_error: 0.5015 - rmse: 0.7033 - val_loss: 0.9760 - val_mean_squared_error: 0.9760 - val_rmse: 0.9821\n",
            "Epoch 7/30\n",
            "868/868 [==============================] - 5s 5ms/step - loss: 0.4150 - mean_squared_error: 0.4150 - rmse: 0.6392 - val_loss: 1.0441 - val_mean_squared_error: 1.0441 - val_rmse: 1.0163\n",
            "Epoch 8/30\n",
            "868/868 [==============================] - 5s 6ms/step - loss: 0.3331 - mean_squared_error: 0.3331 - rmse: 0.5723 - val_loss: 1.0997 - val_mean_squared_error: 1.0997 - val_rmse: 1.0423\n",
            "Epoch 9/30\n",
            "868/868 [==============================] - 5s 5ms/step - loss: 0.2654 - mean_squared_error: 0.2654 - rmse: 0.5105 - val_loss: 1.1552 - val_mean_squared_error: 1.1552 - val_rmse: 1.0683\n",
            "Epoch 10/30\n",
            "868/868 [==============================] - 5s 5ms/step - loss: 0.2144 - mean_squared_error: 0.2144 - rmse: 0.4589 - val_loss: 1.1971 - val_mean_squared_error: 1.1971 - val_rmse: 1.0877\n",
            "Epoch 11/30\n",
            "868/868 [==============================] - 5s 6ms/step - loss: 0.1779 - mean_squared_error: 0.1779 - rmse: 0.4175 - val_loss: 1.2069 - val_mean_squared_error: 1.2069 - val_rmse: 1.0921\n",
            "Epoch 12/30\n",
            "868/868 [==============================] - 5s 6ms/step - loss: 0.1491 - mean_squared_error: 0.1491 - rmse: 0.3822 - val_loss: 1.2448 - val_mean_squared_error: 1.2448 - val_rmse: 1.1094\n",
            "Epoch 00012: early stopping\n"
          ]
        },
        {
          "output_type": "display_data",
          "data": {
            "image/png": "[encoded data removed]",
            "text/plain": [
              "<Figure size 864x504 with 1 Axes>"
            ]
          },
          "metadata": {
            "needs_background": "light"
          }
        },
        {
          "output_type": "stream",
          "name": "stderr",
          "text": [
            "\r 50%|█████     | 2/4 [02:22<02:26, 73.17s/it]"
          ]
        },
        {
          "output_type": "stream",
          "name": "stdout",
          "text": [
            "Model: \"model_10\"\n",
            "__________________________________________________________________________________________________\n",
            " Layer (type)                   Output Shape         Param #     Connected to                     \n",
            "==================================================================================================\n",
            " user_input (InputLayer)        [(None, 1)]          0           []                               \n",
            "                                                                                                  \n",
            " item_input (InputLayer)        [(None, 1)]          0           []                               \n",
            "                                                                                                  \n",
            " user_embedding (Embedding)     (None, 1, 32)        44512       ['user_input[0][0]']             \n",
            "                                                                                                  \n",
            " item_embedding (Embedding)     (None, 1, 32)        267296      ['item_input[0][0]']             \n",
            "                                                                                                  \n",
            " flatten_20 (Flatten)           (None, 32)           0           ['user_embedding[0][0]']         \n",
            "                                                                                                  \n",
            " flatten_21 (Flatten)           (None, 32)           0           ['item_embedding[0][0]']         \n",
            "                                                                                                  \n",
            " concatenate_2 (Concatenate)    (None, 64)           0           ['flatten_20[0][0]',             \n",
            "                                                                  'flatten_21[0][0]']             \n",
            "                                                                                                  \n",
            " layer1 (Dense)                 (None, 32)           2080        ['concatenate_2[0][0]']          \n",
            "                                                                                                  \n",
            " layer2 (Dense)                 (None, 16)           528         ['layer1[0][0]']                 \n",
            "                                                                                                  \n",
            " layer3 (Dense)                 (None, 8)            136         ['layer2[0][0]']                 \n",
            "                                                                                                  \n",
            " prediction (Dense)             (None, 1)            9           ['layer3[0][0]']                 \n",
            "                                                                                                  \n",
            "==================================================================================================\n",
            "Total params: 314,561\n",
            "Trainable params: 314,561\n",
            "Non-trainable params: 0\n",
            "__________________________________________________________________________________________________\n",
            "Epoch 1/30\n",
            "868/868 [==============================] - 7s 7ms/step - loss: 1.7672 - mean_squared_error: 1.7672 - rmse: 1.1906 - val_loss: 0.8980 - val_mean_squared_error: 0.8980 - val_rmse: 0.9431\n",
            "Epoch 2/30\n",
            "868/868 [==============================] - 5s 6ms/step - loss: 0.7980 - mean_squared_error: 0.7980 - rmse: 0.8891 - val_loss: 0.8751 - val_mean_squared_error: 0.8751 - val_rmse: 0.9307\n",
            "Epoch 3/30\n",
            "868/868 [==============================] - 5s 6ms/step - loss: 0.7195 - mean_squared_error: 0.7195 - rmse: 0.8432 - val_loss: 0.8651 - val_mean_squared_error: 0.8651 - val_rmse: 0.9250\n",
            "Epoch 4/30\n",
            "868/868 [==============================] - 5s 5ms/step - loss: 0.6388 - mean_squared_error: 0.6388 - rmse: 0.7941 - val_loss: 0.8951 - val_mean_squared_error: 0.8951 - val_rmse: 0.9411\n",
            "Epoch 5/30\n",
            "868/868 [==============================] - 5s 6ms/step - loss: 0.5453 - mean_squared_error: 0.5453 - rmse: 0.7335 - val_loss: 0.9627 - val_mean_squared_error: 0.9627 - val_rmse: 0.9759\n",
            "Epoch 6/30\n",
            "868/868 [==============================] - 5s 6ms/step - loss: 0.4441 - mean_squared_error: 0.4441 - rmse: 0.6614 - val_loss: 1.0274 - val_mean_squared_error: 1.0274 - val_rmse: 1.0076\n",
            "Epoch 7/30\n",
            "868/868 [==============================] - 5s 6ms/step - loss: 0.3543 - mean_squared_error: 0.3543 - rmse: 0.5902 - val_loss: 1.0929 - val_mean_squared_error: 1.0929 - val_rmse: 1.0396\n",
            "Epoch 8/30\n",
            "868/868 [==============================] - 5s 6ms/step - loss: 0.2804 - mean_squared_error: 0.2804 - rmse: 0.5246 - val_loss: 1.1405 - val_mean_squared_error: 1.1405 - val_rmse: 1.0618\n",
            "Epoch 9/30\n",
            "868/868 [==============================] - 5s 5ms/step - loss: 0.2222 - mean_squared_error: 0.2222 - rmse: 0.4665 - val_loss: 1.1596 - val_mean_squared_error: 1.1596 - val_rmse: 1.0708\n",
            "Epoch 10/30\n",
            "868/868 [==============================] - 5s 5ms/step - loss: 0.1800 - mean_squared_error: 0.1800 - rmse: 0.4203 - val_loss: 1.1846 - val_mean_squared_error: 1.1846 - val_rmse: 1.0816\n",
            "Epoch 11/30\n",
            "868/868 [==============================] - 5s 6ms/step - loss: 0.1481 - mean_squared_error: 0.1481 - rmse: 0.3809 - val_loss: 1.2181 - val_mean_squared_error: 1.2181 - val_rmse: 1.0971\n",
            "Epoch 12/30\n",
            "868/868 [==============================] - 5s 5ms/step - loss: 0.1250 - mean_squared_error: 0.1250 - rmse: 0.3499 - val_loss: 1.2393 - val_mean_squared_error: 1.2393 - val_rmse: 1.1071\n",
            "Epoch 13/30\n",
            "868/868 [==============================] - 5s 5ms/step - loss: 0.1068 - mean_squared_error: 0.1068 - rmse: 0.3237 - val_loss: 1.2544 - val_mean_squared_error: 1.2544 - val_rmse: 1.1133\n",
            "Epoch 00013: early stopping\n"
          ]
        },
        {
          "output_type": "display_data",
          "data": {
            "image/png": "[encoded data removed]",
            "text/plain": [
              "<Figure size 864x504 with 1 Axes>"
            ]
          },
          "metadata": {
            "needs_background": "light"
          }
        },
        {
          "output_type": "stream",
          "name": "stderr",
          "text": [
            "\r 75%|███████▌  | 3/4 [03:28<01:10, 70.02s/it]"
          ]
        },
        {
          "output_type": "stream",
          "name": "stdout",
          "text": [
            "Model: \"model_11\"\n",
            "__________________________________________________________________________________________________\n",
            " Layer (type)                   Output Shape         Param #     Connected to                     \n",
            "==================================================================================================\n",
            " user_input (InputLayer)        [(None, 1)]          0           []                               \n",
            "                                                                                                  \n",
            " item_input (InputLayer)        [(None, 1)]          0           []                               \n",
            "                                                                                                  \n",
            " user_embedding (Embedding)     (None, 1, 32)        44512       ['user_input[0][0]']             \n",
            "                                                                                                  \n",
            " item_embedding (Embedding)     (None, 1, 32)        267296      ['item_input[0][0]']             \n",
            "                                                                                                  \n",
            " flatten_22 (Flatten)           (None, 32)           0           ['user_embedding[0][0]']         \n",
            "                                                                                                  \n",
            " flatten_23 (Flatten)           (None, 32)           0           ['item_embedding[0][0]']         \n",
            "                                                                                                  \n",
            " concatenate_3 (Concatenate)    (None, 64)           0           ['flatten_22[0][0]',             \n",
            "                                                                  'flatten_23[0][0]']             \n",
            "                                                                                                  \n",
            " layer1 (Dense)                 (None, 32)           2080        ['concatenate_3[0][0]']          \n",
            "                                                                                                  \n",
            " layer2 (Dense)                 (None, 16)           528         ['layer1[0][0]']                 \n",
            "                                                                                                  \n",
            " layer3 (Dense)                 (None, 8)            136         ['layer2[0][0]']                 \n",
            "                                                                                                  \n",
            " prediction (Dense)             (None, 1)            9           ['layer3[0][0]']                 \n",
            "                                                                                                  \n",
            "==================================================================================================\n",
            "Total params: 314,561\n",
            "Trainable params: 314,561\n",
            "Non-trainable params: 0\n",
            "__________________________________________________________________________________________________\n",
            "Epoch 1/30\n",
            "868/868 [==============================] - 6s 6ms/step - loss: 1.8707 - mean_squared_error: 1.8707 - rmse: 1.2147 - val_loss: 0.9021 - val_mean_squared_error: 0.9021 - val_rmse: 0.9454\n",
            "Epoch 2/30\n",
            "868/868 [==============================] - 5s 6ms/step - loss: 0.7982 - mean_squared_error: 0.7982 - rmse: 0.8889 - val_loss: 0.8780 - val_mean_squared_error: 0.8780 - val_rmse: 0.9323\n",
            "Epoch 3/30\n",
            "868/868 [==============================] - 5s 5ms/step - loss: 0.7178 - mean_squared_error: 0.7178 - rmse: 0.8424 - val_loss: 0.8729 - val_mean_squared_error: 0.8729 - val_rmse: 0.9293\n",
            "Epoch 4/30\n",
            "868/868 [==============================] - 5s 5ms/step - loss: 0.6333 - mean_squared_error: 0.6333 - rmse: 0.7913 - val_loss: 0.9129 - val_mean_squared_error: 0.9129 - val_rmse: 0.9501\n",
            "Epoch 5/30\n",
            "868/868 [==============================] - 5s 5ms/step - loss: 0.5403 - mean_squared_error: 0.5403 - rmse: 0.7298 - val_loss: 0.9664 - val_mean_squared_error: 0.9664 - val_rmse: 0.9778\n",
            "Epoch 6/30\n",
            "868/868 [==============================] - 5s 6ms/step - loss: 0.4438 - mean_squared_error: 0.4438 - rmse: 0.6614 - val_loss: 1.0497 - val_mean_squared_error: 1.0497 - val_rmse: 1.0187\n",
            "Epoch 7/30\n",
            "868/868 [==============================] - 5s 6ms/step - loss: 0.3615 - mean_squared_error: 0.3615 - rmse: 0.5963 - val_loss: 1.0739 - val_mean_squared_error: 1.0739 - val_rmse: 1.0308\n",
            "Epoch 8/30\n",
            "868/868 [==============================] - 5s 5ms/step - loss: 0.2869 - mean_squared_error: 0.2869 - rmse: 0.5308 - val_loss: 1.1254 - val_mean_squared_error: 1.1254 - val_rmse: 1.0546\n",
            "Epoch 9/30\n",
            "868/868 [==============================] - 5s 5ms/step - loss: 0.2273 - mean_squared_error: 0.2273 - rmse: 0.4720 - val_loss: 1.1790 - val_mean_squared_error: 1.1790 - val_rmse: 1.0796\n",
            "Epoch 10/30\n",
            "868/868 [==============================] - 5s 5ms/step - loss: 0.1826 - mean_squared_error: 0.1826 - rmse: 0.4232 - val_loss: 1.2178 - val_mean_squared_error: 1.2178 - val_rmse: 1.0970\n",
            "Epoch 11/30\n",
            "868/868 [==============================] - 5s 5ms/step - loss: 0.1487 - mean_squared_error: 0.1487 - rmse: 0.3817 - val_loss: 1.1999 - val_mean_squared_error: 1.1999 - val_rmse: 1.0893\n",
            "Epoch 12/30\n",
            "868/868 [==============================] - 5s 5ms/step - loss: 0.1248 - mean_squared_error: 0.1248 - rmse: 0.3499 - val_loss: 1.2316 - val_mean_squared_error: 1.2316 - val_rmse: 1.1031\n",
            "Epoch 13/30\n",
            "868/868 [==============================] - 5s 6ms/step - loss: 0.1069 - mean_squared_error: 0.1069 - rmse: 0.3241 - val_loss: 1.2515 - val_mean_squared_error: 1.2515 - val_rmse: 1.1128\n",
            "Epoch 00013: early stopping\n"
          ]
        },
        {
          "output_type": "display_data",
          "data": {
            "image/png": "[encoded data removed]",
            "text/plain": [
              "<Figure size 864x504 with 1 Axes>"
            ]
          },
          "metadata": {
            "needs_background": "light"
          }
        },
        {
          "output_type": "stream",
          "name": "stderr",
          "text": [
            "100%|██████████| 4/4 [04:33<00:00, 68.44s/it]\n"
          ]
        }
      ]
    },
    {
      "cell_type": "code",
      "source": [
        "y_mae_trains = []\n",
        "y_mse_trains = []\n",
        "y_sia_1_trains = []\n",
        "y_sia_0_5_trains = []\n",
        "y_sia_0_25_trains = []\n",
        "\n",
        "y_mae_tests = []\n",
        "y_mse_tests = []\n",
        "y_sia_1_tests = []\n",
        "y_sia_0_5_tests = []\n",
        "y_sia_0_25_tests = []"
      ],
      "metadata": {
        "id": "WFm624nb0B8x"
      },
      "execution_count": null,
      "outputs": []
    },
    {
      "cell_type": "code",
      "source": [
        "# load best model\n",
        "filenames = [\"./drive/MyDrive/mlp_model_glorot_normal.hdf5\", \"./drive/MyDrive/mlp_model_glorot_uniform.hdf5\", \"./drive/MyDrive/mlp_model_he_normal.hdf5\", \"./drive/MyDrive/mlp_model_he_uniform.hdf5\"]\n",
        "i = 0\n",
        "\n",
        "for kernel in tqdm([GlorotNormal(), GlorotUniform(), HeNormal(), HeUniform()]):\n",
        "  MLP_model = get_MLP_model(num_users, num_items, [64, 32, 16, 8], [0, 0, 0, 0], kernel)\n",
        "  MLP_model = load_trained_model(MLP_model, filenames[i])\n",
        "\n",
        "  # make prediction using train data\n",
        "  predictions_train = MLP_model.predict([df_train[\"user index\"].values.astype(np.int), df_train[\"movie index\"].values.astype(np.int)])\n",
        "\n",
        "  y_mae_trains.append(Metrics.computeMAE(df_train.rating.values, predictions_train))\n",
        "  y_mse_trains.append(Metrics.computeMSE(df_train.rating.values, predictions_train))\n",
        "  y_sia_1_trains.append(Metrics.computeSIA(df_train.rating.values, predictions_train, 1))\n",
        "  y_sia_0_5_trains.append(Metrics.computeSIA(df_train.rating.values, predictions_train, 0.5))\n",
        "  y_sia_0_25_trains.append(Metrics.computeSIA(df_train.rating.values, predictions_train, 0.25))\n",
        "\n",
        "  # make prediction using test data\n",
        "  predictions_test = MLP_model.predict([df_test[\"user index\"].values.astype(np.int), df_test[\"movie index\"].values.astype(np.int)])\n",
        "\n",
        "  y_mae_tests.append(Metrics.computeMAE(df_test.rating.values, predictions_test))\n",
        "  y_mse_tests.append(Metrics.computeMSE(df_test.rating.values, predictions_test))\n",
        "  y_sia_1_tests.append(Metrics.computeSIA(df_test.rating.values, predictions_test, 1))\n",
        "  y_sia_0_5_tests.append(Metrics.computeSIA(df_test.rating.values, predictions_test, 0.5))\n",
        "  y_sia_0_25_tests.append(Metrics.computeSIA(df_test.rating.values, predictions_test, 0.25))\n",
        "\n",
        "  i = i + 1\n",
        "\n",
        "\n",
        "\n"
      ],
      "metadata": {
        "colab": {
          "base_uri": "https://localhost:8080/"
        },
        "id": "2Aj9J_3Bztrw",
        "outputId": "bf637e6c-8422-4eae-b529-835099db9c49"
      },
      "execution_count": null,
      "outputs": [
        {
          "output_type": "stream",
          "name": "stderr",
          "text": [
            "100%|██████████| 4/4 [00:35<00:00,  8.90s/it]\n"
          ]
        }
      ]
    },
    {
      "cell_type": "code",
      "source": [
        "X_label = [\"glorot normal\", \"glorot uniform\", \"he normal\", \"he uniform\"]\n",
        "\n",
        "plt.scatter(X_label, y_mae_trains)\n",
        "plt.scatter(X_label, y_mae_tests, color=\"orange\")\n",
        "plt.xlabel(\"kernel\")\n",
        "plt.ylabel(\"mae metric\")\n",
        "plt.show()\n",
        "\n",
        "plt.scatter(X_label, y_mse_trains)\n",
        "plt.scatter(X_label, y_mse_tests, color=\"orange\")\n",
        "plt.xlabel(\"kernel\")\n",
        "plt.ylabel(\"mse metric\")\n",
        "plt.show()\n",
        "\n",
        "plt.scatter(X_label, y_sia_1_trains)\n",
        "plt.scatter(X_label, y_sia_1_tests, color=\"orange\")\n",
        "plt.xlabel(\"kernel\")\n",
        "plt.ylabel(\"sia_1 metric\")\n",
        "plt.show()\n",
        "\n",
        "plt.scatter(X_label, y_sia_0_5_trains)\n",
        "plt.scatter(X_label, y_sia_0_5_tests, color=\"orange\")\n",
        "plt.xlabel(\"kernel\")\n",
        "plt.ylabel(\"sia_0.5 metric\")\n",
        "plt.show()\n",
        "\n",
        "plt.scatter(X_label, y_sia_0_25_trains)\n",
        "plt.scatter(X_label, y_sia_0_25_tests, color=\"orange\")\n",
        "plt.xlabel(\"kernel\")\n",
        "plt.ylabel(\"sia_0.25 metric\")\n",
        "plt.show()\n",
        "\n"
      ],
      "metadata": {
        "colab": {
          "base_uri": "https://localhost:8080/",
          "height": 1000
        },
        "id": "Hm62eNO30Utq",
        "outputId": "f191df84-071a-4c01-b4dd-892134a5d1d2"
      },
      "execution_count": null,
      "outputs": [
        {
          "output_type": "display_data",
          "data": {
            "image/png": "[encoded data removed]",
            "text/plain": [
              "<Figure size 432x288 with 1 Axes>"
            ]
          },
          "metadata": {
            "needs_background": "light"
          }
        },
        {
          "output_type": "display_data",
          "data": {
            "image/png": "[encoded data removed]",
            "text/plain": [
              "<Figure size 432x288 with 1 Axes>"
            ]
          },
          "metadata": {
            "needs_background": "light"
          }
        },
        {
          "output_type": "display_data",
          "data": {
            "image/png": "[encoded data removed]",
            "text/plain": [
              "<Figure size 432x288 with 1 Axes>"
            ]
          },
          "metadata": {
            "needs_background": "light"
          }
        },
        {
          "output_type": "display_data",
          "data": {
            "image/png": "[encoded data removed]",
            "text/plain": [
              "<Figure size 432x288 with 1 Axes>"
            ]
          },
          "metadata": {
            "needs_background": "light"
          }
        },
        {
          "output_type": "display_data",
          "data": {
            "image/png": "[encoded data removed]",
            "text/plain": [
              "<Figure size 432x288 with 1 Axes>"
            ]
          },
          "metadata": {
            "needs_background": "light"
          }
        }
      ]
    },
    {
      "cell_type": "code",
      "source": [
        "print(y_mae_trains)\n",
        "print(y_mse_trains)\n",
        "print(y_sia_1_trains)\n",
        "print(y_sia_0_5_trains)\n",
        "print(y_sia_0_25_trains)\n",
        "\n",
        "print(y_mae_tests)\n",
        "print(y_mse_tests)\n",
        "print(y_sia_1_tests)\n",
        "print(y_sia_0_5_tests)\n",
        "print(y_sia_0_25_tests)"
      ],
      "metadata": {
        "colab": {
          "base_uri": "https://localhost:8080/"
        },
        "id": "uPp2ciA0fWC0",
        "outputId": "ca933da7-32d9-439b-fe75-adda8646453d"
      },
      "execution_count": null,
      "outputs": [
        {
          "output_type": "stream",
          "name": "stdout",
          "text": [
            "[array([0.64973983]), array([0.64246735]), array([0.60910296]), array([0.60475662])]\n",
            "[array([0.70557596]), array([0.70080615]), array([0.64822935]), array([0.6415972])]\n",
            "[0.7824677517390424, 0.7905450124940906, 0.8093604376308503, 0.8121699196326062]\n",
            "[0.4851219018032012, 0.4931181198081988, 0.5231579658269737, 0.5284122374552577]\n",
            "[0.25876950091173095, 0.2654555277909097, 0.2909569798068481, 0.2924967920578105]\n",
            "[array([0.733732], dtype=float32), array([0.7308293], dtype=float32), array([0.7216326], dtype=float32), array([0.72635764], dtype=float32)]\n",
            "[array([0.8920594], dtype=float32), array([0.89969504], dtype=float32), array([0.89101195], dtype=float32), array([0.90433294], dtype=float32)]\n",
            "[0.7283483710627262, 0.7344535091036792, 0.7389378140364147, 0.7379653141714841]\n",
            "[0.43773299475930627, 0.4414068831379329, 0.45140202063860824, 0.44859257658436436]\n",
            "[0.22880760711005457, 0.23399427305635095, 0.24280079961100007, 0.2413420498136042]\n"
          ]
        }
      ]
    },
    {
      "cell_type": "code",
      "source": [
        "def get_NeuMF_model(num_users, num_items, MF_dim, MF_reg, MLP_layers, MLP_regs, kernel):\n",
        "    assert len(MLP_layers) == len(MLP_regs)\n",
        "    num_MLP_layer = len(MLP_layers) # Number of layers in the MLP\n",
        "    # Input variables\n",
        "    user_input = Input(shape=(1,), dtype='int32', name='user_input')\n",
        "    item_input = Input(shape=(1,), dtype='int32', name='item_input')\n",
        "\n",
        "    # Embedding layer\n",
        "    \n",
        "    # MF\n",
        "    MF_Embedding_User = Embedding(\n",
        "        input_dim=num_users + 1,\n",
        "        output_dim=MF_dim,\n",
        "        embeddings_initializer='uniform',\n",
        "        name='mf_user_embedding',\n",
        "        embeddings_regularizer=l2(MF_reg[0]),\n",
        "        input_length=1)\n",
        "    MF_Embedding_Item = Embedding(\n",
        "        input_dim=num_items + 1,\n",
        "        output_dim=MF_dim,\n",
        "        embeddings_initializer='uniform',\n",
        "        name='mf_item_embedding',\n",
        "        embeddings_regularizer=l2(MF_reg[1]),\n",
        "        input_length=1)\n",
        "    \n",
        "    # MLP\n",
        "    MLP_Embedding_User = Embedding(\n",
        "        input_dim=num_users + 1,\n",
        "        output_dim=MLP_layers[0] // 2,\n",
        "        embeddings_initializer='uniform',\n",
        "        name='mlp_user_embedding',\n",
        "        embeddings_regularizer=l2(MLP_regs[0]),\n",
        "        input_length=1)\n",
        "    MLP_Embedding_Item = Embedding(\n",
        "        input_dim=num_items + 1,\n",
        "        output_dim=MLP_layers[0] // 2,\n",
        "        embeddings_initializer='uniform',\n",
        "        name='mlp_item_embedding',\n",
        "        embeddings_regularizer=l2(MLP_regs[0]),\n",
        "        input_length=1) \n",
        "    # MF part\n",
        "    mf_user_latent = Flatten()(MF_Embedding_User(user_input))\n",
        "    mf_item_latent = Flatten()(MF_Embedding_Item(item_input))\n",
        "    mf_vector = Multiply()([mf_user_latent, mf_item_latent])\n",
        "\n",
        "    # MLP part\n",
        "    mlp_user_latent = Flatten()(MLP_Embedding_User(user_input))\n",
        "    mlp_item_latent = Flatten()(MLP_Embedding_Item(item_input))\n",
        "    mlp_vector = Concatenate(axis=-1)([mlp_user_latent, mlp_item_latent])\n",
        "    for idx in range(1, num_MLP_layer):\n",
        "        layer = Dense(\n",
        "            units=MLP_layers[idx],\n",
        "            activation='relu',\n",
        "            kernel_initializer=kernel,\n",
        "            kernel_regularizer=l2(MLP_regs[idx]),\n",
        "            name = 'layer%d' %idx)\n",
        "        mlp_vector = layer(mlp_vector)\n",
        "    # Concatenate MF and MLP parts\n",
        "    predict_vector = Concatenate(axis=-1)([mf_vector, mlp_vector])\n",
        "    prediction = Dense(1, kernel_initializer=kernel, name='prediction')(predict_vector)\n",
        "    \n",
        "    model = Model([user_input, item_input], prediction)\n",
        "    \n",
        "    return model"
      ],
      "metadata": {
        "id": "J-yieOJw_sYt"
      },
      "execution_count": null,
      "outputs": []
    },
    {
      "cell_type": "code",
      "source": [
        "BATCH_SIZE = 64\n",
        "EPOCHS = 30\n",
        "VAL_SPLIT = 0.25"
      ],
      "metadata": {
        "id": "AawRuORp1q_g"
      },
      "execution_count": null,
      "outputs": []
    },
    {
      "cell_type": "code",
      "source": [
        "filenames = [\"./drive/MyDrive/neumf_model_glorot_normal.hdf5\", \"./drive/MyDrive/neumf_model_glorot_uniform.hdf5\", \"./drive/MyDrive/neumf_model_he_normal.hdf5\", \"./drive/MyDrive/neumf_model_he_uniform.hdf5\"]\n",
        "i = 0\n",
        "\n",
        "for kernel in tqdm([GlorotNormal(), GlorotUniform(), HeNormal(), HeUniform()]):\n",
        "  NeuMF_model = get_NeuMF_model(\n",
        "    num_users=num_users,\n",
        "    num_items=num_items,\n",
        "    MF_dim=10,\n",
        "    MF_reg=(0, 0),\n",
        "    MLP_layers=[64, 32, 16, 8],\n",
        "    MLP_regs=[0, 0, 0, 0], kernel = kernel)\n",
        "  NeuMF_model.summary()\n",
        "  \n",
        "  history = train_model(NeuMF_model, 'adam', BATCH_SIZE, EPOCHS, VAL_SPLIT, \n",
        "                      [df_train[\"user index\"].values.astype(np.int), df_train[\"movie index\"].values.astype(np.int)],\n",
        "                      df_train.rating.values, filenames[i])\n",
        "  i = i + 1\n",
        "  plot_learning_curve(history, 'rmse')\n"
      ],
      "metadata": {
        "colab": {
          "base_uri": "https://localhost:8080/",
          "height": 1000
        },
        "id": "nBQ8vr_A1v4y",
        "outputId": "e13351fd-762d-4c34-8ea8-29889dc371b8"
      },
      "execution_count": null,
      "outputs": [
        {
          "output_type": "stream",
          "name": "stderr",
          "text": [
            "\r  0%|          | 0/4 [00:00<?, ?it/s]"
          ]
        },
        {
          "output_type": "stream",
          "name": "stdout",
          "text": [
            "Model: \"model_16\"\n",
            "__________________________________________________________________________________________________\n",
            " Layer (type)                   Output Shape         Param #     Connected to                     \n",
            "==================================================================================================\n",
            " user_input (InputLayer)        [(None, 1)]          0           []                               \n",
            "                                                                                                  \n",
            " item_input (InputLayer)        [(None, 1)]          0           []                               \n",
            "                                                                                                  \n",
            " mlp_user_embedding (Embedding)  (None, 1, 32)       44512       ['user_input[0][0]']             \n",
            "                                                                                                  \n",
            " mlp_item_embedding (Embedding)  (None, 1, 32)       267296      ['item_input[0][0]']             \n",
            "                                                                                                  \n",
            " flatten_34 (Flatten)           (None, 32)           0           ['mlp_user_embedding[0][0]']     \n",
            "                                                                                                  \n",
            " flatten_35 (Flatten)           (None, 32)           0           ['mlp_item_embedding[0][0]']     \n",
            "                                                                                                  \n",
            " concatenate_8 (Concatenate)    (None, 64)           0           ['flatten_34[0][0]',             \n",
            "                                                                  'flatten_35[0][0]']             \n",
            "                                                                                                  \n",
            " mf_user_embedding (Embedding)  (None, 1, 10)        13910       ['user_input[0][0]']             \n",
            "                                                                                                  \n",
            " mf_item_embedding (Embedding)  (None, 1, 10)        83530       ['item_input[0][0]']             \n",
            "                                                                                                  \n",
            " layer1 (Dense)                 (None, 32)           2080        ['concatenate_8[0][0]']          \n",
            "                                                                                                  \n",
            " flatten_32 (Flatten)           (None, 10)           0           ['mf_user_embedding[0][0]']      \n",
            "                                                                                                  \n",
            " flatten_33 (Flatten)           (None, 10)           0           ['mf_item_embedding[0][0]']      \n",
            "                                                                                                  \n",
            " layer2 (Dense)                 (None, 16)           528         ['layer1[0][0]']                 \n",
            "                                                                                                  \n",
            " multiply_8 (Multiply)          (None, 10)           0           ['flatten_32[0][0]',             \n",
            "                                                                  'flatten_33[0][0]']             \n",
            "                                                                                                  \n",
            " layer3 (Dense)                 (None, 8)            136         ['layer2[0][0]']                 \n",
            "                                                                                                  \n",
            " concatenate_9 (Concatenate)    (None, 18)           0           ['multiply_8[0][0]',             \n",
            "                                                                  'layer3[0][0]']                 \n",
            "                                                                                                  \n",
            " prediction (Dense)             (None, 1)            19          ['concatenate_9[0][0]']          \n",
            "                                                                                                  \n",
            "==================================================================================================\n",
            "Total params: 412,011\n",
            "Trainable params: 412,011\n",
            "Non-trainable params: 0\n",
            "__________________________________________________________________________________________________\n",
            "Epoch 1/30\n",
            "868/868 [==============================] - 8s 8ms/step - loss: 1.9675 - mean_squared_error: 1.9675 - rmse: 1.2371 - val_loss: 0.9173 - val_mean_squared_error: 0.9173 - val_rmse: 0.9539\n",
            "Epoch 2/30\n",
            "868/868 [==============================] - 6s 6ms/step - loss: 0.7926 - mean_squared_error: 0.7926 - rmse: 0.8857 - val_loss: 0.8693 - val_mean_squared_error: 0.8693 - val_rmse: 0.9278\n",
            "Epoch 3/30\n",
            "868/868 [==============================] - 5s 6ms/step - loss: 0.6068 - mean_squared_error: 0.6068 - rmse: 0.7745 - val_loss: 0.9067 - val_mean_squared_error: 0.9067 - val_rmse: 0.9466\n",
            "Epoch 4/30\n",
            "868/868 [==============================] - 5s 6ms/step - loss: 0.3731 - mean_squared_error: 0.3731 - rmse: 0.6061 - val_loss: 1.0023 - val_mean_squared_error: 1.0023 - val_rmse: 0.9962\n",
            "Epoch 5/30\n",
            "868/868 [==============================] - 5s 6ms/step - loss: 0.2294 - mean_squared_error: 0.2294 - rmse: 0.4741 - val_loss: 1.0395 - val_mean_squared_error: 1.0395 - val_rmse: 1.0133\n",
            "Epoch 6/30\n",
            "868/868 [==============================] - 5s 6ms/step - loss: 0.1515 - mean_squared_error: 0.1515 - rmse: 0.3848 - val_loss: 1.1001 - val_mean_squared_error: 1.1001 - val_rmse: 1.0425\n",
            "Epoch 7/30\n",
            "868/868 [==============================] - 5s 6ms/step - loss: 0.1063 - mean_squared_error: 0.1063 - rmse: 0.3220 - val_loss: 1.1464 - val_mean_squared_error: 1.1464 - val_rmse: 1.0644\n",
            "Epoch 8/30\n",
            "868/868 [==============================] - 5s 6ms/step - loss: 0.0804 - mean_squared_error: 0.0804 - rmse: 0.2803 - val_loss: 1.1666 - val_mean_squared_error: 1.1666 - val_rmse: 1.0735\n",
            "Epoch 9/30\n",
            "868/868 [==============================] - 5s 6ms/step - loss: 0.0642 - mean_squared_error: 0.0642 - rmse: 0.2506 - val_loss: 1.1964 - val_mean_squared_error: 1.1964 - val_rmse: 1.0874\n",
            "Epoch 10/30\n",
            "868/868 [==============================] - 5s 6ms/step - loss: 0.0531 - mean_squared_error: 0.0531 - rmse: 0.2283 - val_loss: 1.2118 - val_mean_squared_error: 1.2118 - val_rmse: 1.0940\n",
            "Epoch 11/30\n",
            "868/868 [==============================] - 6s 6ms/step - loss: 0.0460 - mean_squared_error: 0.0460 - rmse: 0.2126 - val_loss: 1.2202 - val_mean_squared_error: 1.2202 - val_rmse: 1.0979\n",
            "Epoch 12/30\n",
            "868/868 [==============================] - 6s 6ms/step - loss: 0.0399 - mean_squared_error: 0.0399 - rmse: 0.1980 - val_loss: 1.2370 - val_mean_squared_error: 1.2370 - val_rmse: 1.1054\n",
            "Epoch 00012: early stopping\n"
          ]
        },
        {
          "output_type": "display_data",
          "data": {
            "image/png": "[encoded data removed]",
            "text/plain": [
              "<Figure size 864x504 with 1 Axes>"
            ]
          },
          "metadata": {
            "needs_background": "light"
          }
        },
        {
          "output_type": "stream",
          "name": "stderr",
          "text": [
            "\r 25%|██▌       | 1/4 [01:05<03:17, 65.92s/it]"
          ]
        },
        {
          "output_type": "stream",
          "name": "stdout",
          "text": [
            "Model: \"model_17\"\n",
            "__________________________________________________________________________________________________\n",
            " Layer (type)                   Output Shape         Param #     Connected to                     \n",
            "==================================================================================================\n",
            " user_input (InputLayer)        [(None, 1)]          0           []                               \n",
            "                                                                                                  \n",
            " item_input (InputLayer)        [(None, 1)]          0           []                               \n",
            "                                                                                                  \n",
            " mlp_user_embedding (Embedding)  (None, 1, 32)       44512       ['user_input[0][0]']             \n",
            "                                                                                                  \n",
            " mlp_item_embedding (Embedding)  (None, 1, 32)       267296      ['item_input[0][0]']             \n",
            "                                                                                                  \n",
            " flatten_38 (Flatten)           (None, 32)           0           ['mlp_user_embedding[0][0]']     \n",
            "                                                                                                  \n",
            " flatten_39 (Flatten)           (None, 32)           0           ['mlp_item_embedding[0][0]']     \n",
            "                                                                                                  \n",
            " concatenate_10 (Concatenate)   (None, 64)           0           ['flatten_38[0][0]',             \n",
            "                                                                  'flatten_39[0][0]']             \n",
            "                                                                                                  \n",
            " mf_user_embedding (Embedding)  (None, 1, 10)        13910       ['user_input[0][0]']             \n",
            "                                                                                                  \n",
            " mf_item_embedding (Embedding)  (None, 1, 10)        83530       ['item_input[0][0]']             \n",
            "                                                                                                  \n",
            " layer1 (Dense)                 (None, 32)           2080        ['concatenate_10[0][0]']         \n",
            "                                                                                                  \n",
            " flatten_36 (Flatten)           (None, 10)           0           ['mf_user_embedding[0][0]']      \n",
            "                                                                                                  \n",
            " flatten_37 (Flatten)           (None, 10)           0           ['mf_item_embedding[0][0]']      \n",
            "                                                                                                  \n",
            " layer2 (Dense)                 (None, 16)           528         ['layer1[0][0]']                 \n",
            "                                                                                                  \n",
            " multiply_9 (Multiply)          (None, 10)           0           ['flatten_36[0][0]',             \n",
            "                                                                  'flatten_37[0][0]']             \n",
            "                                                                                                  \n",
            " layer3 (Dense)                 (None, 8)            136         ['layer2[0][0]']                 \n",
            "                                                                                                  \n",
            " concatenate_11 (Concatenate)   (None, 18)           0           ['multiply_9[0][0]',             \n",
            "                                                                  'layer3[0][0]']                 \n",
            "                                                                                                  \n",
            " prediction (Dense)             (None, 1)            19          ['concatenate_11[0][0]']         \n",
            "                                                                                                  \n",
            "==================================================================================================\n",
            "Total params: 412,011\n",
            "Trainable params: 412,011\n",
            "Non-trainable params: 0\n",
            "__________________________________________________________________________________________________\n",
            "Epoch 1/30\n",
            "868/868 [==============================] - 7s 7ms/step - loss: 1.7946 - mean_squared_error: 1.7946 - rmse: 1.1920 - val_loss: 0.8991 - val_mean_squared_error: 0.8991 - val_rmse: 0.9438\n",
            "Epoch 2/30\n",
            "868/868 [==============================] - 5s 6ms/step - loss: 0.7916 - mean_squared_error: 0.7916 - rmse: 0.8851 - val_loss: 0.8715 - val_mean_squared_error: 0.8715 - val_rmse: 0.9291\n",
            "Epoch 3/30\n",
            "868/868 [==============================] - 5s 6ms/step - loss: 0.6071 - mean_squared_error: 0.6071 - rmse: 0.7747 - val_loss: 0.8993 - val_mean_squared_error: 0.8993 - val_rmse: 0.9435\n",
            "Epoch 4/30\n",
            "868/868 [==============================] - 6s 6ms/step - loss: 0.3795 - mean_squared_error: 0.3795 - rmse: 0.6112 - val_loss: 0.9824 - val_mean_squared_error: 0.9824 - val_rmse: 0.9863\n",
            "Epoch 5/30\n",
            "868/868 [==============================] - 5s 6ms/step - loss: 0.2337 - mean_squared_error: 0.2337 - rmse: 0.4791 - val_loss: 1.0544 - val_mean_squared_error: 1.0544 - val_rmse: 1.0217\n",
            "Epoch 6/30\n",
            "868/868 [==============================] - 5s 6ms/step - loss: 0.1518 - mean_squared_error: 0.1518 - rmse: 0.3849 - val_loss: 1.1031 - val_mean_squared_error: 1.1031 - val_rmse: 1.0445\n",
            "Epoch 7/30\n",
            "868/868 [==============================] - 6s 6ms/step - loss: 0.1040 - mean_squared_error: 0.1040 - rmse: 0.3185 - val_loss: 1.1404 - val_mean_squared_error: 1.1404 - val_rmse: 1.0623\n",
            "Epoch 8/30\n",
            "868/868 [==============================] - 5s 6ms/step - loss: 0.0763 - mean_squared_error: 0.0763 - rmse: 0.2731 - val_loss: 1.1728 - val_mean_squared_error: 1.1728 - val_rmse: 1.0770\n",
            "Epoch 9/30\n",
            "868/868 [==============================] - 6s 6ms/step - loss: 0.0600 - mean_squared_error: 0.0600 - rmse: 0.2422 - val_loss: 1.1994 - val_mean_squared_error: 1.1994 - val_rmse: 1.0894\n",
            "Epoch 10/30\n",
            "868/868 [==============================] - 5s 6ms/step - loss: 0.0500 - mean_squared_error: 0.0500 - rmse: 0.2216 - val_loss: 1.2039 - val_mean_squared_error: 1.2039 - val_rmse: 1.0911\n",
            "Epoch 11/30\n",
            "868/868 [==============================] - 6s 6ms/step - loss: 0.0430 - mean_squared_error: 0.0430 - rmse: 0.2056 - val_loss: 1.2164 - val_mean_squared_error: 1.2164 - val_rmse: 1.0970\n",
            "Epoch 12/30\n",
            "868/868 [==============================] - 5s 6ms/step - loss: 0.0379 - mean_squared_error: 0.0379 - rmse: 0.1932 - val_loss: 1.2227 - val_mean_squared_error: 1.2227 - val_rmse: 1.0998\n",
            "Epoch 00012: early stopping\n"
          ]
        },
        {
          "output_type": "display_data",
          "data": {
            "image/png": "[encoded data removed]",
            "text/plain": [
              "<Figure size 864x504 with 1 Axes>"
            ]
          },
          "metadata": {
            "needs_background": "light"
          }
        },
        {
          "output_type": "stream",
          "name": "stderr",
          "text": [
            "\r 50%|█████     | 2/4 [02:29<02:32, 76.20s/it]"
          ]
        },
        {
          "output_type": "stream",
          "name": "stdout",
          "text": [
            "Model: \"model_18\"\n",
            "__________________________________________________________________________________________________\n",
            " Layer (type)                   Output Shape         Param #     Connected to                     \n",
            "==================================================================================================\n",
            " user_input (InputLayer)        [(None, 1)]          0           []                               \n",
            "                                                                                                  \n",
            " item_input (InputLayer)        [(None, 1)]          0           []                               \n",
            "                                                                                                  \n",
            " mlp_user_embedding (Embedding)  (None, 1, 32)       44512       ['user_input[0][0]']             \n",
            "                                                                                                  \n",
            " mlp_item_embedding (Embedding)  (None, 1, 32)       267296      ['item_input[0][0]']             \n",
            "                                                                                                  \n",
            " flatten_42 (Flatten)           (None, 32)           0           ['mlp_user_embedding[0][0]']     \n",
            "                                                                                                  \n",
            " flatten_43 (Flatten)           (None, 32)           0           ['mlp_item_embedding[0][0]']     \n",
            "                                                                                                  \n",
            " concatenate_12 (Concatenate)   (None, 64)           0           ['flatten_42[0][0]',             \n",
            "                                                                  'flatten_43[0][0]']             \n",
            "                                                                                                  \n",
            " mf_user_embedding (Embedding)  (None, 1, 10)        13910       ['user_input[0][0]']             \n",
            "                                                                                                  \n",
            " mf_item_embedding (Embedding)  (None, 1, 10)        83530       ['item_input[0][0]']             \n",
            "                                                                                                  \n",
            " layer1 (Dense)                 (None, 32)           2080        ['concatenate_12[0][0]']         \n",
            "                                                                                                  \n",
            " flatten_40 (Flatten)           (None, 10)           0           ['mf_user_embedding[0][0]']      \n",
            "                                                                                                  \n",
            " flatten_41 (Flatten)           (None, 10)           0           ['mf_item_embedding[0][0]']      \n",
            "                                                                                                  \n",
            " layer2 (Dense)                 (None, 16)           528         ['layer1[0][0]']                 \n",
            "                                                                                                  \n",
            " multiply_10 (Multiply)         (None, 10)           0           ['flatten_40[0][0]',             \n",
            "                                                                  'flatten_41[0][0]']             \n",
            "                                                                                                  \n",
            " layer3 (Dense)                 (None, 8)            136         ['layer2[0][0]']                 \n",
            "                                                                                                  \n",
            " concatenate_13 (Concatenate)   (None, 18)           0           ['multiply_10[0][0]',            \n",
            "                                                                  'layer3[0][0]']                 \n",
            "                                                                                                  \n",
            " prediction (Dense)             (None, 1)            19          ['concatenate_13[0][0]']         \n",
            "                                                                                                  \n",
            "==================================================================================================\n",
            "Total params: 412,011\n",
            "Trainable params: 412,011\n",
            "Non-trainable params: 0\n",
            "__________________________________________________________________________________________________\n",
            "Epoch 1/30\n",
            "868/868 [==============================] - 7s 7ms/step - loss: 2.0946 - mean_squared_error: 2.0946 - rmse: 1.2627 - val_loss: 0.9041 - val_mean_squared_error: 0.9041 - val_rmse: 0.9465\n",
            "Epoch 2/30\n",
            "868/868 [==============================] - 5s 6ms/step - loss: 0.7899 - mean_squared_error: 0.7899 - rmse: 0.8843 - val_loss: 0.8754 - val_mean_squared_error: 0.8754 - val_rmse: 0.9311\n",
            "Epoch 3/30\n",
            "868/868 [==============================] - 5s 6ms/step - loss: 0.5969 - mean_squared_error: 0.5969 - rmse: 0.7680 - val_loss: 0.9118 - val_mean_squared_error: 0.9118 - val_rmse: 0.9496\n",
            "Epoch 4/30\n",
            "868/868 [==============================] - 5s 6ms/step - loss: 0.3548 - mean_squared_error: 0.3548 - rmse: 0.5913 - val_loss: 0.9875 - val_mean_squared_error: 0.9875 - val_rmse: 0.9884\n",
            "Epoch 5/30\n",
            "868/868 [==============================] - 5s 6ms/step - loss: 0.2059 - mean_squared_error: 0.2059 - rmse: 0.4495 - val_loss: 1.0495 - val_mean_squared_error: 1.0495 - val_rmse: 1.0189\n",
            "Epoch 6/30\n",
            "868/868 [==============================] - 5s 6ms/step - loss: 0.1262 - mean_squared_error: 0.1262 - rmse: 0.3513 - val_loss: 1.1069 - val_mean_squared_error: 1.1069 - val_rmse: 1.0463\n",
            "Epoch 7/30\n",
            "868/868 [==============================] - 5s 6ms/step - loss: 0.0847 - mean_squared_error: 0.0847 - rmse: 0.2877 - val_loss: 1.1301 - val_mean_squared_error: 1.1301 - val_rmse: 1.0569\n",
            "Epoch 8/30\n",
            "868/868 [==============================] - 5s 6ms/step - loss: 0.0628 - mean_squared_error: 0.0628 - rmse: 0.2482 - val_loss: 1.1580 - val_mean_squared_error: 1.1580 - val_rmse: 1.0702\n",
            "Epoch 9/30\n",
            "868/868 [==============================] - 5s 6ms/step - loss: 0.0516 - mean_squared_error: 0.0516 - rmse: 0.2252 - val_loss: 1.1743 - val_mean_squared_error: 1.1743 - val_rmse: 1.0778\n",
            "Epoch 10/30\n",
            "868/868 [==============================] - 5s 6ms/step - loss: 0.0444 - mean_squared_error: 0.0444 - rmse: 0.2093 - val_loss: 1.1948 - val_mean_squared_error: 1.1948 - val_rmse: 1.0868\n",
            "Epoch 11/30\n",
            "868/868 [==============================] - 5s 6ms/step - loss: 0.0393 - mean_squared_error: 0.0393 - rmse: 0.1969 - val_loss: 1.1927 - val_mean_squared_error: 1.1927 - val_rmse: 1.0858\n",
            "Epoch 12/30\n",
            "868/868 [==============================] - 5s 6ms/step - loss: 0.0356 - mean_squared_error: 0.0356 - rmse: 0.1875 - val_loss: 1.1918 - val_mean_squared_error: 1.1918 - val_rmse: 1.0856\n",
            "Epoch 00012: early stopping\n"
          ]
        },
        {
          "output_type": "display_data",
          "data": {
            "image/png": "[encoded data removed]",
            "text/plain": [
              "<Figure size 864x504 with 1 Axes>"
            ]
          },
          "metadata": {
            "needs_background": "light"
          }
        },
        {
          "output_type": "stream",
          "name": "stderr",
          "text": [
            "\r 75%|███████▌  | 3/4 [03:52<01:19, 79.47s/it]"
          ]
        },
        {
          "output_type": "stream",
          "name": "stdout",
          "text": [
            "Model: \"model_19\"\n",
            "__________________________________________________________________________________________________\n",
            " Layer (type)                   Output Shape         Param #     Connected to                     \n",
            "==================================================================================================\n",
            " user_input (InputLayer)        [(None, 1)]          0           []                               \n",
            "                                                                                                  \n",
            " item_input (InputLayer)        [(None, 1)]          0           []                               \n",
            "                                                                                                  \n",
            " mlp_user_embedding (Embedding)  (None, 1, 32)       44512       ['user_input[0][0]']             \n",
            "                                                                                                  \n",
            " mlp_item_embedding (Embedding)  (None, 1, 32)       267296      ['item_input[0][0]']             \n",
            "                                                                                                  \n",
            " flatten_46 (Flatten)           (None, 32)           0           ['mlp_user_embedding[0][0]']     \n",
            "                                                                                                  \n",
            " flatten_47 (Flatten)           (None, 32)           0           ['mlp_item_embedding[0][0]']     \n",
            "                                                                                                  \n",
            " concatenate_14 (Concatenate)   (None, 64)           0           ['flatten_46[0][0]',             \n",
            "                                                                  'flatten_47[0][0]']             \n",
            "                                                                                                  \n",
            " mf_user_embedding (Embedding)  (None, 1, 10)        13910       ['user_input[0][0]']             \n",
            "                                                                                                  \n",
            " mf_item_embedding (Embedding)  (None, 1, 10)        83530       ['item_input[0][0]']             \n",
            "                                                                                                  \n",
            " layer1 (Dense)                 (None, 32)           2080        ['concatenate_14[0][0]']         \n",
            "                                                                                                  \n",
            " flatten_44 (Flatten)           (None, 10)           0           ['mf_user_embedding[0][0]']      \n",
            "                                                                                                  \n",
            " flatten_45 (Flatten)           (None, 10)           0           ['mf_item_embedding[0][0]']      \n",
            "                                                                                                  \n",
            " layer2 (Dense)                 (None, 16)           528         ['layer1[0][0]']                 \n",
            "                                                                                                  \n",
            " multiply_11 (Multiply)         (None, 10)           0           ['flatten_44[0][0]',             \n",
            "                                                                  'flatten_45[0][0]']             \n",
            "                                                                                                  \n",
            " layer3 (Dense)                 (None, 8)            136         ['layer2[0][0]']                 \n",
            "                                                                                                  \n",
            " concatenate_15 (Concatenate)   (None, 18)           0           ['multiply_11[0][0]',            \n",
            "                                                                  'layer3[0][0]']                 \n",
            "                                                                                                  \n",
            " prediction (Dense)             (None, 1)            19          ['concatenate_15[0][0]']         \n",
            "                                                                                                  \n",
            "==================================================================================================\n",
            "Total params: 412,011\n",
            "Trainable params: 412,011\n",
            "Non-trainable params: 0\n",
            "__________________________________________________________________________________________________\n",
            "Epoch 1/30\n",
            "868/868 [==============================] - 7s 7ms/step - loss: 2.0929 - mean_squared_error: 2.0929 - rmse: 1.2632 - val_loss: 0.9013 - val_mean_squared_error: 0.9013 - val_rmse: 0.9450\n",
            "Epoch 2/30\n",
            "868/868 [==============================] - 5s 6ms/step - loss: 0.7948 - mean_squared_error: 0.7948 - rmse: 0.8873 - val_loss: 0.8701 - val_mean_squared_error: 0.8701 - val_rmse: 0.9281\n",
            "Epoch 3/30\n",
            "868/868 [==============================] - 5s 6ms/step - loss: 0.6073 - mean_squared_error: 0.6073 - rmse: 0.7752 - val_loss: 0.9105 - val_mean_squared_error: 0.9105 - val_rmse: 0.9498\n",
            "Epoch 4/30\n",
            "868/868 [==============================] - 5s 6ms/step - loss: 0.3716 - mean_squared_error: 0.3716 - rmse: 0.6054 - val_loss: 0.9814 - val_mean_squared_error: 0.9814 - val_rmse: 0.9856\n",
            "Epoch 5/30\n",
            "868/868 [==============================] - 5s 6ms/step - loss: 0.2226 - mean_squared_error: 0.2226 - rmse: 0.4670 - val_loss: 1.0463 - val_mean_squared_error: 1.0463 - val_rmse: 1.0176\n",
            "Epoch 6/30\n",
            "868/868 [==============================] - 5s 6ms/step - loss: 0.1428 - mean_squared_error: 0.1428 - rmse: 0.3734 - val_loss: 1.0976 - val_mean_squared_error: 1.0976 - val_rmse: 1.0418\n",
            "Epoch 7/30\n",
            "868/868 [==============================] - 5s 6ms/step - loss: 0.0990 - mean_squared_error: 0.0990 - rmse: 0.3106 - val_loss: 1.1457 - val_mean_squared_error: 1.1457 - val_rmse: 1.0647\n",
            "Epoch 8/30\n",
            "868/868 [==============================] - 5s 6ms/step - loss: 0.0738 - mean_squared_error: 0.0738 - rmse: 0.2686 - val_loss: 1.1647 - val_mean_squared_error: 1.1647 - val_rmse: 1.0735\n",
            "Epoch 9/30\n",
            "868/868 [==============================] - 5s 6ms/step - loss: 0.0595 - mean_squared_error: 0.0595 - rmse: 0.2416 - val_loss: 1.1866 - val_mean_squared_error: 1.1866 - val_rmse: 1.0832\n",
            "Epoch 10/30\n",
            "868/868 [==============================] - 6s 6ms/step - loss: 0.0498 - mean_squared_error: 0.0498 - rmse: 0.2210 - val_loss: 1.1982 - val_mean_squared_error: 1.1982 - val_rmse: 1.0886\n",
            "Epoch 11/30\n",
            "868/868 [==============================] - 6s 6ms/step - loss: 0.0428 - mean_squared_error: 0.0428 - rmse: 0.2052 - val_loss: 1.2094 - val_mean_squared_error: 1.2094 - val_rmse: 1.0937\n",
            "Epoch 12/30\n",
            "868/868 [==============================] - 5s 6ms/step - loss: 0.0378 - mean_squared_error: 0.0378 - rmse: 0.1930 - val_loss: 1.2141 - val_mean_squared_error: 1.2141 - val_rmse: 1.0959\n",
            "Epoch 00012: early stopping\n"
          ]
        },
        {
          "output_type": "display_data",
          "data": {
            "image/png": "[encoded data removed]",
            "text/plain": [
              "<Figure size 864x504 with 1 Axes>"
            ]
          },
          "metadata": {
            "needs_background": "light"
          }
        },
        {
          "output_type": "stream",
          "name": "stderr",
          "text": [
            "100%|██████████| 4/4 [05:16<00:00, 79.08s/it]\n"
          ]
        }
      ]
    },
    {
      "cell_type": "code",
      "source": [
        "y_mae_trains = []\n",
        "y_mse_trains = []\n",
        "y_sia_1_trains = []\n",
        "y_sia_0_5_trains = []\n",
        "y_sia_0_25_trains = []\n",
        "\n",
        "y_mae_tests = []\n",
        "y_mse_tests = []\n",
        "y_sia_1_tests = []\n",
        "y_sia_0_5_tests = []\n",
        "y_sia_0_25_tests = []"
      ],
      "metadata": {
        "id": "VEcnJgzZ2PSo"
      },
      "execution_count": null,
      "outputs": []
    },
    {
      "cell_type": "code",
      "source": [
        "# load best model\n",
        "filenames = [\"./drive/MyDrive/neumf_model_glorot_normal.hdf5\", \"./drive/MyDrive/neumf_model_glorot_uniform.hdf5\", \"./drive/MyDrive/neumf_model_he_normal.hdf5\", \"./drive/MyDrive/neumf_model_he_uniform.hdf5\"]\n",
        "i = 0\n",
        "\n",
        "for kernel in tqdm([GlorotNormal(), GlorotUniform(), HeNormal(), HeUniform()]):\n",
        "  NeuMF_model = get_NeuMF_model(\n",
        "    num_users=num_users,\n",
        "    num_items=num_items,\n",
        "    MF_dim=10,\n",
        "    MF_reg=(0, 0),\n",
        "    MLP_layers=[64, 32, 16, 8],\n",
        "    MLP_regs=[0, 0, 0, 0], kernel = kernel)\n",
        "  NeuMF_model = load_trained_model(NeuMF_model, filenames[i])\n",
        "\n",
        "  # make prediction using train data\n",
        "  predictions_train = NeuMF_model.predict([df_train[\"user index\"].values.astype(np.int), df_train[\"movie index\"].values.astype(np.int)])\n",
        "\n",
        "\n",
        "  y_mae_trains.append(Metrics.computeMAE(df_train.rating.values, predictions_train))\n",
        "  y_mse_trains.append(Metrics.computeMSE(df_train.rating.values, predictions_train))\n",
        "  y_sia_1_trains.append(Metrics.computeSIA(df_train.rating.values, predictions_train, 1))\n",
        "  y_sia_0_5_trains.append(Metrics.computeSIA(df_train.rating.values, predictions_train, 0.5))\n",
        "  y_sia_0_25_trains.append(Metrics.computeSIA(df_train.rating.values, predictions_train, 0.25))\n",
        "\n",
        "  # make prediction using test data\n",
        "  predictions_test = NeuMF_model.predict([df_test[\"user index\"].values.astype(np.int), df_test[\"movie index\"].values.astype(np.int)])\n",
        "\n",
        "\n",
        "  y_mae_tests.append(Metrics.computeMAE(df_test.rating.values, predictions_test))\n",
        "  y_mse_tests.append(Metrics.computeMSE(df_test.rating.values, predictions_test))\n",
        "  y_sia_1_tests.append(Metrics.computeSIA(df_test.rating.values, predictions_test, 1))\n",
        "  y_sia_0_5_tests.append(Metrics.computeSIA(df_test.rating.values, predictions_test, 0.5))\n",
        "  y_sia_0_25_tests.append(Metrics.computeSIA(df_test.rating.values, predictions_test, 0.25))\n",
        "\n",
        "\n",
        "  i = i + 1\n",
        "\n",
        "\n",
        "\n"
      ],
      "metadata": {
        "colab": {
          "base_uri": "https://localhost:8080/"
        },
        "id": "aILnVAX52gnM",
        "outputId": "730a1bc3-3b50-4cc1-d40d-f075398e14f6"
      },
      "execution_count": null,
      "outputs": [
        {
          "output_type": "stream",
          "name": "stderr",
          "text": [
            "100%|██████████| 4/4 [00:35<00:00,  8.87s/it]\n"
          ]
        }
      ]
    },
    {
      "cell_type": "code",
      "source": [
        "X_label = [\"glorot normal\", \"glorot uniform\", \"he normal\", \"he uniform\"]\n",
        "\n",
        "plt.scatter(X_label, y_mae_trains)\n",
        "plt.scatter(X_label, y_mae_tests, color=\"orange\")\n",
        "plt.xlabel(\"kernel\")\n",
        "plt.ylabel(\"mae metric\")\n",
        "plt.show()\n",
        "\n",
        "plt.scatter(X_label, y_mse_trains)\n",
        "plt.scatter(X_label, y_mse_tests, color=\"orange\")\n",
        "plt.xlabel(\"kernel\")\n",
        "plt.ylabel(\"mse metric\")\n",
        "plt.show()\n",
        "\n",
        "plt.scatter(X_label, y_sia_1_trains)\n",
        "plt.scatter(X_label, y_sia_1_tests, color=\"orange\")\n",
        "plt.xlabel(\"kernel\")\n",
        "plt.ylabel(\"sia_1 metric\")\n",
        "plt.show()\n",
        "\n",
        "plt.scatter(X_label, y_sia_0_5_trains)\n",
        "plt.scatter(X_label, y_sia_0_5_tests, color=\"orange\")\n",
        "plt.xlabel(\"kernel\")\n",
        "plt.ylabel(\"sia_0.5 metric\")\n",
        "plt.show()\n",
        "\n",
        "plt.scatter(X_label, y_sia_0_25_trains)\n",
        "plt.scatter(X_label, y_sia_0_25_tests, color=\"orange\")\n",
        "plt.xlabel(\"kernel\")\n",
        "plt.ylabel(\"sia_0.25 metric\")\n",
        "plt.show()\n",
        "\n"
      ],
      "metadata": {
        "colab": {
          "base_uri": "https://localhost:8080/",
          "height": 1000
        },
        "id": "FwwMiMqD3AdR",
        "outputId": "c3ec0093-8dc7-4a24-fcab-3403ce451603"
      },
      "execution_count": null,
      "outputs": [
        {
          "output_type": "display_data",
          "data": {
            "image/png": "[encoded data removed]",
            "text/plain": [
              "<Figure size 432x288 with 1 Axes>"
            ]
          },
          "metadata": {
            "needs_background": "light"
          }
        },
        {
          "output_type": "display_data",
          "data": {
            "image/png": "[encoded data removed]",
            "text/plain": [
              "<Figure size 432x288 with 1 Axes>"
            ]
          },
          "metadata": {
            "needs_background": "light"
          }
        },
        {
          "output_type": "display_data",
          "data": {
            "image/png": "[encoded data removed]",
            "text/plain": [
              "<Figure size 432x288 with 1 Axes>"
            ]
          },
          "metadata": {
            "needs_background": "light"
          }
        },
        {
          "output_type": "display_data",
          "data": {
            "image/png": "[encoded data removed]",
            "text/plain": [
              "<Figure size 432x288 with 1 Axes>"
            ]
          },
          "metadata": {
            "needs_background": "light"
          }
        },
        {
          "output_type": "display_data",
          "data": {
            "image/png": "[encoded data removed]",
            "text/plain": [
              "<Figure size 432x288 with 1 Axes>"
            ]
          },
          "metadata": {
            "needs_background": "light"
          }
        }
      ]
    },
    {
      "cell_type": "code",
      "source": [
        "print(y_mae_trains)\n",
        "print(y_mse_trains)\n",
        "print(y_sia_1_trains)\n",
        "print(y_sia_0_5_trains)\n",
        "print(y_sia_0_25_trains)\n",
        "\n",
        "print(y_mae_tests)\n",
        "print(y_mse_tests)\n",
        "print(y_sia_1_tests)\n",
        "print(y_sia_0_5_tests)\n",
        "print(y_sia_0_25_tests)"
      ],
      "metadata": {
        "colab": {
          "base_uri": "https://localhost:8080/"
        },
        "id": "Y9XyBnM8fTh8",
        "outputId": "1acf1f78-c677-45f6-91fa-5752c761919d"
      },
      "execution_count": null,
      "outputs": [
        {
          "output_type": "stream",
          "name": "stdout",
          "text": [
            "[array([0.62932465]), array([0.6336978]), array([0.6232494]), array([0.62479924])]\n",
            "[array([0.67453886]), array([0.67929226]), array([0.66453768]), array([0.67145332])]\n",
            "[0.7954751131221719, 0.792449517120281, 0.7995677719997298, 0.7998379144998987]\n",
            "[0.504153440940096, 0.5005740528128588, 0.509353684068346, 0.5110690889444182]\n",
            "[0.2754372931721483, 0.269804822043628, 0.27901668129938545, 0.27876004592422504]\n",
            "[array([0.73512655], dtype=float32), array([0.7381519], dtype=float32), array([0.73750496], dtype=float32), array([0.73307884], dtype=float32)]\n",
            "[array([0.89711213], dtype=float32), array([0.9016812], dtype=float32), array([0.9035202], dtype=float32), array([0.9028797], dtype=float32)]\n",
            "[0.7296990653195743, 0.7247825382246474, 0.7277540655897131, 0.7336430925495705]\n",
            "[0.4349235507050624, 0.43351882867794045, 0.43378896752931007, 0.4403803555027284]\n",
            "[0.2324814954886812, 0.22961802366416337, 0.2286455237992328, 0.23437246744826842]\n"
          ]
        }
      ]
    }
  ]
}