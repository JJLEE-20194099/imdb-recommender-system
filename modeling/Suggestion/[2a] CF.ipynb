{
 "cells": [
  {
   "cell_type": "code",
   "execution_count": 10,
   "metadata": {},
   "outputs": [],
   "source": [
    "from os import sep\n",
    "import pandas as pd;\n",
    "import numpy as np;\n",
    "from scipy import sparse;\n",
    "from sklearn.metrics.pairwise import cosine_similarity\n",
    "import matplotlib.pyplot as plt\n",
    "from sklearn.metrics import accuracy_score\n",
    "import os\n",
    "import math\n",
    "import seaborn as sns"
   ]
  },
  {
   "cell_type": "code",
   "execution_count": 11,
   "metadata": {},
   "outputs": [],
   "source": [
    "class collaborative_filering:\n",
    "    def __init__(self, Y, k_neighbors, distance_func=cosine_similarity, mode=1):\n",
    "        self.mode = mode;\n",
    "        if self.mode == 1:\n",
    "            self.Y = Y\n",
    "        else:\n",
    "            self.Y = Y[:, [1, 0, 2]]\n",
    "\n",
    "        self.k_neighbors = k_neighbors\n",
    "        self.distance_func = distance_func\n",
    "        self.Y_utility = None\n",
    "        self.no_users = 1390\n",
    "        self.no_movies = 8352\n",
    "\n",
    "    def insert(self, data):\n",
    "        self.Y = np.concatenate((self.Y, data), axis=0)\n",
    "\n",
    "    def normalize_data(self):\n",
    "        users = self.Y[:, 0]\n",
    "        self.Y_utility = self.Y.copy()\n",
    "        self.mean_user = np.zeros((self.no_users, ))\n",
    "        for i in range(self.no_users):\n",
    "            user_id_list = np.where(users == i)[0].astype(np.int32)\n",
    "            item_id_list = self.Y[user_id_list, 1]\n",
    "            rating_list = self.Y[user_id_list, 2]\n",
    "            if (len(rating_list) == 0):\n",
    "                m = 0\n",
    "            else:\n",
    "                m = np.mean(rating_list)\n",
    "                if np.isnan(m):\n",
    "                    m = 0\n",
    "            self.mean_user[i] = m\n",
    "            self.Y_utility[user_id_list, 2] = rating_list - self.mean_user[i]\n",
    "\n",
    "        self.Y_utility_sparse = sparse.coo_matrix((self.Y_utility[:, 2], (\n",
    "            self.Y_utility[:, 1], self.Y_utility[:, 0])),  (self.no_movies, self.no_users))\n",
    "        self.Y_utility_sparse = self.Y_utility_sparse.tocsr()\n",
    "\n",
    "    def cal_similarity(self):\n",
    "        self.similarity_matrix = self.distance_func(\n",
    "            self.Y_utility_sparse.T, self.Y_utility_sparse.T)\n",
    "\n",
    "    def refresh(self):\n",
    "        self.normalize_data()\n",
    "        self.cal_similarity()\n",
    "\n",
    "    def fit(self):\n",
    "        self.refresh()\n",
    "\n",
    "    def predict_utils(self, user, i):\n",
    "        user = int(user)\n",
    "        i = int(i)\n",
    "        user_id_list = np.where(self.Y[:, 1] == i)[0].astype(np.int32)\n",
    "        user_id_list = (self.Y[user_id_list, 0]).astype(np.int32)\n",
    "        similar = self.similarity_matrix[user, user_id_list]\n",
    "\n",
    "        k_user_id_nearest = np.argsort(similar)[-self.k_neighbors:]\n",
    "\n",
    "        k_simlilar_nearest = similar[k_user_id_nearest]\n",
    "\n",
    "        r = self.Y_utility_sparse[i, user_id_list[k_user_id_nearest]]\n",
    "\n",
    "        return (r * k_simlilar_nearest)[0] / (np.abs(k_simlilar_nearest).sum() + 1e-8) + self.mean_user[user]\n",
    "\n",
    "    def predict(self, user, i):\n",
    "\n",
    "        if self.mode:\n",
    "            return self.predict_utils(user, i)\n",
    "        return self.predict_utils(i, user)\n",
    "\n",
    "    def suggest(self, user):\n",
    "\n",
    "        row_id_list = np.where(self.Y[:, 0] == user)[0]\n",
    "        movie_list = self.Y[row_id_list, 1].tolist()\n",
    "\n",
    "        res = []\n",
    "\n",
    "        for i in range(self.no_movies):\n",
    "            if i not in movie_list:\n",
    "                rating = self.predict_utils(user, i)\n",
    "\n",
    "                # if rating > self.mean_user[user]:\n",
    "                #     res.append(i)\n",
    "                if rating >= 4.5:\n",
    "                    res.append(i)\n",
    "\n",
    "        return res\n",
    "\n",
    "    def print(self):\n",
    "        suggest_out_path = '../../result/CF_suggest.csv'\n",
    "        suggest_list = []\n",
    "        if self.mode == 0:\n",
    "            df = pd.DataFrame(columns=['movie index', 'user indexes'])\n",
    "            df['movie index'] = np.zeros(self.no_users)\n",
    "            df['user indexes'] = np.zeros(self.no_users)\n",
    "            for i in range(self.no_users):\n",
    "                res = self.suggest(i)\n",
    "                res = [str(i) for i in res]\n",
    "                suggest_list.append(\"|\".join(res))\n",
    "                # if self.mode:\n",
    "                #     print ('Recommend item(s):', res, 'to user', i)\n",
    "                # else:\n",
    "                #     print ('Recommend item', i, 'to user(s) : ', res)\n",
    "            df['user indexes'] = suggest_list\n",
    "            df['movie index'] = range(self.no_users)\n",
    "            df.to_csv(suggest_out_path, sep=',', index=False)\n"
   ]
  },
  {
   "cell_type": "code",
   "execution_count": 12,
   "metadata": {},
   "outputs": [],
   "source": [
    "class Metrics():\n",
    "    def computeMSE(y_true, y_pred):\n",
    "        return np.mean((y_true-y_pred)**2)\n",
    "\n",
    "    def computeMAE(y_true, y_pred):\n",
    "        return np.mean(np.abs(y_true-y_pred))\n",
    "\n",
    "    def computeSIA(y_true, y_pred, eps=1): \n",
    "        error = np.abs(y_true - y_pred)\n",
    "        bina = [1 if err <= eps else 0 for err in error]\n",
    "        res = np.mean(bina)\n",
    "        return res\n"
   ]
  },
  {
   "cell_type": "code",
   "execution_count": 13,
   "metadata": {},
   "outputs": [],
   "source": [
    "train_path = f'../../data/datasets/rating/kfold/u5.base.csv'\n",
    "test_path = f'../../data/datasets/rating/kfold/u5.test.csv'\n",
    "rating_train = pd.read_csv(train_path, sep=',', encoding='latin-1')[['user index', 'movie index', 'rating']].drop_duplicates(subset=['user index', 'movie index'], keep='first').values\n",
    "rating_test = pd.read_csv(test_path, sep=',', encoding='latin-1')[['user index', 'movie index', 'rating']].drop_duplicates(subset=['user index', 'movie index'], keep='first').values  "
   ]
  },
  {
   "cell_type": "code",
   "execution_count": 14,
   "metadata": {},
   "outputs": [],
   "source": [
    "CF_model = collaborative_filering(rating_train, k_neighbors=50, mode=1)\n",
    "CF_model.fit()\n",
    "no_tests = rating_test.shape[0]\n",
    "Y_predict = []\n",
    "for i in range(no_tests):\n",
    "    predict = CF_model.predict(rating_test[i, 0], rating_test[i, 1])\n",
    "    if (predict < 1):\n",
    "        predict = 1\n",
    "    if (predict > 5):\n",
    "        predict = 5\n",
    "\n",
    "    Y_predict.append(predict)"
   ]
  },
  {
   "cell_type": "code",
   "execution_count": 15,
   "metadata": {},
   "outputs": [],
   "source": [
    "X = [i for i in range(no_tests)]\n",
    "Y_true = rating_test[:, 2]"
   ]
  },
  {
   "cell_type": "code",
   "execution_count": 16,
   "metadata": {},
   "outputs": [
    {
     "name": "stdout",
     "output_type": "stream",
     "text": [
      "0.9818304489681672\n",
      "0.7259545674238763\n",
      "0.7607723436740845\n"
     ]
    }
   ],
   "source": [
    "print(Metrics.computeMSE(Y_true, Y_predict))\n",
    "print(Metrics.computeSIA(Y_true, Y_predict))\n",
    "print(Metrics.computeMAE(Y_true, Y_predict))"
   ]
  },
  {
   "cell_type": "code",
   "execution_count": 17,
   "metadata": {},
   "outputs": [
    {
     "name": "stderr",
     "output_type": "stream",
     "text": [
      "C:\\Users\\Pc\\AppData\\Roaming\\Python\\Python39\\site-packages\\seaborn\\distributions.py:2619: FutureWarning: `distplot` is a deprecated function and will be removed in a future version. Please adapt your code to use either `displot` (a figure-level function with similar flexibility) or `histplot` (an axes-level function for histograms).\n",
      "  warnings.warn(msg, FutureWarning)\n"
     ]
    },
    {
     "data": {
      "text/plain": [
       "<AxesSubplot:ylabel='Density'>"
      ]
     },
     "execution_count": 17,
     "metadata": {},
     "output_type": "execute_result"
    },
    {
     "data": {
      "image/png": "[encoded data removed]",
      "text/plain": [
       "<Figure size 432x288 with 1 Axes>"
      ]
     },
     "metadata": {
      "needs_background": "light"
     },
     "output_type": "display_data"
    }
   ],
   "source": [
    "sns.distplot(np.array(Y_true),)"
   ]
  },
  {
   "cell_type": "code",
   "execution_count": 18,
   "metadata": {},
   "outputs": [
    {
     "name": "stderr",
     "output_type": "stream",
     "text": [
      "C:\\Users\\Pc\\AppData\\Roaming\\Python\\Python39\\site-packages\\seaborn\\distributions.py:2619: FutureWarning: `distplot` is a deprecated function and will be removed in a future version. Please adapt your code to use either `displot` (a figure-level function with similar flexibility) or `histplot` (an axes-level function for histograms).\n",
      "  warnings.warn(msg, FutureWarning)\n"
     ]
    },
    {
     "data": {
      "text/plain": [
       "<AxesSubplot:ylabel='Density'>"
      ]
     },
     "execution_count": 18,
     "metadata": {},
     "output_type": "execute_result"
    },
    {
     "data": {
      "image/png": "[encoded data removed]",
      "text/plain": [
       "<Figure size 432x288 with 1 Axes>"
      ]
     },
     "metadata": {
      "needs_background": "light"
     },
     "output_type": "display_data"
    }
   ],
   "source": [
    "sns.distplot(np.array(Y_predict),)"
   ]
  }
 ],
 "metadata": {
  "interpreter": {
   "hash": "ac59ebe37160ed0dfa835113d9b8498d9f09ceb179beaac4002f036b9467c963"
  },
  "kernelspec": {
   "display_name": "Python 3.9.7 64-bit",
   "language": "python",
   "name": "python3"
  },
  "language_info": {
   "codemirror_mode": {
    "name": "ipython",
    "version": 3
   },
   "file_extension": ".py",
   "mimetype": "text/x-python",
   "name": "python",
   "nbconvert_exporter": "python",
   "pygments_lexer": "ipython3",
   "version": "3.9.7"
  },
  "orig_nbformat": 4
 },
 "nbformat": 4,
 "nbformat_minor": 2
}
