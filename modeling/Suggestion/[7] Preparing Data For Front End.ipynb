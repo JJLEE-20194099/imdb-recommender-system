{
 "cells": [
  {
   "cell_type": "code",
   "execution_count": 1,
   "metadata": {},
   "outputs": [],
   "source": [
    "import pandas as pd\n",
    "import imdb \n",
    "import numpy as np"
   ]
  },
  {
   "cell_type": "code",
   "execution_count": 2,
   "metadata": {},
   "outputs": [],
   "source": [
    "access = imdb.IMDb()"
   ]
  },
  {
   "cell_type": "code",
   "execution_count": null,
   "metadata": {},
   "outputs": [],
   "source": [
    "def get_image_by_movie_id(id):\n",
    "    id = id[2:]\n",
    "    movie = access.get_movie(id)\n",
    "    flag = 0\n",
    "    image_url = 'https://filmdaily.co/wp-content/uploads/2020/09/film-producers-lede.jpeg'\n",
    "    if (movie):\n",
    "        if ('cover url' in movie):\n",
    "            image_url = movie['cover url']\n",
    "            if (image_url):\n",
    "                image_url = image_url.replace('101', '500')\n",
    "                image_url = image_url.replace('150', '700')\n",
    "                flag = 1\n",
    "    return image_url        \n",
    "    \n"
   ]
  },
  {
   "cell_type": "code",
   "execution_count": null,
   "metadata": {},
   "outputs": [],
   "source": [
    "movies = pd.read_csv('../../data/datasets/movie/ml_detail.csv', sep=',', encoding='latin-1')\n",
    "image_urls = []\n",
    "for id in movies['movie id'].tolist():\n",
    "    image_urls.append(get_image_by_movie_id(id))"
   ]
  },
  {
   "cell_type": "code",
   "execution_count": 20,
   "metadata": {},
   "outputs": [],
   "source": [
    "URL = pd.DataFrame(columns=['id', 'url'])\n",
    "URL['id'] = np.arange(len(image_urls))\n",
    "URL['url'] = image_urls\n",
    "URL.to_csv('./url.csv', sep=',', encoding='latin-1', index=False)\n",
    "urls = pd.read_csv('../../data/datasets/movie/url.csv', sep=',', encoding='latin-1')\n",
    "movies['image_url'] = urls['url']"
   ]
  },
  {
   "cell_type": "code",
   "execution_count": 21,
   "metadata": {},
   "outputs": [],
   "source": [
    "movies.to_csv('../../data/datasets/movie/ml_detail.csv', sep=',', encoding='latin-1', index=False)"
   ]
  }
 ],
 "metadata": {
  "interpreter": {
   "hash": "ac59ebe37160ed0dfa835113d9b8498d9f09ceb179beaac4002f036b9467c963"
  },
  "kernelspec": {
   "display_name": "Python 3.9.7 64-bit",
   "language": "python",
   "name": "python3"
  },
  "language_info": {
   "codemirror_mode": {
    "name": "ipython",
    "version": 3
   },
   "file_extension": ".py",
   "mimetype": "text/x-python",
   "name": "python",
   "nbconvert_exporter": "python",
   "pygments_lexer": "ipython3",
   "version": "3.9.7"
  },
  "orig_nbformat": 4
 },
 "nbformat": 4,
 "nbformat_minor": 2
}
