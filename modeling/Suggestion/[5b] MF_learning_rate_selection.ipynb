{
 "cells": [
  {
   "cell_type": "code",
   "execution_count": 14,
   "metadata": {},
   "outputs": [],
   "source": [
    "import pandas as pd\n",
    "import numpy as np\n",
    "from scipy import sparse\n",
    "from sklearn.metrics.pairwise import cosine_similarity\n",
    "import os\n",
    "import matplotlib.pyplot as plt\n",
    "from tqdm import tqdm"
   ]
  },
  {
   "cell_type": "code",
   "execution_count": 7,
   "metadata": {},
   "outputs": [],
   "source": [
    "class MaxFactorization:\n",
    "    def __init__(self, Y, K, lam=0.1, X = None, W=None, learning_rate=0.5, max_iter=1000, print_every=100, user_based = 1):\n",
    "        self.Y_raw = Y\n",
    "        self.K = K\n",
    "        self.lam = lam\n",
    "        self.learning_rate = learning_rate\n",
    "        self.max_iter = max_iter\n",
    "        self.print_every = print_every\n",
    "        self.user_based = user_based\n",
    "        self.n_users =1390\n",
    "        self.n_items = 8352\n",
    "        self.n_ratings = Y.shape[0]\n",
    "\n",
    "        if X is None:\n",
    "            self.X = np.random.randn(self.n_items, K)\n",
    "        else:\n",
    "            self.X = X\n",
    "        \n",
    "        if W is None:\n",
    "            self.W =np.random.randn(K, self.n_users)\n",
    "        else:\n",
    "            self.W = W\n",
    "        \n",
    "        self.Y_normalize = self.Y_raw.copy()\n",
    "    \n",
    "    def normalize_Y(self):\n",
    "        if self.user_based:\n",
    "            user_col = 0\n",
    "            item_col = 1\n",
    "            n_objects = self.n_users\n",
    "        else:\n",
    "            user_col = 1\n",
    "            item_col = 0\n",
    "            n_objects = self.n_items\n",
    "        \n",
    "        users = self.Y_raw[:, user_col]\n",
    "        self.mean_users = np.zeros((n_objects,))\n",
    "\n",
    "        for user in range(n_objects):\n",
    "            ids = np.where(users == user)[0].astype(np.int32)\n",
    "            item_ids = self.Y_normalize[ids, item_col]\n",
    "            ratings = self.Y_normalize[ids, 2]\n",
    "\n",
    "            m = np.mean(ratings)\n",
    "\n",
    "            if np.isnan(m):\n",
    "                m = 0\n",
    "            self.mean_users[user] = m\n",
    "\n",
    "            self.Y_normalize[ids, 2] = ratings - self.mean_users[user]\n",
    "        \n",
    "\n",
    "    def loss(self):\n",
    "        L = 0\n",
    "        for i in range(self.n_ratings):\n",
    "            user, item, rating = [int(self.Y_normalize[i, 0]), int(self.Y_normalize[i, 1]), int(self.Y_normalize[i, 2])]\n",
    "            L += 0.5 * (rating - self.X[item, :].dot(self.W[:, user])) ** 2\n",
    "        \n",
    "        L /= self.n_ratings\n",
    "\n",
    "        L += 0.5*self.lam*(np.linalg.norm(self.X, 'fro') + np.linalg.norm(self.W, 'fro'))\n",
    "        return L\n",
    "\n",
    "\n",
    "\n",
    "    def get_items_rated_by_user(self, user_id):\n",
    "        ids = np.where(self.Y_normalize[:, 0] == user_id)[0]\n",
    "        item_ids = self.Y_normalize[ids, 1].astype(np.int32)\n",
    "        ratings = self.Y_normalize[ids, 2]\n",
    "        return (item_ids, ratings)\n",
    "    \n",
    "    def get_users_who_rate_item(self, item_id):\n",
    "        ids = np.where(self.Y_normalize[:, 1] == item_id)[0]\n",
    "        user_ids = self.Y_normalize[ids, 0].astype(np.int32)\n",
    "        ratings = self.Y_normalize[ids, 2]\n",
    "        return (user_ids, ratings)\n",
    "    \n",
    "    def updateX(self):\n",
    "        for item in range(self.n_items):\n",
    "            user_ids, ratings = self.get_users_who_rate_item(item)\n",
    "            W_item = self.W[:, user_ids]\n",
    "\n",
    "            grad_x = -(ratings - self.X[item, :].dot(W_item)).dot(W_item.T) / self.n_ratings + \\\n",
    "                self.lam * self.X[item, :]\n",
    "            self.X[item, :] -= self.learning_rate * grad_x.reshape((self.K,))\n",
    "\n",
    "    def updateW(self):\n",
    "        for user in range(self.n_users): \n",
    "            item_ids, ratings = self.get_items_rated_by_user(user)\n",
    "            X_user = self.X[item_ids, :]\n",
    "\n",
    "            grad_w = -X_user.T.dot(ratings - X_user.dot(self.W[:, user])) / self.n_ratings + \\\n",
    "                self.lam * self.W[:, user]\n",
    "            \n",
    "            self.W[:, user] -= self.learning_rate*grad_w.reshape((self.K, ))\n",
    "    \n",
    "    def fit(self):\n",
    "        self.normalize_Y()\n",
    "        for it in range(self.max_iter):\n",
    "            self.updateX()\n",
    "            self.updateW()\n",
    "            if (it + 1) % self.print_every == 0:\n",
    "                rmse_train = self.evaluate_RMSE(self.Y_raw)\n",
    "                print('iter =', it + 1, ', loss =', self.loss(), ', RMSE train =', rmse_train)\n",
    "            \n",
    "    def pred(self, u, i):\n",
    "        u = int(u)\n",
    "        i = int(i)\n",
    "\n",
    "        if self.user_based:\n",
    "            bias = self.mean_users[u]\n",
    "        else:\n",
    "            bias = self.mean_users[i]\n",
    "\n",
    "\n",
    "        pred = self.X[i, :].dot(self.W[:, u]) +  bias   \n",
    "\n",
    "        if pred < 0:\n",
    "            return 0\n",
    "        if pred > 5:\n",
    "            return 5\n",
    "        return pred\n",
    "    \n",
    "    def pred_for_user(self, user_id):\n",
    "        ids = np.where(self.Y_normalize[:, 0] == user_id)[0]\n",
    "        items_rated_by_u = self.Y_normalize[ids, 1].tolist()\n",
    "        y_pred = self.X.dot(self.W[:, user_id]) + self.mean_users[user_id]\n",
    "        \n",
    "        predicted_ratings = []\n",
    "        for i in range(self.n_items):\n",
    "            if i not in items_rated_by_u:\n",
    "                predicted_ratings.append((i, y_pred[i]))\n",
    "        \n",
    "        return predicted_ratings\n",
    "    \n",
    "    def evaluate_RMSE(self, rate_test):\n",
    "        n_tests = rate_test.shape[0]\n",
    "        SE = 0\n",
    "        for n in range(n_tests):\n",
    "            pred = self.pred(rate_test[n, 0], rate_test[n, 1])\n",
    "            SE += (pred - rate_test[n, 2]) ** 2\n",
    "        \n",
    "        RMSE = np.sqrt(SE/n_tests)\n",
    "        return RMSE\n",
    "    def pred_all(self, rate_test):\n",
    "        res = []\n",
    "        test = []\n",
    "        n_tests = rate_test.shape[0]\n",
    "        for n in range(n_tests):\n",
    "            pred = self.pred(rate_test[n, 0], rate_test[n, 1])\n",
    "            res.append(pred)\n",
    "            test.append(rate_test[n, 2])\n",
    "        return [res, test]"
   ]
  },
  {
   "cell_type": "code",
   "execution_count": 8,
   "metadata": {},
   "outputs": [],
   "source": [
    "class Metrics():\n",
    "    def computeMSE(y_true, y_pred):\n",
    "        return np.mean((y_true-y_pred)**2)\n",
    "\n",
    "    def computeMAE(y_true, y_pred):\n",
    "        return np.mean(np.abs(y_true-y_pred))\n",
    "\n",
    "    def computeSIA(y_true, y_pred, eps=1): \n",
    "        error = np.abs(y_true - y_pred)\n",
    "        bina = 0\n",
    "        for err in error:\n",
    "            if (err <= eps):\n",
    "                bina += 1\n",
    "        return bina/len(y_true)"
   ]
  },
  {
   "cell_type": "code",
   "execution_count": 9,
   "metadata": {},
   "outputs": [],
   "source": [
    "avg_mae_tests = []\n",
    "avg_mse_tests = []\n",
    "avg_rmse_tests = []\n",
    "avg_sia_1_tests = []\n",
    "avg_sia_0_5_tests = []\n",
    "avg_sia_0_25_tests = []\n",
    "\n",
    "avg_mae_trains = []\n",
    "avg_mse_trains = []\n",
    "avg_rmse_trains = []\n",
    "avg_sia_1_trains = []\n",
    "avg_sia_0_5_trains = []\n",
    "avg_sia_0_25_trains = []"
   ]
  },
  {
   "cell_type": "code",
   "execution_count": null,
   "metadata": {},
   "outputs": [],
   "source": [
    "learning_rates = [0.1, 0.25, 0.5, 0.75, 1, 2]\n",
    "\n",
    "for rate in tqdm(learning_rates):\n",
    "\n",
    "    avg_mae_test = 0\n",
    "    avg_mse_test = 0\n",
    "    avg_rmse_test = 0\n",
    "    avg_sia_1_test = 0\n",
    "    avg_sia_0_5_test = 0\n",
    "    avg_sia_0_25_test = 0\n",
    "\n",
    "    avg_mae_train = 0\n",
    "    avg_mse_train = 0\n",
    "    avg_rmse_train = 0\n",
    "    avg_sia_1_train = 0\n",
    "    avg_sia_0_5_train = 0\n",
    "    avg_sia_0_25_train = 0\n",
    "\n",
    "    for i in range(1, 6):\n",
    "        train_path = f'../../data/datasets/rating/kfold/u{i}.base.csv'\n",
    "        test_path = f'../../data/datasets/rating/kfold/u{i}.test.csv'\n",
    "        rate_train = pd.read_csv(train_path, sep=',', encoding='latin-1')[['user index', 'movie index', 'rating']].drop_duplicates(subset=['user index', 'movie index'], keep='first').values\n",
    "        rate_test = pd.read_csv(test_path, sep=',', encoding='latin-1')[['user index', 'movie index', 'rating']].drop_duplicates(subset=['user index', 'movie index'], keep='first').values\n",
    "    \n",
    "        rs = MaxFactorization(rate_train, K = 10, lam=0.5, print_every=10, learning_rate=rate, max_iter=100, user_based=1)\n",
    "        rs.fit()\n",
    "        Y_predict_test, Y_true_test = rs.pred_all(rate_test)\n",
    "        Y_predict_test = np.array(Y_predict_test)\n",
    "        Y_true_test = np.array(Y_true_test)\n",
    "\n",
    "        Y_predict_train, Y_true_train = rs.pred_all(rate_train)\n",
    "        Y_predict_train = np.array(Y_predict_train)\n",
    "        Y_true_train = np.array(Y_true_train)\n",
    "\n",
    "        #Compute RMSE metrics\n",
    "        RMSE = rs.evaluate_RMSE(rate_test)\n",
    "        avg_rmse_test += RMSE\n",
    "\n",
    "        #Compute MAE metrics\n",
    "        mae_test = Metrics.computeMAE(Y_true_test, Y_predict_test)\n",
    "        avg_mae_test += mae_test\n",
    "\n",
    "        #Compute MSE metrics\n",
    "        mse_test = Metrics.computeMSE(Y_true_test, Y_predict_test)\n",
    "        avg_mse_test += mse_test\n",
    "\n",
    "        #Compute SIA metrics\n",
    "        sia_test_1 = Metrics.computeSIA(Y_true_test, Y_predict_test, 1)\n",
    "        avg_sia_1_test += sia_test_1\n",
    "\n",
    "        sia_test_0_5 = Metrics.computeSIA(Y_true_test, Y_predict_test, 0.5)\n",
    "        avg_sia_0_5_test += sia_test_0_5\n",
    "\n",
    "        sia_test_0_25 = Metrics.computeSIA(Y_true_test, Y_predict_test, 0.25)\n",
    "        avg_sia_0_25_test += sia_test_0_25\n",
    "\n",
    "\n",
    "        #Compute RMSE metrics\n",
    "        RMSE = rs.evaluate_RMSE(rate_train)\n",
    "        avg_rmse_train += RMSE\n",
    "\n",
    "        #Compute MAE metrics\n",
    "        mae_train = Metrics.computeMAE(Y_true_train, Y_predict_train)\n",
    "        avg_mae_train += mae_train\n",
    "\n",
    "        #Compute MSE metrics\n",
    "        mse_train = Metrics.computeMSE(Y_true_train, Y_predict_train)\n",
    "        avg_mse_train += mse_train\n",
    "\n",
    "        #Compute SIA metrics\n",
    "        sia_train_1 = Metrics.computeSIA(Y_true_train, Y_predict_train, 1)\n",
    "        avg_sia_1_train += sia_train_1\n",
    "\n",
    "        sia_train_0_5 = Metrics.computeSIA(Y_true_train, Y_predict_train, 0.5)\n",
    "        avg_sia_0_5_train += sia_train_0_5\n",
    "\n",
    "        sia_train_0_25 = Metrics.computeSIA(Y_true_train, Y_predict_train, 0.25)\n",
    "        avg_sia_0_25_train += sia_train_0_25\n",
    "\n",
    "    avg_mae_trains.append(avg_mae_train / 5)\n",
    "    avg_mse_trains.append(avg_mse_train / 5)\n",
    "    avg_sia_1_trains.append(avg_sia_1_train / 5)\n",
    "    avg_sia_0_5_trains.append(avg_sia_0_5_train / 5)\n",
    "    avg_sia_0_25_trains.append(avg_sia_0_25_train / 5)\n",
    "\n",
    "    avg_mae_tests.append(avg_mae_test / 5)\n",
    "    avg_mse_tests.append(avg_mse_test / 5)\n",
    "    avg_sia_1_tests.append(avg_sia_1_test / 5)\n",
    "    avg_sia_0_5_tests.append(avg_sia_0_5_test / 5)\n",
    "    avg_sia_0_25_tests.append(avg_sia_0_25_test / 5)"
   ]
  },
  {
   "cell_type": "code",
   "execution_count": 16,
   "metadata": {},
   "outputs": [],
   "source": [
    "X = [0.1, 0.25, 0.5, 0.75, 1, 2]"
   ]
  },
  {
   "cell_type": "code",
   "execution_count": 35,
   "metadata": {},
   "outputs": [
    {
     "data": {
      "image/png": "[encoded data removed]",
      "text/plain": [
       "<Figure size 432x288 with 1 Axes>"
      ]
     },
     "metadata": {
      "needs_background": "light"
     },
     "output_type": "display_data"
    }
   ],
   "source": [
    "plt.scatter(X, avg_mae_trains)\n",
    "plt.plot(X, avg_mae_tests, color=\"orange\", marker=\"o\")\n",
    "plt.xlabel(\"learning rate\")\n",
    "plt.ylabel(\"mae metric\")\n",
    "plt.savefig('../../result/images/MF/learning_rate/mae.png')"
   ]
  },
  {
   "cell_type": "code",
   "execution_count": 34,
   "metadata": {},
   "outputs": [
    {
     "data": {
      "image/png": "[encoded data removed]",
      "text/plain": [
       "<Figure size 432x288 with 1 Axes>"
      ]
     },
     "metadata": {
      "needs_background": "light"
     },
     "output_type": "display_data"
    }
   ],
   "source": [
    "plt.scatter(X, avg_mse_trains)\n",
    "plt.plot(X, avg_mse_tests, color=\"orange\", marker=\"o\")\n",
    "plt.xlabel(\"learning rate\")\n",
    "plt.savefig('../../result/images/MF/learning_rate/mse.png')"
   ]
  },
  {
   "cell_type": "code",
   "execution_count": 33,
   "metadata": {},
   "outputs": [
    {
     "data": {
      "image/png": "[encoded data removed]",
      "text/plain": [
       "<Figure size 432x288 with 1 Axes>"
      ]
     },
     "metadata": {
      "needs_background": "light"
     },
     "output_type": "display_data"
    }
   ],
   "source": [
    "plt.scatter(X, avg_sia_1_trains, c=[])\n",
    "plt.plot(X, avg_sia_1_tests, color=\"orange\", marker=\"o\")\n",
    "plt.xlabel(\"learning rate\")\n",
    "plt.ylabel(\"sia ep=1 metric\")\n",
    "plt.savefig('../../result/images/MF/learning_rate/sia_1.png')"
   ]
  },
  {
   "cell_type": "code",
   "execution_count": 32,
   "metadata": {},
   "outputs": [
    {
     "data": {
      "image/png": "[encoded data removed]",
      "text/plain": [
       "<Figure size 432x288 with 1 Axes>"
      ]
     },
     "metadata": {
      "needs_background": "light"
     },
     "output_type": "display_data"
    }
   ],
   "source": [
    "plt.scatter(X, avg_sia_0_5_trains)\n",
    "plt.plot(X, avg_sia_0_5_tests, color=\"orange\", marker=\"o\")\n",
    "plt.xlabel(\"learning rate\")\n",
    "plt.ylabel(\"sia ep=0.5 metric\")\n",
    "plt.savefig('../../result/images/MF/learning_rate/sia_0_5.png')"
   ]
  },
  {
   "cell_type": "code",
   "execution_count": 31,
   "metadata": {},
   "outputs": [
    {
     "data": {
      "image/png": "[encoded data removed]",
      "text/plain": [
       "<Figure size 432x288 with 1 Axes>"
      ]
     },
     "metadata": {
      "needs_background": "light"
     },
     "output_type": "display_data"
    }
   ],
   "source": [
    "plt.scatter(X, avg_sia_0_25_trains)\n",
    "plt.plot(X, avg_sia_0_25_tests, color=\"orange\", marker=\"o\")\n",
    "plt.xlabel(\"learning rate\")\n",
    "plt.ylabel(\"sia ep=0.25 metric\")\n",
    "plt.savefig('../../result/images/MF/learning_rate/sia_0_25.png')"
   ]
  }
 ],
 "metadata": {
  "interpreter": {
   "hash": "ac59ebe37160ed0dfa835113d9b8498d9f09ceb179beaac4002f036b9467c963"
  },
  "kernelspec": {
   "display_name": "Python 3.9.7 64-bit",
   "language": "python",
   "name": "python3"
  },
  "language_info": {
   "codemirror_mode": {
    "name": "ipython",
    "version": 3
   },
   "file_extension": ".py",
   "mimetype": "text/x-python",
   "name": "python",
   "nbconvert_exporter": "python",
   "pygments_lexer": "ipython3",
   "version": "3.9.7"
  },
  "orig_nbformat": 4
 },
 "nbformat": 4,
 "nbformat_minor": 2
}
