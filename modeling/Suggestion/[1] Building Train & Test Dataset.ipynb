{
 "cells": [
  {
   "cell_type": "code",
   "execution_count": 1,
   "metadata": {},
   "outputs": [],
   "source": [
    "import pandas as pd \n",
    "import seaborn as sns\n",
    "import numpy as np\n",
    "import os"
   ]
  },
  {
   "cell_type": "code",
   "execution_count": 2,
   "metadata": {},
   "outputs": [],
   "source": [
    "ratings = pd.read_csv('../../data/datasets/rating/ml_detail.csv', sep=',', encoding='latin-1')"
   ]
  },
  {
   "cell_type": "code",
   "execution_count": 3,
   "metadata": {},
   "outputs": [
    {
     "name": "stdout",
     "output_type": "stream",
     "text": [
      "<class 'pandas.core.frame.DataFrame'>\n",
      "RangeIndex: 93246 entries, 0 to 93245\n",
      "Data columns (total 7 columns):\n",
      " #   Column       Non-Null Count  Dtype \n",
      "---  ------       --------------  ----- \n",
      " 0   movie id     93246 non-null  object\n",
      " 1   user id      93246 non-null  object\n",
      " 2   rating       93246 non-null  int64 \n",
      " 3   content      93246 non-null  object\n",
      " 4   date         93246 non-null  object\n",
      " 5   movie index  93246 non-null  int64 \n",
      " 6   user index   93246 non-null  int64 \n",
      "dtypes: int64(3), object(4)\n",
      "memory usage: 5.0+ MB\n"
     ]
    }
   ],
   "source": [
    "ratings.info()"
   ]
  },
  {
   "cell_type": "code",
   "execution_count": 4,
   "metadata": {},
   "outputs": [
    {
     "data": {
      "text/plain": [
       "0       1614\n",
       "1       1577\n",
       "2       1513\n",
       "3       1466\n",
       "4       1420\n",
       "        ... \n",
       "1385       5\n",
       "1386       5\n",
       "1387       5\n",
       "1388       4\n",
       "1389       4\n",
       "Name: user index, Length: 1390, dtype: int64"
      ]
     },
     "execution_count": 4,
     "metadata": {},
     "output_type": "execute_result"
    }
   ],
   "source": [
    "ratings['user index'].value_counts()"
   ]
  },
  {
   "cell_type": "code",
   "execution_count": 5,
   "metadata": {},
   "outputs": [],
   "source": [
    "user_indexes = ratings['user index'].value_counts().index.tolist()"
   ]
  },
  {
   "cell_type": "code",
   "execution_count": 6,
   "metadata": {},
   "outputs": [
    {
     "name": "stdout",
     "output_type": "stream",
     "text": [
      "train: [    0     1     2 ... 93243 93244 93245], test: [   10    18    23 ... 93217 93234 93237]\n",
      "train: [    1     3     4 ... 93242 93243 93245], test: [    0     2     5 ... 93229 93241 93244]\n",
      "train: [    0     1     2 ... 93242 93244 93245], test: [    7    14    21 ... 93235 93240 93243]\n",
      "train: [    0     1     2 ... 93241 93243 93244], test: [    3     6     9 ... 93238 93242 93245]\n",
      "train: [    0     2     3 ... 93243 93244 93245], test: [    1     4    11 ... 93233 93236 93239]\n"
     ]
    }
   ],
   "source": [
    "from sklearn.model_selection import KFold\n",
    "kfold = KFold(5, shuffle=True)\n",
    "\n",
    "for train, test in kfold.split(ratings):\n",
    "\tprint('train: %s, test: %s' % (train, test))"
   ]
  },
  {
   "cell_type": "code",
   "execution_count": 7,
   "metadata": {},
   "outputs": [
    {
     "name": "stdout",
     "output_type": "stream",
     "text": [
      "<class 'pandas.core.frame.DataFrame'>\n"
     ]
    }
   ],
   "source": [
    "from sklearn.model_selection import KFold\n",
    "import os\n",
    "kfold = KFold(5, shuffle=True)\n",
    "print(type(ratings))\n",
    "os.makedirs('../../data/datasets/rating/kfold', exist_ok= True)\n",
    "i = 1\n",
    "for train_pos, test_pos in kfold.split(ratings):\n",
    "\ttrain = ratings.iloc[train_pos]\n",
    "\ttest = ratings.iloc[test_pos]\n",
    "\ttrain_path = '../../data/datasets/rating/kfold/' + 'u' + str(i) + '.base.csv'\n",
    "\ttrain.to_csv(train_path, sep=',', encoding='latin-1', index=False)\n",
    "\t\n",
    "\ttest_path = '../../data/datasets/rating/kfold/' + 'u' + str(i) + '.test.csv'\n",
    "\ttest.to_csv(test_path, sep=',', encoding='latin-1', index=False)\n",
    "\ti = i + 1\n",
    "    "
   ]
  }
 ],
 "metadata": {
  "interpreter": {
   "hash": "ac59ebe37160ed0dfa835113d9b8498d9f09ceb179beaac4002f036b9467c963"
  },
  "kernelspec": {
   "display_name": "Python 3.9.7 64-bit",
   "language": "python",
   "name": "python3"
  },
  "language_info": {
   "codemirror_mode": {
    "name": "ipython",
    "version": 3
   },
   "file_extension": ".py",
   "mimetype": "text/x-python",
   "name": "python",
   "nbconvert_exporter": "python",
   "pygments_lexer": "ipython3",
   "version": "3.9.7"
  },
  "orig_nbformat": 4
 },
 "nbformat": 4,
 "nbformat_minor": 2
}
