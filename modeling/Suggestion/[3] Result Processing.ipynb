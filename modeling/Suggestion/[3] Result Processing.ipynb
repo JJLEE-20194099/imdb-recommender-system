{
 "cells": [
  {
   "cell_type": "code",
   "execution_count": 2,
   "metadata": {},
   "outputs": [],
   "source": [
    "import pandas as pd\n",
    "import numpy as np"
   ]
  },
  {
   "cell_type": "code",
   "execution_count": 3,
   "metadata": {},
   "outputs": [
    {
     "data": {
      "text/html": [
       "<div>\n",
       "<style scoped>\n",
       "    .dataframe tbody tr th:only-of-type {\n",
       "        vertical-align: middle;\n",
       "    }\n",
       "\n",
       "    .dataframe tbody tr th {\n",
       "        vertical-align: top;\n",
       "    }\n",
       "\n",
       "    .dataframe thead th {\n",
       "        text-align: right;\n",
       "    }\n",
       "</style>\n",
       "<table border=\"1\" class=\"dataframe\">\n",
       "  <thead>\n",
       "    <tr style=\"text-align: right;\">\n",
       "      <th></th>\n",
       "      <th>movie index</th>\n",
       "      <th>user indexes</th>\n",
       "    </tr>\n",
       "  </thead>\n",
       "  <tbody>\n",
       "    <tr>\n",
       "      <th>0</th>\n",
       "      <td>0</td>\n",
       "      <td>39|79|83|91|97|103|120|125|131|167|168|172|186...</td>\n",
       "    </tr>\n",
       "    <tr>\n",
       "      <th>1</th>\n",
       "      <td>1</td>\n",
       "      <td>16|20|25|29|74|103|108|131|179|194|197|214|244...</td>\n",
       "    </tr>\n",
       "    <tr>\n",
       "      <th>2</th>\n",
       "      <td>2</td>\n",
       "      <td>2|39|58|63|64|79|97|103|110|114|120|121|125|13...</td>\n",
       "    </tr>\n",
       "    <tr>\n",
       "      <th>3</th>\n",
       "      <td>3</td>\n",
       "      <td>6|19|22|24|25|35|42|54|55|69|70|74|76|77|92|10...</td>\n",
       "    </tr>\n",
       "    <tr>\n",
       "      <th>4</th>\n",
       "      <td>4</td>\n",
       "      <td>NaN</td>\n",
       "    </tr>\n",
       "  </tbody>\n",
       "</table>\n",
       "</div>"
      ],
      "text/plain": [
       "   movie index                                       user indexes\n",
       "0            0  39|79|83|91|97|103|120|125|131|167|168|172|186...\n",
       "1            1  16|20|25|29|74|103|108|131|179|194|197|214|244...\n",
       "2            2  2|39|58|63|64|79|97|103|110|114|120|121|125|13...\n",
       "3            3  6|19|22|24|25|35|42|54|55|69|70|74|76|77|92|10...\n",
       "4            4                                                NaN"
      ]
     },
     "execution_count": 3,
     "metadata": {},
     "output_type": "execute_result"
    }
   ],
   "source": [
    "result = pd.read_csv('../../result/CF_suggest.csv', sep=',', encoding='latin-1')\n",
    "result.head()"
   ]
  },
  {
   "cell_type": "code",
   "execution_count": 4,
   "metadata": {},
   "outputs": [
    {
     "data": {
      "text/html": [
       "<div>\n",
       "<style scoped>\n",
       "    .dataframe tbody tr th:only-of-type {\n",
       "        vertical-align: middle;\n",
       "    }\n",
       "\n",
       "    .dataframe tbody tr th {\n",
       "        vertical-align: top;\n",
       "    }\n",
       "\n",
       "    .dataframe thead th {\n",
       "        text-align: right;\n",
       "    }\n",
       "</style>\n",
       "<table border=\"1\" class=\"dataframe\">\n",
       "  <thead>\n",
       "    <tr style=\"text-align: right;\">\n",
       "      <th></th>\n",
       "      <th>movie id</th>\n",
       "      <th>user id</th>\n",
       "      <th>rating</th>\n",
       "      <th>content</th>\n",
       "      <th>date</th>\n",
       "      <th>movie index</th>\n",
       "      <th>user index</th>\n",
       "    </tr>\n",
       "  </thead>\n",
       "  <tbody>\n",
       "    <tr>\n",
       "      <th>0</th>\n",
       "      <td>tt0102813</td>\n",
       "      <td>ur0391152</td>\n",
       "      <td>2</td>\n",
       "      <td>I've always had kind of a perverse curiosity a...</td>\n",
       "      <td>22 August 2010</td>\n",
       "      <td>6914</td>\n",
       "      <td>81</td>\n",
       "    </tr>\n",
       "    <tr>\n",
       "      <th>1</th>\n",
       "      <td>tt0387808</td>\n",
       "      <td>ur0391152</td>\n",
       "      <td>5</td>\n",
       "      <td>20th Century Fox was moronic not to release th...</td>\n",
       "      <td>6 November 2006</td>\n",
       "      <td>3393</td>\n",
       "      <td>81</td>\n",
       "    </tr>\n",
       "    <tr>\n",
       "      <th>2</th>\n",
       "      <td>tt0845046</td>\n",
       "      <td>ur0391152</td>\n",
       "      <td>5</td>\n",
       "      <td>It's the kind of movie that reminds me that th...</td>\n",
       "      <td>28 September 2008</td>\n",
       "      <td>3507</td>\n",
       "      <td>81</td>\n",
       "    </tr>\n",
       "    <tr>\n",
       "      <th>3</th>\n",
       "      <td>tt0113824</td>\n",
       "      <td>ur0391152</td>\n",
       "      <td>5</td>\n",
       "      <td>A very moving animÃ© film from Studio Ghibli, ...</td>\n",
       "      <td>29 September 2003</td>\n",
       "      <td>3181</td>\n",
       "      <td>81</td>\n",
       "    </tr>\n",
       "    <tr>\n",
       "      <th>4</th>\n",
       "      <td>tt0455538</td>\n",
       "      <td>ur0391152</td>\n",
       "      <td>2</td>\n",
       "      <td>Based on the autobiographical tale of writer T...</td>\n",
       "      <td>6 October 2008</td>\n",
       "      <td>4699</td>\n",
       "      <td>81</td>\n",
       "    </tr>\n",
       "  </tbody>\n",
       "</table>\n",
       "</div>"
      ],
      "text/plain": [
       "    movie id    user id  rating  \\\n",
       "0  tt0102813  ur0391152       2   \n",
       "1  tt0387808  ur0391152       5   \n",
       "2  tt0845046  ur0391152       5   \n",
       "3  tt0113824  ur0391152       5   \n",
       "4  tt0455538  ur0391152       2   \n",
       "\n",
       "                                             content               date  \\\n",
       "0  I've always had kind of a perverse curiosity a...     22 August 2010   \n",
       "1  20th Century Fox was moronic not to release th...    6 November 2006   \n",
       "2  It's the kind of movie that reminds me that th...  28 September 2008   \n",
       "3  A very moving animÃ© film from Studio Ghibli, ...  29 September 2003   \n",
       "4  Based on the autobiographical tale of writer T...     6 October 2008   \n",
       "\n",
       "   movie index  user index  \n",
       "0         6914          81  \n",
       "1         3393          81  \n",
       "2         3507          81  \n",
       "3         3181          81  \n",
       "4         4699          81  "
      ]
     },
     "execution_count": 4,
     "metadata": {},
     "output_type": "execute_result"
    }
   ],
   "source": [
    "ratings = pd.read_csv('../../data/datasets/rating/ml_detail.csv', sep=',', encoding='latin-1')\n",
    "ratings.head()"
   ]
  },
  {
   "cell_type": "code",
   "execution_count": 10,
   "metadata": {},
   "outputs": [],
   "source": [
    "result.dropna(subset=['user indexes'], inplace=True)"
   ]
  },
  {
   "cell_type": "code",
   "execution_count": null,
   "metadata": {},
   "outputs": [],
   "source": [
    "user_ids = []\n",
    "for user_group in result['user indexes']:\n",
    "    if (user_group != np.nan):\n",
    "        index_list = user_group.split('|')\n",
    "        id_list = []\n",
    "        for index in index_list:\n",
    "            index = int(index)\n",
    "            if (len(ratings[ratings['user index'] == index])):\n",
    "                id_list.append(ratings[ratings['user index'] == index]['user id'].tolist()[0])\n",
    "                \n",
    "        user_ids.append('|'.join(id_list))\n",
    "user_ids"
   ]
  },
  {
   "cell_type": "code",
   "execution_count": 28,
   "metadata": {},
   "outputs": [],
   "source": [
    "movie_ids = []\n",
    "for movie_index in result['movie index']:\n",
    "    if len(ratings[ratings['movie index'] == movie_index]):\n",
    "        movie_ids.append(ratings[ratings['movie index'] == movie_index]['movie id'].tolist()[0])"
   ]
  },
  {
   "cell_type": "code",
   "execution_count": 29,
   "metadata": {},
   "outputs": [],
   "source": [
    "s_dict = dict()\n",
    "for i in range(len(user_ids)):\n",
    "    user_id_list = user_ids[i].split(\"|\")\n",
    "    movie_id = movie_ids[i]\n",
    "    for user_id in user_id_list:\n",
    "        if user_id in s_dict:\n",
    "            s_dict.update({user_id: \"|\".join(s_dict[user_id].split(\"|\") + [movie_id])})\n",
    "        else:\n",
    "            s_dict.update({user_id: movie_id})"
   ]
  },
  {
   "cell_type": "code",
   "execution_count": 30,
   "metadata": {},
   "outputs": [],
   "source": [
    "re = pd.DataFrame(columns=['user id', 'movie id'])\n",
    "re['user id'] = list(s_dict.keys())\n",
    "re['movie id'] = list(s_dict.values())"
   ]
  },
  {
   "cell_type": "code",
   "execution_count": 38,
   "metadata": {},
   "outputs": [],
   "source": [
    "re.to_csv('../../result/CF/CF_suggest_user_movies.csv', sep=',', encoding='latin-1', index=False)"
   ]
  },
  {
   "cell_type": "code",
   "execution_count": 31,
   "metadata": {},
   "outputs": [],
   "source": [
    "history = pd.DataFrame(columns=['user id', 'movie id'])"
   ]
  },
  {
   "cell_type": "code",
   "execution_count": 32,
   "metadata": {},
   "outputs": [],
   "source": [
    "hs = []\n",
    "for user_id in re['user id']:\n",
    "    watched_movies = \"|\".join(ratings[ratings['user id'] == user_id]['movie id'].tolist())\n",
    "    hs.append(watched_movies)\n",
    "history['user id'] = re['user id']\n",
    "history['movie id'] = hs"
   ]
  },
  {
   "cell_type": "code",
   "execution_count": 37,
   "metadata": {},
   "outputs": [],
   "source": [
    "history.to_csv('../../result/CF/CF_history_user_movies.csv', sep=',', encoding='latin-1', index=False)"
   ]
  }
 ],
 "metadata": {
  "interpreter": {
   "hash": "ac59ebe37160ed0dfa835113d9b8498d9f09ceb179beaac4002f036b9467c963"
  },
  "kernelspec": {
   "display_name": "Python 3.9.7 64-bit",
   "language": "python",
   "name": "python3"
  },
  "language_info": {
   "codemirror_mode": {
    "name": "ipython",
    "version": 3
   },
   "file_extension": ".py",
   "mimetype": "text/x-python",
   "name": "python",
   "nbconvert_exporter": "python",
   "pygments_lexer": "ipython3",
   "version": "3.9.7"
  },
  "orig_nbformat": 4
 },
 "nbformat": 4,
 "nbformat_minor": 2
}
