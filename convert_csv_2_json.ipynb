{
 "cells": [
  {
   "cell_type": "code",
   "execution_count": 1,
   "metadata": {},
   "outputs": [],
   "source": [
    "import pandas as pd\n",
    "import numpy as np\n",
    "import json"
   ]
  },
  {
   "cell_type": "code",
   "execution_count": 4,
   "metadata": {},
   "outputs": [
    {
     "data": {
      "text/html": [
       "<div>\n",
       "<style scoped>\n",
       "    .dataframe tbody tr th:only-of-type {\n",
       "        vertical-align: middle;\n",
       "    }\n",
       "\n",
       "    .dataframe tbody tr th {\n",
       "        vertical-align: top;\n",
       "    }\n",
       "\n",
       "    .dataframe thead th {\n",
       "        text-align: right;\n",
       "    }\n",
       "</style>\n",
       "<table border=\"1\" class=\"dataframe\">\n",
       "  <thead>\n",
       "    <tr style=\"text-align: right;\">\n",
       "      <th></th>\n",
       "      <th>movie id</th>\n",
       "      <th>user id</th>\n",
       "      <th>rating</th>\n",
       "      <th>content</th>\n",
       "      <th>date</th>\n",
       "      <th>movie index</th>\n",
       "      <th>user index</th>\n",
       "      <th>text_lower</th>\n",
       "      <th>text_contraction_extract</th>\n",
       "      <th>text_wo_punct</th>\n",
       "    </tr>\n",
       "  </thead>\n",
       "  <tbody>\n",
       "    <tr>\n",
       "      <th>0</th>\n",
       "      <td>tt0102813</td>\n",
       "      <td>ur0391152</td>\n",
       "      <td>2</td>\n",
       "      <td>I've always had kind of a perverse curiosity a...</td>\n",
       "      <td>22 August 2010</td>\n",
       "      <td>6914</td>\n",
       "      <td>81</td>\n",
       "      <td>i've always had kind of a perverse curiosity a...</td>\n",
       "      <td>i have always had kind of a perverse curiosity...</td>\n",
       "      <td>i have always had kind of a perverse curiosity...</td>\n",
       "    </tr>\n",
       "    <tr>\n",
       "      <th>1</th>\n",
       "      <td>tt0387808</td>\n",
       "      <td>ur0391152</td>\n",
       "      <td>5</td>\n",
       "      <td>20th Century Fox was moronic not to release th...</td>\n",
       "      <td>6 November 2006</td>\n",
       "      <td>3393</td>\n",
       "      <td>81</td>\n",
       "      <td>20th century fox was moronic not to release th...</td>\n",
       "      <td>20th century fox was moronic not to release th...</td>\n",
       "      <td>20th century fox was moronic not to release th...</td>\n",
       "    </tr>\n",
       "    <tr>\n",
       "      <th>2</th>\n",
       "      <td>tt0845046</td>\n",
       "      <td>ur0391152</td>\n",
       "      <td>5</td>\n",
       "      <td>It's the kind of movie that reminds me that th...</td>\n",
       "      <td>28 September 2008</td>\n",
       "      <td>3507</td>\n",
       "      <td>81</td>\n",
       "      <td>it's the kind of movie that reminds me that th...</td>\n",
       "      <td>it is the kind of movie that reminds me that t...</td>\n",
       "      <td>it is the kind of movie that reminds me that t...</td>\n",
       "    </tr>\n",
       "    <tr>\n",
       "      <th>3</th>\n",
       "      <td>tt0113824</td>\n",
       "      <td>ur0391152</td>\n",
       "      <td>5</td>\n",
       "      <td>A very moving animÃ© film from Studio Ghibli, ...</td>\n",
       "      <td>29 September 2003</td>\n",
       "      <td>3181</td>\n",
       "      <td>81</td>\n",
       "      <td>a very moving animã© film from studio ghibli, ...</td>\n",
       "      <td>a very moving animã© film from studio ghibli, ...</td>\n",
       "      <td>a very moving animã© film from studio ghibli a...</td>\n",
       "    </tr>\n",
       "    <tr>\n",
       "      <th>4</th>\n",
       "      <td>tt0455538</td>\n",
       "      <td>ur0391152</td>\n",
       "      <td>2</td>\n",
       "      <td>Based on the autobiographical tale of writer T...</td>\n",
       "      <td>6 October 2008</td>\n",
       "      <td>4699</td>\n",
       "      <td>81</td>\n",
       "      <td>based on the autobiographical tale of writer t...</td>\n",
       "      <td>based on the autobiographical tale of writer t...</td>\n",
       "      <td>based on the autobiographical tale of writer t...</td>\n",
       "    </tr>\n",
       "  </tbody>\n",
       "</table>\n",
       "</div>"
      ],
      "text/plain": [
       "    movie id    user id  rating  \\\n",
       "0  tt0102813  ur0391152       2   \n",
       "1  tt0387808  ur0391152       5   \n",
       "2  tt0845046  ur0391152       5   \n",
       "3  tt0113824  ur0391152       5   \n",
       "4  tt0455538  ur0391152       2   \n",
       "\n",
       "                                             content               date  \\\n",
       "0  I've always had kind of a perverse curiosity a...     22 August 2010   \n",
       "1  20th Century Fox was moronic not to release th...    6 November 2006   \n",
       "2  It's the kind of movie that reminds me that th...  28 September 2008   \n",
       "3  A very moving animÃ© film from Studio Ghibli, ...  29 September 2003   \n",
       "4  Based on the autobiographical tale of writer T...     6 October 2008   \n",
       "\n",
       "   movie index  user index                                         text_lower  \\\n",
       "0         6914          81  i've always had kind of a perverse curiosity a...   \n",
       "1         3393          81  20th century fox was moronic not to release th...   \n",
       "2         3507          81  it's the kind of movie that reminds me that th...   \n",
       "3         3181          81  a very moving animã© film from studio ghibli, ...   \n",
       "4         4699          81  based on the autobiographical tale of writer t...   \n",
       "\n",
       "                            text_contraction_extract  \\\n",
       "0  i have always had kind of a perverse curiosity...   \n",
       "1  20th century fox was moronic not to release th...   \n",
       "2  it is the kind of movie that reminds me that t...   \n",
       "3  a very moving animã© film from studio ghibli, ...   \n",
       "4  based on the autobiographical tale of writer t...   \n",
       "\n",
       "                                       text_wo_punct  \n",
       "0  i have always had kind of a perverse curiosity...  \n",
       "1  20th century fox was moronic not to release th...  \n",
       "2  it is the kind of movie that reminds me that t...  \n",
       "3  a very moving animã© film from studio ghibli a...  \n",
       "4  based on the autobiographical tale of writer t...  "
      ]
     },
     "execution_count": 4,
     "metadata": {},
     "output_type": "execute_result"
    }
   ],
   "source": [
    "ratings = pd.read_csv('./data/datasets/rating/imdb_review_text_preprocessing.csv', sep=',', encoding='latin-1')\n",
    "ratings.head()"
   ]
  },
  {
   "cell_type": "code",
   "execution_count": 5,
   "metadata": {},
   "outputs": [
    {
     "data": {
      "text/plain": [
       "0        i have always had kind of a perverse curiosity...\n",
       "1        20th century fox was moronic not to release th...\n",
       "2        it is the kind of movie that reminds me that t...\n",
       "3        a very moving animã© film from studio ghibli a...\n",
       "4        based on the autobiographical tale of writer t...\n",
       "                               ...                        \n",
       "19995    i sat down to watch this movie with my 8 year ...\n",
       "19996    well well well with this 2020 tremors shrieker...\n",
       "19997    we will definitely need a bigger boat oh wait ...\n",
       "19998    i did not even know that this movie had been m...\n",
       "19999    annabelle was as pointless and ridiculous as i...\n",
       "Name: text_wo_punct, Length: 20000, dtype: object"
      ]
     },
     "execution_count": 5,
     "metadata": {},
     "output_type": "execute_result"
    }
   ],
   "source": [
    "ratings['text_wo_punct']"
   ]
  }
 ],
 "metadata": {
  "interpreter": {
   "hash": "ac59ebe37160ed0dfa835113d9b8498d9f09ceb179beaac4002f036b9467c963"
  },
  "kernelspec": {
   "display_name": "Python 3.9.7 64-bit",
   "language": "python",
   "name": "python3"
  },
  "language_info": {
   "codemirror_mode": {
    "name": "ipython",
    "version": 3
   },
   "file_extension": ".py",
   "mimetype": "text/x-python",
   "name": "python",
   "nbconvert_exporter": "python",
   "pygments_lexer": "ipython3",
   "version": "3.9.7"
  },
  "orig_nbformat": 4
 },
 "nbformat": 4,
 "nbformat_minor": 2
}
